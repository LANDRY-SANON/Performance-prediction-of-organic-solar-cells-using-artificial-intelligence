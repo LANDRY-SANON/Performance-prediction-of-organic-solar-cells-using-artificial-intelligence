{
 "cells": [
  {
   "cell_type": "code",
   "execution_count": 22,
   "metadata": {},
   "outputs": [],
   "source": [
    "import pandas as pd\n",
    "import numpy as np\n",
    "\n",
    "import matplotlib.pyplot as plt\n",
    "import seaborn as sns\n",
    "from ydata_profiling import ProfileReport\n",
    "\n",
    "#from rdkit import Chem\n",
    "#from rdkit.Chem.Draw import IPythonConsole\n",
    "#from rdkit.Chem import Draw\n",
    "\n",
    "import shap\n",
    "import xgboost as xgb\n",
    "from sklearn.tree import DecisionTreeRegressor\n",
    "from sklearn.ensemble import RandomForestRegressor\n",
    "from sklearn.neighbors import KNeighborsRegressor\n",
    "\n",
    "from sklearn.model_selection import train_test_split\n",
    "from sklearn.tree import DecisionTreeRegressor\n",
    "\n",
    "from sklearn.metrics import make_scorer ,mean_squared_error, mean_absolute_error, r2_score, explained_variance_score, max_error\n",
    "\n",
    "from scipy.stats import skew\n",
    "\n",
    "from sklearn.preprocessing import StandardScaler\n",
    "\n",
    "from sklearn.model_selection import train_test_split\n",
    "from sklearn.model_selection import cross_validate , cross_val_score\n",
    "\n",
    "from tqdm import tqdm"
   ]
  },
  {
   "cell_type": "code",
   "execution_count": 3,
   "metadata": {},
   "outputs": [],
   "source": [
    "data= pd.read_csv(\"data\\CEPDB_25000.csv\")"
   ]
  },
  {
   "cell_type": "code",
   "execution_count": 4,
   "metadata": {},
   "outputs": [
    {
     "data": {
      "text/html": [
       "<div>\n",
       "<style scoped>\n",
       "    .dataframe tbody tr th:only-of-type {\n",
       "        vertical-align: middle;\n",
       "    }\n",
       "\n",
       "    .dataframe tbody tr th {\n",
       "        vertical-align: top;\n",
       "    }\n",
       "\n",
       "    .dataframe thead th {\n",
       "        text-align: right;\n",
       "    }\n",
       "</style>\n",
       "<table border=\"1\" class=\"dataframe\">\n",
       "  <thead>\n",
       "    <tr style=\"text-align: right;\">\n",
       "      <th></th>\n",
       "      <th>id</th>\n",
       "      <th>SMILES_str</th>\n",
       "      <th>stoich_str</th>\n",
       "      <th>mass</th>\n",
       "      <th>pce</th>\n",
       "      <th>voc</th>\n",
       "      <th>jsc</th>\n",
       "      <th>e_homo_alpha</th>\n",
       "      <th>e_gap_alpha</th>\n",
       "      <th>e_lumo_alpha</th>\n",
       "      <th>tmp_smiles_str</th>\n",
       "      <th>ml_phase</th>\n",
       "    </tr>\n",
       "  </thead>\n",
       "  <tbody>\n",
       "    <tr>\n",
       "      <th>0</th>\n",
       "      <td>1503301</td>\n",
       "      <td>C1C=c2c-3c([SiH2]c4cc[nH]c-34)c3cnc(cc3c2=C1)-...</td>\n",
       "      <td>C21H13N5SSi</td>\n",
       "      <td>395.5207</td>\n",
       "      <td>8.236346</td>\n",
       "      <td>0.641905</td>\n",
       "      <td>197.474780</td>\n",
       "      <td>-5.241905</td>\n",
       "      <td>1.463722</td>\n",
       "      <td>-3.778183</td>\n",
       "      <td>[nH]1ccc2[SiH2]c3c(-c12)c1=CCC=c1c1cc(ncc31)-c...</td>\n",
       "      <td>train</td>\n",
       "    </tr>\n",
       "    <tr>\n",
       "      <th>1</th>\n",
       "      <td>2540778</td>\n",
       "      <td>[SiH2]1C=c2ccc3sc4c([nH]c5cc(-c6scc7C=C[SiH2]c...</td>\n",
       "      <td>C24H17NS2Si3</td>\n",
       "      <td>467.7953</td>\n",
       "      <td>5.738034</td>\n",
       "      <td>0.427601</td>\n",
       "      <td>206.524926</td>\n",
       "      <td>-5.027601</td>\n",
       "      <td>1.427000</td>\n",
       "      <td>-3.600601</td>\n",
       "      <td>[nH]1c2cc(-c3scc4C=C[SiH2]c34)c3=C[SiH2]C=c3c2...</td>\n",
       "      <td>train</td>\n",
       "    </tr>\n",
       "    <tr>\n",
       "      <th>2</th>\n",
       "      <td>615142</td>\n",
       "      <td>c1[nH]cc2c1ccc1cnc3cc4cc([se]c4cc3c21)-c1ncncn1</td>\n",
       "      <td>C20H11N5Se</td>\n",
       "      <td>400.3019</td>\n",
       "      <td>5.038762</td>\n",
       "      <td>0.873908</td>\n",
       "      <td>88.737230</td>\n",
       "      <td>-5.473908</td>\n",
       "      <td>2.042885</td>\n",
       "      <td>-3.431022</td>\n",
       "      <td>c1cc2cnc3cc4cc([se]c4cc3c2c2c[nH]cc12)-c1ncncn1</td>\n",
       "      <td>train</td>\n",
       "    </tr>\n",
       "    <tr>\n",
       "      <th>3</th>\n",
       "      <td>124449</td>\n",
       "      <td>C1C=c2c(cc3ccc4c5cnccc5c5cocc5c4c3c2=C1)-c1cccs1</td>\n",
       "      <td>C26H15NOS</td>\n",
       "      <td>389.4765</td>\n",
       "      <td>3.507048</td>\n",
       "      <td>0.732531</td>\n",
       "      <td>73.682314</td>\n",
       "      <td>-5.332531</td>\n",
       "      <td>2.162777</td>\n",
       "      <td>-3.169754</td>\n",
       "      <td>c1ccc(s1)-c1cc2ccc3c4cnccc4c4cocc4c3c2c2=CCC=c12</td>\n",
       "      <td>train</td>\n",
       "    </tr>\n",
       "    <tr>\n",
       "      <th>4</th>\n",
       "      <td>1008442</td>\n",
       "      <td>C1cc2ccc3sc4cc5ccc6c[SiH2]cc6c5cc4c3c2c1</td>\n",
       "      <td>C21H14SSi</td>\n",
       "      <td>326.4936</td>\n",
       "      <td>4.020859</td>\n",
       "      <td>0.630730</td>\n",
       "      <td>98.112205</td>\n",
       "      <td>-5.230730</td>\n",
       "      <td>1.978195</td>\n",
       "      <td>-3.252535</td>\n",
       "      <td>c1cc2sc3cc4ccc5c[SiH2]cc5c4cc3c2c2cCcc12</td>\n",
       "      <td>train</td>\n",
       "    </tr>\n",
       "  </tbody>\n",
       "</table>\n",
       "</div>"
      ],
      "text/plain": [
       "        id                                         SMILES_str    stoich_str  \\\n",
       "0  1503301  C1C=c2c-3c([SiH2]c4cc[nH]c-34)c3cnc(cc3c2=C1)-...   C21H13N5SSi   \n",
       "1  2540778  [SiH2]1C=c2ccc3sc4c([nH]c5cc(-c6scc7C=C[SiH2]c...  C24H17NS2Si3   \n",
       "2   615142    c1[nH]cc2c1ccc1cnc3cc4cc([se]c4cc3c21)-c1ncncn1    C20H11N5Se   \n",
       "3   124449   C1C=c2c(cc3ccc4c5cnccc5c5cocc5c4c3c2=C1)-c1cccs1     C26H15NOS   \n",
       "4  1008442           C1cc2ccc3sc4cc5ccc6c[SiH2]cc6c5cc4c3c2c1     C21H14SSi   \n",
       "\n",
       "       mass       pce       voc         jsc  e_homo_alpha  e_gap_alpha  \\\n",
       "0  395.5207  8.236346  0.641905  197.474780     -5.241905     1.463722   \n",
       "1  467.7953  5.738034  0.427601  206.524926     -5.027601     1.427000   \n",
       "2  400.3019  5.038762  0.873908   88.737230     -5.473908     2.042885   \n",
       "3  389.4765  3.507048  0.732531   73.682314     -5.332531     2.162777   \n",
       "4  326.4936  4.020859  0.630730   98.112205     -5.230730     1.978195   \n",
       "\n",
       "   e_lumo_alpha                                     tmp_smiles_str ml_phase  \n",
       "0     -3.778183  [nH]1ccc2[SiH2]c3c(-c12)c1=CCC=c1c1cc(ncc31)-c...    train  \n",
       "1     -3.600601  [nH]1c2cc(-c3scc4C=C[SiH2]c34)c3=C[SiH2]C=c3c2...    train  \n",
       "2     -3.431022    c1cc2cnc3cc4cc([se]c4cc3c2c2c[nH]cc12)-c1ncncn1    train  \n",
       "3     -3.169754   c1ccc(s1)-c1cc2ccc3c4cnccc4c4cocc4c3c2c2=CCC=c12    train  \n",
       "4     -3.252535           c1cc2sc3cc4ccc5c[SiH2]cc5c4cc3c2c2cCcc12    train  "
      ]
     },
     "execution_count": 4,
     "metadata": {},
     "output_type": "execute_result"
    }
   ],
   "source": [
    "data.head()"
   ]
  },
  {
   "cell_type": "code",
   "execution_count": 5,
   "metadata": {},
   "outputs": [
    {
     "data": {
      "text/plain": [
       "Index(['id', 'SMILES_str', 'stoich_str', 'mass', 'pce', 'voc', 'jsc',\n",
       "       'e_homo_alpha', 'e_gap_alpha', 'e_lumo_alpha', 'tmp_smiles_str',\n",
       "       'ml_phase'],\n",
       "      dtype='object')"
      ]
     },
     "execution_count": 5,
     "metadata": {},
     "output_type": "execute_result"
    }
   ],
   "source": [
    "data.columns"
   ]
  },
  {
   "cell_type": "code",
   "execution_count": 6,
   "metadata": {},
   "outputs": [],
   "source": [
    "data=data.drop([\"ml_phase\",\"id\"],axis=1)"
   ]
  },
  {
   "cell_type": "code",
   "execution_count": 7,
   "metadata": {},
   "outputs": [
    {
     "data": {
      "text/html": [
       "<div>\n",
       "<style scoped>\n",
       "    .dataframe tbody tr th:only-of-type {\n",
       "        vertical-align: middle;\n",
       "    }\n",
       "\n",
       "    .dataframe tbody tr th {\n",
       "        vertical-align: top;\n",
       "    }\n",
       "\n",
       "    .dataframe thead th {\n",
       "        text-align: right;\n",
       "    }\n",
       "</style>\n",
       "<table border=\"1\" class=\"dataframe\">\n",
       "  <thead>\n",
       "    <tr style=\"text-align: right;\">\n",
       "      <th></th>\n",
       "      <th>SMILES_str</th>\n",
       "      <th>stoich_str</th>\n",
       "      <th>mass</th>\n",
       "      <th>pce</th>\n",
       "      <th>voc</th>\n",
       "      <th>jsc</th>\n",
       "      <th>e_homo_alpha</th>\n",
       "      <th>e_gap_alpha</th>\n",
       "      <th>e_lumo_alpha</th>\n",
       "      <th>tmp_smiles_str</th>\n",
       "    </tr>\n",
       "  </thead>\n",
       "  <tbody>\n",
       "    <tr>\n",
       "      <th>0</th>\n",
       "      <td>C1C=c2c-3c([SiH2]c4cc[nH]c-34)c3cnc(cc3c2=C1)-...</td>\n",
       "      <td>C21H13N5SSi</td>\n",
       "      <td>395.5207</td>\n",
       "      <td>8.236346</td>\n",
       "      <td>0.641905</td>\n",
       "      <td>197.474780</td>\n",
       "      <td>-5.241905</td>\n",
       "      <td>1.463722</td>\n",
       "      <td>-3.778183</td>\n",
       "      <td>[nH]1ccc2[SiH2]c3c(-c12)c1=CCC=c1c1cc(ncc31)-c...</td>\n",
       "    </tr>\n",
       "    <tr>\n",
       "      <th>1</th>\n",
       "      <td>[SiH2]1C=c2ccc3sc4c([nH]c5cc(-c6scc7C=C[SiH2]c...</td>\n",
       "      <td>C24H17NS2Si3</td>\n",
       "      <td>467.7953</td>\n",
       "      <td>5.738034</td>\n",
       "      <td>0.427601</td>\n",
       "      <td>206.524926</td>\n",
       "      <td>-5.027601</td>\n",
       "      <td>1.427000</td>\n",
       "      <td>-3.600601</td>\n",
       "      <td>[nH]1c2cc(-c3scc4C=C[SiH2]c34)c3=C[SiH2]C=c3c2...</td>\n",
       "    </tr>\n",
       "    <tr>\n",
       "      <th>2</th>\n",
       "      <td>c1[nH]cc2c1ccc1cnc3cc4cc([se]c4cc3c21)-c1ncncn1</td>\n",
       "      <td>C20H11N5Se</td>\n",
       "      <td>400.3019</td>\n",
       "      <td>5.038762</td>\n",
       "      <td>0.873908</td>\n",
       "      <td>88.737230</td>\n",
       "      <td>-5.473908</td>\n",
       "      <td>2.042885</td>\n",
       "      <td>-3.431022</td>\n",
       "      <td>c1cc2cnc3cc4cc([se]c4cc3c2c2c[nH]cc12)-c1ncncn1</td>\n",
       "    </tr>\n",
       "    <tr>\n",
       "      <th>3</th>\n",
       "      <td>C1C=c2c(cc3ccc4c5cnccc5c5cocc5c4c3c2=C1)-c1cccs1</td>\n",
       "      <td>C26H15NOS</td>\n",
       "      <td>389.4765</td>\n",
       "      <td>3.507048</td>\n",
       "      <td>0.732531</td>\n",
       "      <td>73.682314</td>\n",
       "      <td>-5.332531</td>\n",
       "      <td>2.162777</td>\n",
       "      <td>-3.169754</td>\n",
       "      <td>c1ccc(s1)-c1cc2ccc3c4cnccc4c4cocc4c3c2c2=CCC=c12</td>\n",
       "    </tr>\n",
       "    <tr>\n",
       "      <th>4</th>\n",
       "      <td>C1cc2ccc3sc4cc5ccc6c[SiH2]cc6c5cc4c3c2c1</td>\n",
       "      <td>C21H14SSi</td>\n",
       "      <td>326.4936</td>\n",
       "      <td>4.020859</td>\n",
       "      <td>0.630730</td>\n",
       "      <td>98.112205</td>\n",
       "      <td>-5.230730</td>\n",
       "      <td>1.978195</td>\n",
       "      <td>-3.252535</td>\n",
       "      <td>c1cc2sc3cc4ccc5c[SiH2]cc5c4cc3c2c2cCcc12</td>\n",
       "    </tr>\n",
       "    <tr>\n",
       "      <th>...</th>\n",
       "      <td>...</td>\n",
       "      <td>...</td>\n",
       "      <td>...</td>\n",
       "      <td>...</td>\n",
       "      <td>...</td>\n",
       "      <td>...</td>\n",
       "      <td>...</td>\n",
       "      <td>...</td>\n",
       "      <td>...</td>\n",
       "      <td>...</td>\n",
       "    </tr>\n",
       "    <tr>\n",
       "      <th>24995</th>\n",
       "      <td>C1C=c2ccc3[SiH2]c4c([nH]c5cc(oc45)-c4scc5[SiH2...</td>\n",
       "      <td>C21H15NOSSi2</td>\n",
       "      <td>385.5935</td>\n",
       "      <td>2.045460</td>\n",
       "      <td>0.156053</td>\n",
       "      <td>201.727494</td>\n",
       "      <td>-4.756053</td>\n",
       "      <td>1.445501</td>\n",
       "      <td>-3.310552</td>\n",
       "      <td>[nH]1c-2c([SiH2]c3ccc4=CCC=c4c-23)c2oc(cc12)-c...</td>\n",
       "    </tr>\n",
       "    <tr>\n",
       "      <th>24996</th>\n",
       "      <td>C1C=c2ccc3cc4[se]c5C=C(Cc5c4cc3c2=C1)C1=CC=CC1</td>\n",
       "      <td>C23H16Se</td>\n",
       "      <td>371.3394</td>\n",
       "      <td>2.097438</td>\n",
       "      <td>0.292111</td>\n",
       "      <td>110.506690</td>\n",
       "      <td>-4.892111</td>\n",
       "      <td>1.901301</td>\n",
       "      <td>-2.990811</td>\n",
       "      <td>C1=CC=C(C1)C1=Cc2[se]c3cc4ccc5=CCC=c5c4cc3c2C1</td>\n",
       "    </tr>\n",
       "    <tr>\n",
       "      <th>24997</th>\n",
       "      <td>C1C=Cc2ccc3c(sc4cc(-c5nccs5)c5c[nH]cc5c34)c12</td>\n",
       "      <td>C20H12N2S2</td>\n",
       "      <td>344.4608</td>\n",
       "      <td>2.183358</td>\n",
       "      <td>0.434750</td>\n",
       "      <td>77.291785</td>\n",
       "      <td>-5.034750</td>\n",
       "      <td>2.132758</td>\n",
       "      <td>-2.901991</td>\n",
       "      <td>C1=Cc2ccc3c(sc4cc(-c5nccs5)c5c[nH]cc5c34)c2C1</td>\n",
       "    </tr>\n",
       "    <tr>\n",
       "      <th>24998</th>\n",
       "      <td>c-1c[s]-c2c-1ccc1c3ncccc3c3ccccc3c21</td>\n",
       "      <td>C19H11NS</td>\n",
       "      <td>285.3689</td>\n",
       "      <td>0.486618</td>\n",
       "      <td>1.304193</td>\n",
       "      <td>5.742402</td>\n",
       "      <td>-5.904193</td>\n",
       "      <td>3.278545</td>\n",
       "      <td>-2.625648</td>\n",
       "      <td>c1c-c2ccc3c4ncccc4c4ccccc4c3c2-[s]1</td>\n",
       "    </tr>\n",
       "    <tr>\n",
       "      <th>24999</th>\n",
       "      <td>C1ccc2c1c(sc2-c1ccc(cn1)-c1ccccn1)-c1scc2ccsc12</td>\n",
       "      <td>C23H14N2S3</td>\n",
       "      <td>414.5756</td>\n",
       "      <td>2.848326</td>\n",
       "      <td>0.580827</td>\n",
       "      <td>75.472806</td>\n",
       "      <td>-5.180827</td>\n",
       "      <td>2.147140</td>\n",
       "      <td>-3.033687</td>\n",
       "      <td>c1sc(-c2sc(-c3ccc(cn3)-c3ccccn3)c3ccCc23)c2sccc12</td>\n",
       "    </tr>\n",
       "  </tbody>\n",
       "</table>\n",
       "<p>25000 rows × 10 columns</p>\n",
       "</div>"
      ],
      "text/plain": [
       "                                              SMILES_str    stoich_str  \\\n",
       "0      C1C=c2c-3c([SiH2]c4cc[nH]c-34)c3cnc(cc3c2=C1)-...   C21H13N5SSi   \n",
       "1      [SiH2]1C=c2ccc3sc4c([nH]c5cc(-c6scc7C=C[SiH2]c...  C24H17NS2Si3   \n",
       "2        c1[nH]cc2c1ccc1cnc3cc4cc([se]c4cc3c21)-c1ncncn1    C20H11N5Se   \n",
       "3       C1C=c2c(cc3ccc4c5cnccc5c5cocc5c4c3c2=C1)-c1cccs1     C26H15NOS   \n",
       "4               C1cc2ccc3sc4cc5ccc6c[SiH2]cc6c5cc4c3c2c1     C21H14SSi   \n",
       "...                                                  ...           ...   \n",
       "24995  C1C=c2ccc3[SiH2]c4c([nH]c5cc(oc45)-c4scc5[SiH2...  C21H15NOSSi2   \n",
       "24996     C1C=c2ccc3cc4[se]c5C=C(Cc5c4cc3c2=C1)C1=CC=CC1      C23H16Se   \n",
       "24997      C1C=Cc2ccc3c(sc4cc(-c5nccs5)c5c[nH]cc5c34)c12    C20H12N2S2   \n",
       "24998               c-1c[s]-c2c-1ccc1c3ncccc3c3ccccc3c21      C19H11NS   \n",
       "24999    C1ccc2c1c(sc2-c1ccc(cn1)-c1ccccn1)-c1scc2ccsc12    C23H14N2S3   \n",
       "\n",
       "           mass       pce       voc         jsc  e_homo_alpha  e_gap_alpha  \\\n",
       "0      395.5207  8.236346  0.641905  197.474780     -5.241905     1.463722   \n",
       "1      467.7953  5.738034  0.427601  206.524926     -5.027601     1.427000   \n",
       "2      400.3019  5.038762  0.873908   88.737230     -5.473908     2.042885   \n",
       "3      389.4765  3.507048  0.732531   73.682314     -5.332531     2.162777   \n",
       "4      326.4936  4.020859  0.630730   98.112205     -5.230730     1.978195   \n",
       "...         ...       ...       ...         ...           ...          ...   \n",
       "24995  385.5935  2.045460  0.156053  201.727494     -4.756053     1.445501   \n",
       "24996  371.3394  2.097438  0.292111  110.506690     -4.892111     1.901301   \n",
       "24997  344.4608  2.183358  0.434750   77.291785     -5.034750     2.132758   \n",
       "24998  285.3689  0.486618  1.304193    5.742402     -5.904193     3.278545   \n",
       "24999  414.5756  2.848326  0.580827   75.472806     -5.180827     2.147140   \n",
       "\n",
       "       e_lumo_alpha                                     tmp_smiles_str  \n",
       "0         -3.778183  [nH]1ccc2[SiH2]c3c(-c12)c1=CCC=c1c1cc(ncc31)-c...  \n",
       "1         -3.600601  [nH]1c2cc(-c3scc4C=C[SiH2]c34)c3=C[SiH2]C=c3c2...  \n",
       "2         -3.431022    c1cc2cnc3cc4cc([se]c4cc3c2c2c[nH]cc12)-c1ncncn1  \n",
       "3         -3.169754   c1ccc(s1)-c1cc2ccc3c4cnccc4c4cocc4c3c2c2=CCC=c12  \n",
       "4         -3.252535           c1cc2sc3cc4ccc5c[SiH2]cc5c4cc3c2c2cCcc12  \n",
       "...             ...                                                ...  \n",
       "24995     -3.310552  [nH]1c-2c([SiH2]c3ccc4=CCC=c4c-23)c2oc(cc12)-c...  \n",
       "24996     -2.990811     C1=CC=C(C1)C1=Cc2[se]c3cc4ccc5=CCC=c5c4cc3c2C1  \n",
       "24997     -2.901991      C1=Cc2ccc3c(sc4cc(-c5nccs5)c5c[nH]cc5c34)c2C1  \n",
       "24998     -2.625648                c1c-c2ccc3c4ncccc4c4ccccc4c3c2-[s]1  \n",
       "24999     -3.033687  c1sc(-c2sc(-c3ccc(cn3)-c3ccccn3)c3ccCc23)c2sccc12  \n",
       "\n",
       "[25000 rows x 10 columns]"
      ]
     },
     "execution_count": 7,
     "metadata": {},
     "output_type": "execute_result"
    }
   ],
   "source": [
    "data"
   ]
  },
  {
   "cell_type": "markdown",
   "metadata": {},
   "source": [
    "# Data Cleaning\n",
    "\n",
    "\n",
    "This dataset was already maximally pre-processed (https://www.repository.cam.ac.uk/handle/1810/318115) and stratified sampling was then applied to derive a set of 25,000 candidate CSO donors for computational reasons"
   ]
  },
  {
   "cell_type": "code",
   "execution_count": 8,
   "metadata": {},
   "outputs": [
    {
     "data": {
      "text/plain": [
       "0        [nH]1ccc2[SiH2]c3c(-c12)c1=CCC=c1c1cc(ncc31)-c...\n",
       "1        [nH]1c2cc(-c3scc4C=C[SiH2]c34)c3=C[SiH2]C=c3c2...\n",
       "2          c1cc2cnc3cc4cc([se]c4cc3c2c2c[nH]cc12)-c1ncncn1\n",
       "3         c1ccc(s1)-c1cc2ccc3c4cnccc4c4cocc4c3c2c2=CCC=c12\n",
       "4                 c1cc2sc3cc4ccc5c[SiH2]cc5c4cc3c2c2cCcc12\n",
       "                               ...                        \n",
       "24995    [nH]1c-2c([SiH2]c3ccc4=CCC=c4c-23)c2oc(cc12)-c...\n",
       "24996       C1=CC=C(C1)C1=Cc2[se]c3cc4ccc5=CCC=c5c4cc3c2C1\n",
       "24997        C1=Cc2ccc3c(sc4cc(-c5nccs5)c5c[nH]cc5c34)c2C1\n",
       "24998                  c1c-c2ccc3c4ncccc4c4ccccc4c3c2-[s]1\n",
       "24999    c1sc(-c2sc(-c3ccc(cn3)-c3ccccn3)c3ccCc23)c2sccc12\n",
       "Name: tmp_smiles_str, Length: 25000, dtype: object"
      ]
     },
     "execution_count": 8,
     "metadata": {},
     "output_type": "execute_result"
    }
   ],
   "source": [
    "data.tmp_smiles_str"
   ]
  },
  {
   "cell_type": "markdown",
   "metadata": {},
   "source": [
    "# Information about dataset\n",
    "* Distribution of reported PCE\n",
    "* Schematics of expressions of somes molecules"
   ]
  },
  {
   "cell_type": "code",
   "execution_count": 9,
   "metadata": {},
   "outputs": [
    {
     "data": {
      "text/html": [
       "<div>\n",
       "<style scoped>\n",
       "    .dataframe tbody tr th:only-of-type {\n",
       "        vertical-align: middle;\n",
       "    }\n",
       "\n",
       "    .dataframe tbody tr th {\n",
       "        vertical-align: top;\n",
       "    }\n",
       "\n",
       "    .dataframe thead th {\n",
       "        text-align: right;\n",
       "    }\n",
       "</style>\n",
       "<table border=\"1\" class=\"dataframe\">\n",
       "  <thead>\n",
       "    <tr style=\"text-align: right;\">\n",
       "      <th></th>\n",
       "      <th>mass</th>\n",
       "      <th>pce</th>\n",
       "      <th>voc</th>\n",
       "      <th>jsc</th>\n",
       "      <th>e_homo_alpha</th>\n",
       "      <th>e_gap_alpha</th>\n",
       "      <th>e_lumo_alpha</th>\n",
       "    </tr>\n",
       "  </thead>\n",
       "  <tbody>\n",
       "    <tr>\n",
       "      <th>count</th>\n",
       "      <td>25000.000000</td>\n",
       "      <td>25000.000000</td>\n",
       "      <td>25000.000000</td>\n",
       "      <td>25000.000000</td>\n",
       "      <td>25000.000000</td>\n",
       "      <td>25000.000000</td>\n",
       "      <td>25000.000000</td>\n",
       "    </tr>\n",
       "    <tr>\n",
       "      <th>mean</th>\n",
       "      <td>415.560570</td>\n",
       "      <td>4.126613</td>\n",
       "      <td>0.579165</td>\n",
       "      <td>123.320601</td>\n",
       "      <td>-5.179165</td>\n",
       "      <td>1.895249</td>\n",
       "      <td>-3.283916</td>\n",
       "    </tr>\n",
       "    <tr>\n",
       "      <th>std</th>\n",
       "      <td>59.575976</td>\n",
       "      <td>2.407685</td>\n",
       "      <td>0.285351</td>\n",
       "      <td>64.269393</td>\n",
       "      <td>0.285351</td>\n",
       "      <td>0.396566</td>\n",
       "      <td>0.366131</td>\n",
       "    </tr>\n",
       "    <tr>\n",
       "      <th>min</th>\n",
       "      <td>172.186200</td>\n",
       "      <td>0.000109</td>\n",
       "      <td>0.000012</td>\n",
       "      <td>3.882689</td>\n",
       "      <td>-6.496841</td>\n",
       "      <td>0.799452</td>\n",
       "      <td>-3.999917</td>\n",
       "    </tr>\n",
       "    <tr>\n",
       "      <th>25%</th>\n",
       "      <td>379.437700</td>\n",
       "      <td>2.247589</td>\n",
       "      <td>0.373424</td>\n",
       "      <td>72.329945</td>\n",
       "      <td>-5.361342</td>\n",
       "      <td>1.607647</td>\n",
       "      <td>-3.568905</td>\n",
       "    </tr>\n",
       "    <tr>\n",
       "      <th>50%</th>\n",
       "      <td>415.558800</td>\n",
       "      <td>3.582067</td>\n",
       "      <td>0.555968</td>\n",
       "      <td>114.218791</td>\n",
       "      <td>-5.155968</td>\n",
       "      <td>1.877308</td>\n",
       "      <td>-3.278469</td>\n",
       "    </tr>\n",
       "    <tr>\n",
       "      <th>75%</th>\n",
       "      <td>455.588700</td>\n",
       "      <td>5.739375</td>\n",
       "      <td>0.761342</td>\n",
       "      <td>164.150991</td>\n",
       "      <td>-4.973424</td>\n",
       "      <td>2.172793</td>\n",
       "      <td>-3.013955</td>\n",
       "    </tr>\n",
       "    <tr>\n",
       "      <th>max</th>\n",
       "      <td>639.465000</td>\n",
       "      <td>11.097616</td>\n",
       "      <td>1.896841</td>\n",
       "      <td>354.253069</td>\n",
       "      <td>-4.600012</td>\n",
       "      <td>3.402620</td>\n",
       "      <td>-1.629426</td>\n",
       "    </tr>\n",
       "  </tbody>\n",
       "</table>\n",
       "</div>"
      ],
      "text/plain": [
       "               mass           pce           voc           jsc  e_homo_alpha  \\\n",
       "count  25000.000000  25000.000000  25000.000000  25000.000000  25000.000000   \n",
       "mean     415.560570      4.126613      0.579165    123.320601     -5.179165   \n",
       "std       59.575976      2.407685      0.285351     64.269393      0.285351   \n",
       "min      172.186200      0.000109      0.000012      3.882689     -6.496841   \n",
       "25%      379.437700      2.247589      0.373424     72.329945     -5.361342   \n",
       "50%      415.558800      3.582067      0.555968    114.218791     -5.155968   \n",
       "75%      455.588700      5.739375      0.761342    164.150991     -4.973424   \n",
       "max      639.465000     11.097616      1.896841    354.253069     -4.600012   \n",
       "\n",
       "        e_gap_alpha  e_lumo_alpha  \n",
       "count  25000.000000  25000.000000  \n",
       "mean       1.895249     -3.283916  \n",
       "std        0.396566      0.366131  \n",
       "min        0.799452     -3.999917  \n",
       "25%        1.607647     -3.568905  \n",
       "50%        1.877308     -3.278469  \n",
       "75%        2.172793     -3.013955  \n",
       "max        3.402620     -1.629426  "
      ]
     },
     "execution_count": 9,
     "metadata": {},
     "output_type": "execute_result"
    }
   ],
   "source": [
    "data.describe()"
   ]
  },
  {
   "cell_type": "code",
   "execution_count": 10,
   "metadata": {},
   "outputs": [
    {
     "data": {
      "image/png": "[encoded data removed]",
      "text/plain": [
       "<Figure size 640x480 with 1 Axes>"
      ]
     },
     "metadata": {},
     "output_type": "display_data"
    }
   ],
   "source": [
    "data['pce_pair'] = pd.cut(data['pce'], bins=[0, 2, 4, 6, 8, 10,12])\n",
    "pce_count = data.groupby('pce_pair').size()\n",
    "\n",
    "colors = plt.cm.tab10(np.arange(len(pce_count)))\n",
    "\n",
    "plt.bar(pce_count.index.astype(str), pce_count.values, color=colors)\n",
    "plt.xlabel('PCE%')\n",
    "plt.ylabel('Count')\n",
    "plt.show()\n",
    "\n"
   ]
  },
  {
   "cell_type": "code",
   "execution_count": 10,
   "metadata": {},
   "outputs": [],
   "source": [
    "#print(data['SMILES_str'][0])\n",
    "#Chem.MolFromSmiles(data['SMILES_str'][0])"
   ]
  },
  {
   "cell_type": "markdown",
   "metadata": {},
   "source": [
    "* Additionals informations"
   ]
  },
  {
   "cell_type": "code",
   "execution_count": 11,
   "metadata": {},
   "outputs": [
    {
     "data": {
      "application/vnd.jupyter.widget-view+json": {
       "model_id": "8a80d1344bd545bd801b16825cb9f280",
       "version_major": 2,
       "version_minor": 0
      },
      "text/plain": [
       "Summarize dataset:   0%|          | 0/5 [00:00<?, ?it/s]"
      ]
     },
     "metadata": {},
     "output_type": "display_data"
    },
    {
     "data": {
      "application/vnd.jupyter.widget-view+json": {
       "model_id": "f436006caa1343f4874123f7fbccc4ff",
       "version_major": 2,
       "version_minor": 0
      },
      "text/plain": [
       "Generate report structure:   0%|          | 0/1 [00:00<?, ?it/s]"
      ]
     },
     "metadata": {},
     "output_type": "display_data"
    },
    {
     "data": {
      "application/vnd.jupyter.widget-view+json": {
       "model_id": "f214999bd57d4589865bb59dfcdbac6a",
       "version_major": 2,
       "version_minor": 0
      },
      "text/plain": [
       "Render HTML:   0%|          | 0/1 [00:00<?, ?it/s]"
      ]
     },
     "metadata": {},
     "output_type": "display_data"
    },
    {
     "data": {
      "application/vnd.jupyter.widget-view+json": {
       "model_id": "7c88e1ec554f4b09b353e4aa5e878543",
       "version_major": 2,
       "version_minor": 0
      },
      "text/plain": [
       "Export report to file:   0%|          | 0/1 [00:00<?, ?it/s]"
      ]
     },
     "metadata": {},
     "output_type": "display_data"
    }
   ],
   "source": [
    "profile = ProfileReport(\n",
    "    data,\n",
    "    title=\"Profiling Report\",\n",
    "    html={'style':{'full_width':True}}\n",
    ")\n",
    "\n",
    "profile.to_file(output_file = \"data-profile.html\")"
   ]
  },
  {
   "cell_type": "markdown",
   "metadata": {},
   "source": [
    "# Feature Engineering"
   ]
  },
  {
   "cell_type": "code",
   "execution_count": 11,
   "metadata": {
    "scrolled": true
   },
   "outputs": [
    {
     "name": "stderr",
     "output_type": "stream",
     "text": [
      "The default value of numeric_only in DataFrame.corr is deprecated. In a future version, it will default to False. Select only valid columns or specify the value of numeric_only to silence this warning.\n"
     ]
    },
    {
     "data": {
      "image/png": "[encoded data removed]",
      "text/plain": [
       "<Figure size 640x480 with 2 Axes>"
      ]
     },
     "metadata": {},
     "output_type": "display_data"
    }
   ],
   "source": [
    "corr_matrix = data.corr()\n",
    "sns.heatmap(corr_matrix, cmap='coolwarm', annot=True)\n",
    "plt.show()"
   ]
  },
  {
   "cell_type": "markdown",
   "metadata": {},
   "source": [
    "Feature importance using SHAP values based on\n",
    "\n",
    "* XGBoost\n",
    "* Random Forest\n",
    "* Desicion Trees\n",
    "* K-nearest neighbors"
   ]
  },
  {
   "cell_type": "code",
   "execution_count": 12,
   "metadata": {},
   "outputs": [],
   "source": [
    "X=data.drop([\"SMILES_str\",\"stoich_str\",\"pce\",\"tmp_smiles_str\",\"pce_pair\"],axis=1)\n",
    "y=data[\"pce\"]"
   ]
  },
  {
   "cell_type": "code",
   "execution_count": 14,
   "metadata": {},
   "outputs": [
    {
     "name": "stderr",
     "output_type": "stream",
     "text": [
      "ntree_limit is deprecated, use `iteration_range` or model slicing instead.\n"
     ]
    },
    {
     "data": {
      "image/png": "[encoded data removed]",
      "text/plain": [
       "<Figure size 800x390 with 1 Axes>"
      ]
     },
     "metadata": {},
     "output_type": "display_data"
    }
   ],
   "source": [
    "# With XGBOOST\n",
    "model = xgb.XGBRegressor(objective='reg:squarederror')\n",
    "model.fit(X, y)\n",
    "\n",
    "explainer = shap.Explainer(model)\n",
    "shap_values = explainer(X)\n",
    "\n",
    "shap.summary_plot(shap_values, X, plot_type='bar', show=False)"
   ]
  },
  {
   "cell_type": "code",
   "execution_count": 15,
   "metadata": {},
   "outputs": [],
   "source": [
    "# With Random Forest\n",
    "#from sklearn.ensemble import RandomForestRegressor\n",
    "\n",
    "# Instantiate rf\n",
    "#rf = RandomForestRegressor(n_estimators=25,random_state=2)\n",
    "            \n",
    "# Fit rf to the training set    \n",
    "#rf.fit(X, y) \n",
    "\n",
    "# Create a SHAP object by using TreeExplainer\n",
    "#explainer = shap.TreeExplainer(rf)\n",
    "\n",
    "# Call the explain method by using entry data\n",
    "#shap_values = explainer(X)\n",
    "\n",
    "# Display a barplot which show the importance of each features\n",
    "#shap.summary_plot(shap_values, X, plot_type='bar', show=False)\n"
   ]
  },
  {
   "cell_type": "code",
   "execution_count": 16,
   "metadata": {},
   "outputs": [
    {
     "data": {
      "image/png": "[encoded data removed]",
      "text/plain": [
       "<Figure size 800x390 with 1 Axes>"
      ]
     },
     "metadata": {},
     "output_type": "display_data"
    }
   ],
   "source": [
    "# With decesionTree\n",
    "from sklearn.tree import DecisionTreeRegressor\n",
    "# Entraînement du modèle\n",
    "model = DecisionTreeRegressor(random_state=0)\n",
    "model.fit(X, y)\n",
    "\n",
    "# Calcul des valeurs d'importance avec SHAP\n",
    "explainer = shap.Explainer(model)\n",
    "shap_values = explainer(X)\n",
    "\n",
    "# Identificaton des features à supprimer\n",
    "#feature_importance = shap_values.mean(axis=0)\n",
    "#least_important = feature_importance.argsort()[:5]\n",
    "\n",
    "# Display a barplot which show the importance of each features\n",
    "shap.summary_plot(shap_values, X, plot_type='bar', show=False)\n"
   ]
  },
  {
   "cell_type": "code",
   "execution_count": 17,
   "metadata": {},
   "outputs": [
    {
     "name": "stderr",
     "output_type": "stream",
     "text": [
      "Exact explainer:  11%|██████▊                                                     | 2820/25000 [01:35<13:24, 27.57it/s]\n",
      "\"is\" with a literal. Did you mean \"==\"?\n",
      "\"is\" with a literal. Did you mean \"==\"?\n",
      "\"is\" with a literal. Did you mean \"==\"?\n",
      "\"is\" with a literal. Did you mean \"==\"?\n",
      "\"is\" with a literal. Did you mean \"==\"?\n",
      "\"is\" with a literal. Did you mean \"==\"?\n",
      "\"is\" with a literal. Did you mean \"==\"?\n",
      "\"is\" with a literal. Did you mean \"==\"?\n",
      "\"is\" with a literal. Did you mean \"==\"?\n",
      "\"is\" with a literal. Did you mean \"==\"?\n",
      "\"is\" with a literal. Did you mean \"==\"?\n",
      "\"is\" with a literal. Did you mean \"==\"?\n",
      "\"is\" with a literal. Did you mean \"==\"?\n",
      "\"is\" with a literal. Did you mean \"==\"?\n",
      "\"is\" with a literal. Did you mean \"==\"?\n",
      "\"is\" with a literal. Did you mean \"==\"?\n",
      "\"is\" with a literal. Did you mean \"==\"?\n",
      "\"is\" with a literal. Did you mean \"==\"?\n",
      "\"is\" with a literal. Did you mean \"==\"?\n",
      "\"is\" with a literal. Did you mean \"==\"?\n"
     ]
    },
    {
     "ename": "KeyboardInterrupt",
     "evalue": "",
     "output_type": "error",
     "traceback": [
      "\u001b[1;31m---------------------------------------------------------------------------\u001b[0m",
      "\u001b[1;31mKeyboardInterrupt\u001b[0m                         Traceback (most recent call last)",
      "Cell \u001b[1;32mIn[17], line 12\u001b[0m\n\u001b[0;32m     10\u001b[0m \u001b[38;5;66;03m# Calcul des valeurs d'importance avec SHAP\u001b[39;00m\n\u001b[0;32m     11\u001b[0m explainer \u001b[38;5;241m=\u001b[39m shap\u001b[38;5;241m.\u001b[39mExplainer(model\u001b[38;5;241m.\u001b[39mpredict, X)\n\u001b[1;32m---> 12\u001b[0m shap_values \u001b[38;5;241m=\u001b[39m \u001b[43mexplainer\u001b[49m\u001b[43m(\u001b[49m\u001b[43mX\u001b[49m\u001b[43m)\u001b[49m\n\u001b[0;32m     15\u001b[0m \u001b[38;5;66;03m# Display a barplot which show the importance of each features\u001b[39;00m\n\u001b[0;32m     16\u001b[0m shap\u001b[38;5;241m.\u001b[39msummary_plot(shap_values, X, plot_type\u001b[38;5;241m=\u001b[39m\u001b[38;5;124m'\u001b[39m\u001b[38;5;124mbar\u001b[39m\u001b[38;5;124m'\u001b[39m, show\u001b[38;5;241m=\u001b[39m\u001b[38;5;28;01mFalse\u001b[39;00m)\n",
      "File \u001b[1;32m~\\anaconda3\\envs\\IA_Course\\lib\\site-packages\\shap\\explainers\\_exact.py:69\u001b[0m, in \u001b[0;36mExact.__call__\u001b[1;34m(self, max_evals, main_effects, error_bounds, batch_size, interactions, silent, *args)\u001b[0m\n\u001b[0;32m     64\u001b[0m \u001b[38;5;124;03m\"\"\" Explains the output of model(*args), where args represents one or more parallel iterators.\u001b[39;00m\n\u001b[0;32m     65\u001b[0m \u001b[38;5;124;03m\"\"\"\u001b[39;00m\n\u001b[0;32m     67\u001b[0m \u001b[38;5;66;03m# we entirely rely on the general call implementation, we override just to remove **kwargs\u001b[39;00m\n\u001b[0;32m     68\u001b[0m \u001b[38;5;66;03m# from the function signature\u001b[39;00m\n\u001b[1;32m---> 69\u001b[0m \u001b[38;5;28;01mreturn\u001b[39;00m \u001b[38;5;28;43msuper\u001b[39;49m\u001b[43m(\u001b[49m\u001b[43mExact\u001b[49m\u001b[43m,\u001b[49m\u001b[43m \u001b[49m\u001b[38;5;28;43mself\u001b[39;49m\u001b[43m)\u001b[49m\u001b[38;5;241;43m.\u001b[39;49m\u001b[38;5;21;43m__call__\u001b[39;49m\u001b[43m(\u001b[49m\n\u001b[0;32m     70\u001b[0m \u001b[43m    \u001b[49m\u001b[38;5;241;43m*\u001b[39;49m\u001b[43margs\u001b[49m\u001b[43m,\u001b[49m\u001b[43m \u001b[49m\u001b[43mmax_evals\u001b[49m\u001b[38;5;241;43m=\u001b[39;49m\u001b[43mmax_evals\u001b[49m\u001b[43m,\u001b[49m\u001b[43m \u001b[49m\u001b[43mmain_effects\u001b[49m\u001b[38;5;241;43m=\u001b[39;49m\u001b[43mmain_effects\u001b[49m\u001b[43m,\u001b[49m\u001b[43m \u001b[49m\u001b[43merror_bounds\u001b[49m\u001b[38;5;241;43m=\u001b[39;49m\u001b[43merror_bounds\u001b[49m\u001b[43m,\u001b[49m\n\u001b[0;32m     71\u001b[0m \u001b[43m    \u001b[49m\u001b[43mbatch_size\u001b[49m\u001b[38;5;241;43m=\u001b[39;49m\u001b[43mbatch_size\u001b[49m\u001b[43m,\u001b[49m\u001b[43m \u001b[49m\u001b[43minteractions\u001b[49m\u001b[38;5;241;43m=\u001b[39;49m\u001b[43minteractions\u001b[49m\u001b[43m,\u001b[49m\u001b[43m \u001b[49m\u001b[43msilent\u001b[49m\u001b[38;5;241;43m=\u001b[39;49m\u001b[43msilent\u001b[49m\n\u001b[0;32m     72\u001b[0m \u001b[43m\u001b[49m\u001b[43m)\u001b[49m\n",
      "File \u001b[1;32m~\\anaconda3\\envs\\IA_Course\\lib\\site-packages\\shap\\explainers\\_explainer.py:266\u001b[0m, in \u001b[0;36mExplainer.__call__\u001b[1;34m(self, max_evals, main_effects, error_bounds, batch_size, outputs, silent, *args, **kwargs)\u001b[0m\n\u001b[0;32m    264\u001b[0m     feature_names \u001b[38;5;241m=\u001b[39m [[] \u001b[38;5;28;01mfor\u001b[39;00m _ \u001b[38;5;129;01min\u001b[39;00m \u001b[38;5;28mrange\u001b[39m(\u001b[38;5;28mlen\u001b[39m(args))]\n\u001b[0;32m    265\u001b[0m \u001b[38;5;28;01mfor\u001b[39;00m row_args \u001b[38;5;129;01min\u001b[39;00m show_progress(\u001b[38;5;28mzip\u001b[39m(\u001b[38;5;241m*\u001b[39margs), num_rows, \u001b[38;5;28mself\u001b[39m\u001b[38;5;241m.\u001b[39m\u001b[38;5;18m__class__\u001b[39m\u001b[38;5;241m.\u001b[39m\u001b[38;5;18m__name__\u001b[39m\u001b[38;5;241m+\u001b[39m\u001b[38;5;124m\"\u001b[39m\u001b[38;5;124m explainer\u001b[39m\u001b[38;5;124m\"\u001b[39m, silent):\n\u001b[1;32m--> 266\u001b[0m     row_result \u001b[38;5;241m=\u001b[39m \u001b[38;5;28mself\u001b[39m\u001b[38;5;241m.\u001b[39mexplain_row(\n\u001b[0;32m    267\u001b[0m         \u001b[38;5;241m*\u001b[39mrow_args, max_evals\u001b[38;5;241m=\u001b[39mmax_evals, main_effects\u001b[38;5;241m=\u001b[39mmain_effects, error_bounds\u001b[38;5;241m=\u001b[39merror_bounds,\n\u001b[0;32m    268\u001b[0m         batch_size\u001b[38;5;241m=\u001b[39mbatch_size, outputs\u001b[38;5;241m=\u001b[39moutputs, silent\u001b[38;5;241m=\u001b[39msilent, \u001b[38;5;241m*\u001b[39m\u001b[38;5;241m*\u001b[39mkwargs\n\u001b[0;32m    269\u001b[0m     )\n\u001b[0;32m    270\u001b[0m     values\u001b[38;5;241m.\u001b[39mappend(row_result\u001b[38;5;241m.\u001b[39mget(\u001b[38;5;124m\"\u001b[39m\u001b[38;5;124mvalues\u001b[39m\u001b[38;5;124m\"\u001b[39m, \u001b[38;5;28;01mNone\u001b[39;00m))\n\u001b[0;32m    271\u001b[0m     output_indices\u001b[38;5;241m.\u001b[39mappend(row_result\u001b[38;5;241m.\u001b[39mget(\u001b[38;5;124m\"\u001b[39m\u001b[38;5;124moutput_indices\u001b[39m\u001b[38;5;124m\"\u001b[39m, \u001b[38;5;28;01mNone\u001b[39;00m))\n",
      "File \u001b[1;32m~\\anaconda3\\envs\\IA_Course\\lib\\site-packages\\shap\\explainers\\_exact.py:113\u001b[0m, in \u001b[0;36mExact.explain_row\u001b[1;34m(self, max_evals, main_effects, error_bounds, batch_size, outputs, interactions, silent, *row_args)\u001b[0m\n\u001b[0;32m    110\u001b[0m         extended_delta_indexes[i] \u001b[38;5;241m=\u001b[39m inds[delta_indexes[i]]\n\u001b[0;32m    112\u001b[0m \u001b[38;5;66;03m# run the model\u001b[39;00m\n\u001b[1;32m--> 113\u001b[0m outputs \u001b[38;5;241m=\u001b[39m \u001b[43mfm\u001b[49m\u001b[43m(\u001b[49m\u001b[43mextended_delta_indexes\u001b[49m\u001b[43m,\u001b[49m\u001b[43m \u001b[49m\u001b[43mzero_index\u001b[49m\u001b[38;5;241;43m=\u001b[39;49m\u001b[38;5;241;43m0\u001b[39;49m\u001b[43m,\u001b[49m\u001b[43m \u001b[49m\u001b[43mbatch_size\u001b[49m\u001b[38;5;241;43m=\u001b[39;49m\u001b[43mbatch_size\u001b[49m\u001b[43m)\u001b[49m\n\u001b[0;32m    115\u001b[0m \u001b[38;5;66;03m# Shapley values\u001b[39;00m\n\u001b[0;32m    116\u001b[0m \u001b[38;5;28;01mif\u001b[39;00m interactions \u001b[38;5;129;01mis\u001b[39;00m \u001b[38;5;28;01mFalse\u001b[39;00m \u001b[38;5;129;01mor\u001b[39;00m interactions \u001b[38;5;129;01mis\u001b[39;00m \u001b[38;5;241m1\u001b[39m: \u001b[38;5;66;03m# pylint: disable=literal-comparison\u001b[39;00m\n\u001b[0;32m    117\u001b[0m \n\u001b[0;32m    118\u001b[0m     \u001b[38;5;66;03m# loop over all the outputs to update the rows\u001b[39;00m\n",
      "File \u001b[1;32m~\\anaconda3\\envs\\IA_Course\\lib\\site-packages\\shap\\utils\\_masked_model.py:57\u001b[0m, in \u001b[0;36mMaskedModel.__call__\u001b[1;34m(self, masks, zero_index, batch_size)\u001b[0m\n\u001b[0;32m     55\u001b[0m \u001b[38;5;28;01mif\u001b[39;00m \u001b[38;5;28mlen\u001b[39m(masks\u001b[38;5;241m.\u001b[39mshape) \u001b[38;5;241m==\u001b[39m \u001b[38;5;241m1\u001b[39m:\n\u001b[0;32m     56\u001b[0m     \u001b[38;5;28;01mif\u001b[39;00m \u001b[38;5;28mgetattr\u001b[39m(\u001b[38;5;28mself\u001b[39m\u001b[38;5;241m.\u001b[39mmasker, \u001b[38;5;124m\"\u001b[39m\u001b[38;5;124msupports_delta_masking\u001b[39m\u001b[38;5;124m\"\u001b[39m, \u001b[38;5;28;01mFalse\u001b[39;00m):\n\u001b[1;32m---> 57\u001b[0m         \u001b[38;5;28;01mreturn\u001b[39;00m \u001b[38;5;28;43mself\u001b[39;49m\u001b[38;5;241;43m.\u001b[39;49m\u001b[43m_delta_masking_call\u001b[49m\u001b[43m(\u001b[49m\u001b[43mmasks\u001b[49m\u001b[43m,\u001b[49m\u001b[43m \u001b[49m\u001b[43mzero_index\u001b[49m\u001b[38;5;241;43m=\u001b[39;49m\u001b[43mzero_index\u001b[49m\u001b[43m,\u001b[49m\u001b[43m \u001b[49m\u001b[43mbatch_size\u001b[49m\u001b[38;5;241;43m=\u001b[39;49m\u001b[43mbatch_size\u001b[49m\u001b[43m)\u001b[49m\n\u001b[0;32m     59\u001b[0m     \u001b[38;5;66;03m# we need to convert from delta masking to a full masking call because we were given a delta masking\u001b[39;00m\n\u001b[0;32m     60\u001b[0m     \u001b[38;5;66;03m# input but the masker does not support delta masking\u001b[39;00m\n\u001b[0;32m     61\u001b[0m     \u001b[38;5;28;01melse\u001b[39;00m: \n\u001b[0;32m     62\u001b[0m         full_masks \u001b[38;5;241m=\u001b[39m np\u001b[38;5;241m.\u001b[39mzeros((\u001b[38;5;28mint\u001b[39m(np\u001b[38;5;241m.\u001b[39msum(masks \u001b[38;5;241m>\u001b[39m\u001b[38;5;241m=\u001b[39m \u001b[38;5;241m0\u001b[39m)), \u001b[38;5;28mself\u001b[39m\u001b[38;5;241m.\u001b[39m_masker_cols), dtype\u001b[38;5;241m=\u001b[39mnp\u001b[38;5;241m.\u001b[39mbool)\n",
      "File \u001b[1;32m~\\anaconda3\\envs\\IA_Course\\lib\\site-packages\\shap\\utils\\_masked_model.py:203\u001b[0m, in \u001b[0;36mMaskedModel._delta_masking_call\u001b[1;34m(self, masks, zero_index, batch_size)\u001b[0m\n\u001b[0;32m    200\u001b[0m     batch_positions[i\u001b[38;5;241m+\u001b[39m\u001b[38;5;241m1\u001b[39m] \u001b[38;5;241m=\u001b[39m batch_positions[i] \u001b[38;5;241m+\u001b[39m num_varying_rows[i]\n\u001b[0;32m    202\u001b[0m \u001b[38;5;66;03m# joined_masked_inputs = self._stack_inputs(all_masked_inputs)\u001b[39;00m\n\u001b[1;32m--> 203\u001b[0m outputs \u001b[38;5;241m=\u001b[39m \u001b[38;5;28;43mself\u001b[39;49m\u001b[38;5;241;43m.\u001b[39;49m\u001b[43mmodel\u001b[49m\u001b[43m(\u001b[49m\u001b[38;5;241;43m*\u001b[39;49m\u001b[43msubset_masked_inputs\u001b[49m\u001b[43m)\u001b[49m\n\u001b[0;32m    204\u001b[0m _assert_output_input_match(subset_masked_inputs, outputs)\n\u001b[0;32m    206\u001b[0m \u001b[38;5;28;01mif\u001b[39;00m \u001b[38;5;28mself\u001b[39m\u001b[38;5;241m.\u001b[39mlinearize_link \u001b[38;5;129;01mand\u001b[39;00m \u001b[38;5;28mself\u001b[39m\u001b[38;5;241m.\u001b[39mlink \u001b[38;5;241m!=\u001b[39m links\u001b[38;5;241m.\u001b[39midentity \u001b[38;5;129;01mand\u001b[39;00m \u001b[38;5;28mself\u001b[39m\u001b[38;5;241m.\u001b[39m_linearizing_weights \u001b[38;5;129;01mis\u001b[39;00m \u001b[38;5;28;01mNone\u001b[39;00m:\n",
      "File \u001b[1;32m~\\anaconda3\\envs\\IA_Course\\lib\\site-packages\\shap\\models\\_model.py:26\u001b[0m, in \u001b[0;36mModel.__call__\u001b[1;34m(self, *args)\u001b[0m\n\u001b[0;32m     25\u001b[0m \u001b[38;5;28;01mdef\u001b[39;00m \u001b[38;5;21m__call__\u001b[39m(\u001b[38;5;28mself\u001b[39m, \u001b[38;5;241m*\u001b[39margs):\n\u001b[1;32m---> 26\u001b[0m     out \u001b[38;5;241m=\u001b[39m \u001b[38;5;28;43mself\u001b[39;49m\u001b[38;5;241;43m.\u001b[39;49m\u001b[43minner_model\u001b[49m\u001b[43m(\u001b[49m\u001b[38;5;241;43m*\u001b[39;49m\u001b[43margs\u001b[49m\u001b[43m)\u001b[49m\n\u001b[0;32m     27\u001b[0m     is_tensor \u001b[38;5;241m=\u001b[39m safe_isinstance(out, \u001b[38;5;124m\"\u001b[39m\u001b[38;5;124mtorch.Tensor\u001b[39m\u001b[38;5;124m\"\u001b[39m)\n\u001b[0;32m     28\u001b[0m     out \u001b[38;5;241m=\u001b[39m out\u001b[38;5;241m.\u001b[39mcpu()\u001b[38;5;241m.\u001b[39mdetach()\u001b[38;5;241m.\u001b[39mnumpy() \u001b[38;5;28;01mif\u001b[39;00m is_tensor \u001b[38;5;28;01melse\u001b[39;00m np\u001b[38;5;241m.\u001b[39marray(out)\n",
      "File \u001b[1;32m~\\anaconda3\\envs\\IA_Course\\lib\\site-packages\\sklearn\\neighbors\\_regression.py:236\u001b[0m, in \u001b[0;36mKNeighborsRegressor.predict\u001b[1;34m(self, X)\u001b[0m\n\u001b[0;32m    220\u001b[0m \u001b[38;5;124;03m\"\"\"Predict the target for the provided data.\u001b[39;00m\n\u001b[0;32m    221\u001b[0m \n\u001b[0;32m    222\u001b[0m \u001b[38;5;124;03mParameters\u001b[39;00m\n\u001b[1;32m   (...)\u001b[0m\n\u001b[0;32m    231\u001b[0m \u001b[38;5;124;03m    Target values.\u001b[39;00m\n\u001b[0;32m    232\u001b[0m \u001b[38;5;124;03m\"\"\"\u001b[39;00m\n\u001b[0;32m    233\u001b[0m \u001b[38;5;28;01mif\u001b[39;00m \u001b[38;5;28mself\u001b[39m\u001b[38;5;241m.\u001b[39mweights \u001b[38;5;241m==\u001b[39m \u001b[38;5;124m\"\u001b[39m\u001b[38;5;124muniform\u001b[39m\u001b[38;5;124m\"\u001b[39m:\n\u001b[0;32m    234\u001b[0m     \u001b[38;5;66;03m# In that case, we do not need the distances to perform\u001b[39;00m\n\u001b[0;32m    235\u001b[0m     \u001b[38;5;66;03m# the weighting so we do not compute them.\u001b[39;00m\n\u001b[1;32m--> 236\u001b[0m     neigh_ind \u001b[38;5;241m=\u001b[39m \u001b[38;5;28;43mself\u001b[39;49m\u001b[38;5;241;43m.\u001b[39;49m\u001b[43mkneighbors\u001b[49m\u001b[43m(\u001b[49m\u001b[43mX\u001b[49m\u001b[43m,\u001b[49m\u001b[43m \u001b[49m\u001b[43mreturn_distance\u001b[49m\u001b[38;5;241;43m=\u001b[39;49m\u001b[38;5;28;43;01mFalse\u001b[39;49;00m\u001b[43m)\u001b[49m\n\u001b[0;32m    237\u001b[0m     neigh_dist \u001b[38;5;241m=\u001b[39m \u001b[38;5;28;01mNone\u001b[39;00m\n\u001b[0;32m    238\u001b[0m \u001b[38;5;28;01melse\u001b[39;00m:\n",
      "File \u001b[1;32m~\\anaconda3\\envs\\IA_Course\\lib\\site-packages\\sklearn\\neighbors\\_base.py:879\u001b[0m, in \u001b[0;36mKNeighborsMixin.kneighbors\u001b[1;34m(self, X, n_neighbors, return_distance)\u001b[0m\n\u001b[0;32m    873\u001b[0m     \u001b[38;5;28;01mif\u001b[39;00m issparse(X):\n\u001b[0;32m    874\u001b[0m         \u001b[38;5;28;01mraise\u001b[39;00m \u001b[38;5;167;01mValueError\u001b[39;00m(\n\u001b[0;32m    875\u001b[0m             \u001b[38;5;124m\"\u001b[39m\u001b[38;5;132;01m%s\u001b[39;00m\u001b[38;5;124m does not work with sparse matrices. Densify the data, \u001b[39m\u001b[38;5;124m\"\u001b[39m\n\u001b[0;32m    876\u001b[0m             \u001b[38;5;124m\"\u001b[39m\u001b[38;5;124mor set algorithm=\u001b[39m\u001b[38;5;124m'\u001b[39m\u001b[38;5;124mbrute\u001b[39m\u001b[38;5;124m'\u001b[39m\u001b[38;5;124m\"\u001b[39m\n\u001b[0;32m    877\u001b[0m             \u001b[38;5;241m%\u001b[39m \u001b[38;5;28mself\u001b[39m\u001b[38;5;241m.\u001b[39m_fit_method\n\u001b[0;32m    878\u001b[0m         )\n\u001b[1;32m--> 879\u001b[0m     chunked_results \u001b[38;5;241m=\u001b[39m \u001b[43mParallel\u001b[49m\u001b[43m(\u001b[49m\u001b[43mn_jobs\u001b[49m\u001b[43m,\u001b[49m\u001b[43m \u001b[49m\u001b[43mprefer\u001b[49m\u001b[38;5;241;43m=\u001b[39;49m\u001b[38;5;124;43m\"\u001b[39;49m\u001b[38;5;124;43mthreads\u001b[39;49m\u001b[38;5;124;43m\"\u001b[39;49m\u001b[43m)\u001b[49m\u001b[43m(\u001b[49m\n\u001b[0;32m    880\u001b[0m \u001b[43m        \u001b[49m\u001b[43mdelayed\u001b[49m\u001b[43m(\u001b[49m\u001b[43m_tree_query_parallel_helper\u001b[49m\u001b[43m)\u001b[49m\u001b[43m(\u001b[49m\n\u001b[0;32m    881\u001b[0m \u001b[43m            \u001b[49m\u001b[38;5;28;43mself\u001b[39;49m\u001b[38;5;241;43m.\u001b[39;49m\u001b[43m_tree\u001b[49m\u001b[43m,\u001b[49m\u001b[43m \u001b[49m\u001b[43mX\u001b[49m\u001b[43m[\u001b[49m\u001b[43ms\u001b[49m\u001b[43m]\u001b[49m\u001b[43m,\u001b[49m\u001b[43m \u001b[49m\u001b[43mn_neighbors\u001b[49m\u001b[43m,\u001b[49m\u001b[43m \u001b[49m\u001b[43mreturn_distance\u001b[49m\n\u001b[0;32m    882\u001b[0m \u001b[43m        \u001b[49m\u001b[43m)\u001b[49m\n\u001b[0;32m    883\u001b[0m \u001b[43m        \u001b[49m\u001b[38;5;28;43;01mfor\u001b[39;49;00m\u001b[43m \u001b[49m\u001b[43ms\u001b[49m\u001b[43m \u001b[49m\u001b[38;5;129;43;01min\u001b[39;49;00m\u001b[43m \u001b[49m\u001b[43mgen_even_slices\u001b[49m\u001b[43m(\u001b[49m\u001b[43mX\u001b[49m\u001b[38;5;241;43m.\u001b[39;49m\u001b[43mshape\u001b[49m\u001b[43m[\u001b[49m\u001b[38;5;241;43m0\u001b[39;49m\u001b[43m]\u001b[49m\u001b[43m,\u001b[49m\u001b[43m \u001b[49m\u001b[43mn_jobs\u001b[49m\u001b[43m)\u001b[49m\n\u001b[0;32m    884\u001b[0m \u001b[43m    \u001b[49m\u001b[43m)\u001b[49m\n\u001b[0;32m    885\u001b[0m \u001b[38;5;28;01melse\u001b[39;00m:\n\u001b[0;32m    886\u001b[0m     \u001b[38;5;28;01mraise\u001b[39;00m \u001b[38;5;167;01mValueError\u001b[39;00m(\u001b[38;5;124m\"\u001b[39m\u001b[38;5;124minternal: _fit_method not recognized\u001b[39m\u001b[38;5;124m\"\u001b[39m)\n",
      "File \u001b[1;32m~\\anaconda3\\envs\\IA_Course\\lib\\site-packages\\sklearn\\utils\\parallel.py:63\u001b[0m, in \u001b[0;36mParallel.__call__\u001b[1;34m(self, iterable)\u001b[0m\n\u001b[0;32m     58\u001b[0m config \u001b[38;5;241m=\u001b[39m get_config()\n\u001b[0;32m     59\u001b[0m iterable_with_config \u001b[38;5;241m=\u001b[39m (\n\u001b[0;32m     60\u001b[0m     (_with_config(delayed_func, config), args, kwargs)\n\u001b[0;32m     61\u001b[0m     \u001b[38;5;28;01mfor\u001b[39;00m delayed_func, args, kwargs \u001b[38;5;129;01min\u001b[39;00m iterable\n\u001b[0;32m     62\u001b[0m )\n\u001b[1;32m---> 63\u001b[0m \u001b[38;5;28;01mreturn\u001b[39;00m \u001b[38;5;28;43msuper\u001b[39;49m\u001b[43m(\u001b[49m\u001b[43m)\u001b[49m\u001b[38;5;241;43m.\u001b[39;49m\u001b[38;5;21;43m__call__\u001b[39;49m\u001b[43m(\u001b[49m\u001b[43miterable_with_config\u001b[49m\u001b[43m)\u001b[49m\n",
      "File \u001b[1;32m~\\anaconda3\\envs\\IA_Course\\lib\\site-packages\\joblib\\parallel.py:1085\u001b[0m, in \u001b[0;36mParallel.__call__\u001b[1;34m(self, iterable)\u001b[0m\n\u001b[0;32m   1076\u001b[0m \u001b[38;5;28;01mtry\u001b[39;00m:\n\u001b[0;32m   1077\u001b[0m     \u001b[38;5;66;03m# Only set self._iterating to True if at least a batch\u001b[39;00m\n\u001b[0;32m   1078\u001b[0m     \u001b[38;5;66;03m# was dispatched. In particular this covers the edge\u001b[39;00m\n\u001b[1;32m   (...)\u001b[0m\n\u001b[0;32m   1082\u001b[0m     \u001b[38;5;66;03m# was very quick and its callback already dispatched all the\u001b[39;00m\n\u001b[0;32m   1083\u001b[0m     \u001b[38;5;66;03m# remaining jobs.\u001b[39;00m\n\u001b[0;32m   1084\u001b[0m     \u001b[38;5;28mself\u001b[39m\u001b[38;5;241m.\u001b[39m_iterating \u001b[38;5;241m=\u001b[39m \u001b[38;5;28;01mFalse\u001b[39;00m\n\u001b[1;32m-> 1085\u001b[0m     \u001b[38;5;28;01mif\u001b[39;00m \u001b[38;5;28;43mself\u001b[39;49m\u001b[38;5;241;43m.\u001b[39;49m\u001b[43mdispatch_one_batch\u001b[49m\u001b[43m(\u001b[49m\u001b[43miterator\u001b[49m\u001b[43m)\u001b[49m:\n\u001b[0;32m   1086\u001b[0m         \u001b[38;5;28mself\u001b[39m\u001b[38;5;241m.\u001b[39m_iterating \u001b[38;5;241m=\u001b[39m \u001b[38;5;28mself\u001b[39m\u001b[38;5;241m.\u001b[39m_original_iterator \u001b[38;5;129;01mis\u001b[39;00m \u001b[38;5;129;01mnot\u001b[39;00m \u001b[38;5;28;01mNone\u001b[39;00m\n\u001b[0;32m   1088\u001b[0m     \u001b[38;5;28;01mwhile\u001b[39;00m \u001b[38;5;28mself\u001b[39m\u001b[38;5;241m.\u001b[39mdispatch_one_batch(iterator):\n",
      "File \u001b[1;32m~\\anaconda3\\envs\\IA_Course\\lib\\site-packages\\joblib\\parallel.py:901\u001b[0m, in \u001b[0;36mParallel.dispatch_one_batch\u001b[1;34m(self, iterator)\u001b[0m\n\u001b[0;32m    899\u001b[0m     \u001b[38;5;28;01mreturn\u001b[39;00m \u001b[38;5;28;01mFalse\u001b[39;00m\n\u001b[0;32m    900\u001b[0m \u001b[38;5;28;01melse\u001b[39;00m:\n\u001b[1;32m--> 901\u001b[0m     \u001b[38;5;28;43mself\u001b[39;49m\u001b[38;5;241;43m.\u001b[39;49m\u001b[43m_dispatch\u001b[49m\u001b[43m(\u001b[49m\u001b[43mtasks\u001b[49m\u001b[43m)\u001b[49m\n\u001b[0;32m    902\u001b[0m     \u001b[38;5;28;01mreturn\u001b[39;00m \u001b[38;5;28;01mTrue\u001b[39;00m\n",
      "File \u001b[1;32m~\\anaconda3\\envs\\IA_Course\\lib\\site-packages\\joblib\\parallel.py:819\u001b[0m, in \u001b[0;36mParallel._dispatch\u001b[1;34m(self, batch)\u001b[0m\n\u001b[0;32m    817\u001b[0m \u001b[38;5;28;01mwith\u001b[39;00m \u001b[38;5;28mself\u001b[39m\u001b[38;5;241m.\u001b[39m_lock:\n\u001b[0;32m    818\u001b[0m     job_idx \u001b[38;5;241m=\u001b[39m \u001b[38;5;28mlen\u001b[39m(\u001b[38;5;28mself\u001b[39m\u001b[38;5;241m.\u001b[39m_jobs)\n\u001b[1;32m--> 819\u001b[0m     job \u001b[38;5;241m=\u001b[39m \u001b[38;5;28;43mself\u001b[39;49m\u001b[38;5;241;43m.\u001b[39;49m\u001b[43m_backend\u001b[49m\u001b[38;5;241;43m.\u001b[39;49m\u001b[43mapply_async\u001b[49m\u001b[43m(\u001b[49m\u001b[43mbatch\u001b[49m\u001b[43m,\u001b[49m\u001b[43m \u001b[49m\u001b[43mcallback\u001b[49m\u001b[38;5;241;43m=\u001b[39;49m\u001b[43mcb\u001b[49m\u001b[43m)\u001b[49m\n\u001b[0;32m    820\u001b[0m     \u001b[38;5;66;03m# A job can complete so quickly than its callback is\u001b[39;00m\n\u001b[0;32m    821\u001b[0m     \u001b[38;5;66;03m# called before we get here, causing self._jobs to\u001b[39;00m\n\u001b[0;32m    822\u001b[0m     \u001b[38;5;66;03m# grow. To ensure correct results ordering, .insert is\u001b[39;00m\n\u001b[0;32m    823\u001b[0m     \u001b[38;5;66;03m# used (rather than .append) in the following line\u001b[39;00m\n\u001b[0;32m    824\u001b[0m     \u001b[38;5;28mself\u001b[39m\u001b[38;5;241m.\u001b[39m_jobs\u001b[38;5;241m.\u001b[39minsert(job_idx, job)\n",
      "File \u001b[1;32m~\\anaconda3\\envs\\IA_Course\\lib\\site-packages\\joblib\\_parallel_backends.py:208\u001b[0m, in \u001b[0;36mSequentialBackend.apply_async\u001b[1;34m(self, func, callback)\u001b[0m\n\u001b[0;32m    206\u001b[0m \u001b[38;5;28;01mdef\u001b[39;00m \u001b[38;5;21mapply_async\u001b[39m(\u001b[38;5;28mself\u001b[39m, func, callback\u001b[38;5;241m=\u001b[39m\u001b[38;5;28;01mNone\u001b[39;00m):\n\u001b[0;32m    207\u001b[0m     \u001b[38;5;124;03m\"\"\"Schedule a func to be run\"\"\"\u001b[39;00m\n\u001b[1;32m--> 208\u001b[0m     result \u001b[38;5;241m=\u001b[39m \u001b[43mImmediateResult\u001b[49m\u001b[43m(\u001b[49m\u001b[43mfunc\u001b[49m\u001b[43m)\u001b[49m\n\u001b[0;32m    209\u001b[0m     \u001b[38;5;28;01mif\u001b[39;00m callback:\n\u001b[0;32m    210\u001b[0m         callback(result)\n",
      "File \u001b[1;32m~\\anaconda3\\envs\\IA_Course\\lib\\site-packages\\joblib\\_parallel_backends.py:597\u001b[0m, in \u001b[0;36mImmediateResult.__init__\u001b[1;34m(self, batch)\u001b[0m\n\u001b[0;32m    594\u001b[0m \u001b[38;5;28;01mdef\u001b[39;00m \u001b[38;5;21m__init__\u001b[39m(\u001b[38;5;28mself\u001b[39m, batch):\n\u001b[0;32m    595\u001b[0m     \u001b[38;5;66;03m# Don't delay the application, to avoid keeping the input\u001b[39;00m\n\u001b[0;32m    596\u001b[0m     \u001b[38;5;66;03m# arguments in memory\u001b[39;00m\n\u001b[1;32m--> 597\u001b[0m     \u001b[38;5;28mself\u001b[39m\u001b[38;5;241m.\u001b[39mresults \u001b[38;5;241m=\u001b[39m \u001b[43mbatch\u001b[49m\u001b[43m(\u001b[49m\u001b[43m)\u001b[49m\n",
      "File \u001b[1;32m~\\anaconda3\\envs\\IA_Course\\lib\\site-packages\\joblib\\parallel.py:288\u001b[0m, in \u001b[0;36mBatchedCalls.__call__\u001b[1;34m(self)\u001b[0m\n\u001b[0;32m    284\u001b[0m \u001b[38;5;28;01mdef\u001b[39;00m \u001b[38;5;21m__call__\u001b[39m(\u001b[38;5;28mself\u001b[39m):\n\u001b[0;32m    285\u001b[0m     \u001b[38;5;66;03m# Set the default nested backend to self._backend but do not set the\u001b[39;00m\n\u001b[0;32m    286\u001b[0m     \u001b[38;5;66;03m# change the default number of processes to -1\u001b[39;00m\n\u001b[0;32m    287\u001b[0m     \u001b[38;5;28;01mwith\u001b[39;00m parallel_backend(\u001b[38;5;28mself\u001b[39m\u001b[38;5;241m.\u001b[39m_backend, n_jobs\u001b[38;5;241m=\u001b[39m\u001b[38;5;28mself\u001b[39m\u001b[38;5;241m.\u001b[39m_n_jobs):\n\u001b[1;32m--> 288\u001b[0m         \u001b[38;5;28;01mreturn\u001b[39;00m [func(\u001b[38;5;241m*\u001b[39margs, \u001b[38;5;241m*\u001b[39m\u001b[38;5;241m*\u001b[39mkwargs)\n\u001b[0;32m    289\u001b[0m                 \u001b[38;5;28;01mfor\u001b[39;00m func, args, kwargs \u001b[38;5;129;01min\u001b[39;00m \u001b[38;5;28mself\u001b[39m\u001b[38;5;241m.\u001b[39mitems]\n",
      "File \u001b[1;32m~\\anaconda3\\envs\\IA_Course\\lib\\site-packages\\joblib\\parallel.py:288\u001b[0m, in \u001b[0;36m<listcomp>\u001b[1;34m(.0)\u001b[0m\n\u001b[0;32m    284\u001b[0m \u001b[38;5;28;01mdef\u001b[39;00m \u001b[38;5;21m__call__\u001b[39m(\u001b[38;5;28mself\u001b[39m):\n\u001b[0;32m    285\u001b[0m     \u001b[38;5;66;03m# Set the default nested backend to self._backend but do not set the\u001b[39;00m\n\u001b[0;32m    286\u001b[0m     \u001b[38;5;66;03m# change the default number of processes to -1\u001b[39;00m\n\u001b[0;32m    287\u001b[0m     \u001b[38;5;28;01mwith\u001b[39;00m parallel_backend(\u001b[38;5;28mself\u001b[39m\u001b[38;5;241m.\u001b[39m_backend, n_jobs\u001b[38;5;241m=\u001b[39m\u001b[38;5;28mself\u001b[39m\u001b[38;5;241m.\u001b[39m_n_jobs):\n\u001b[1;32m--> 288\u001b[0m         \u001b[38;5;28;01mreturn\u001b[39;00m [func(\u001b[38;5;241m*\u001b[39margs, \u001b[38;5;241m*\u001b[39m\u001b[38;5;241m*\u001b[39mkwargs)\n\u001b[0;32m    289\u001b[0m                 \u001b[38;5;28;01mfor\u001b[39;00m func, args, kwargs \u001b[38;5;129;01min\u001b[39;00m \u001b[38;5;28mself\u001b[39m\u001b[38;5;241m.\u001b[39mitems]\n",
      "File \u001b[1;32m~\\anaconda3\\envs\\IA_Course\\lib\\site-packages\\sklearn\\utils\\parallel.py:123\u001b[0m, in \u001b[0;36m_FuncWrapper.__call__\u001b[1;34m(self, *args, **kwargs)\u001b[0m\n\u001b[0;32m    121\u001b[0m     config \u001b[38;5;241m=\u001b[39m {}\n\u001b[0;32m    122\u001b[0m \u001b[38;5;28;01mwith\u001b[39;00m config_context(\u001b[38;5;241m*\u001b[39m\u001b[38;5;241m*\u001b[39mconfig):\n\u001b[1;32m--> 123\u001b[0m     \u001b[38;5;28;01mreturn\u001b[39;00m \u001b[38;5;28mself\u001b[39m\u001b[38;5;241m.\u001b[39mfunction(\u001b[38;5;241m*\u001b[39margs, \u001b[38;5;241m*\u001b[39m\u001b[38;5;241m*\u001b[39mkwargs)\n",
      "File \u001b[1;32m~\\anaconda3\\envs\\IA_Course\\lib\\site-packages\\sklearn\\neighbors\\_base.py:685\u001b[0m, in \u001b[0;36m_tree_query_parallel_helper\u001b[1;34m(tree, *args, **kwargs)\u001b[0m\n\u001b[0;32m    679\u001b[0m \u001b[38;5;28;01mdef\u001b[39;00m \u001b[38;5;21m_tree_query_parallel_helper\u001b[39m(tree, \u001b[38;5;241m*\u001b[39margs, \u001b[38;5;241m*\u001b[39m\u001b[38;5;241m*\u001b[39mkwargs):\n\u001b[0;32m    680\u001b[0m     \u001b[38;5;124;03m\"\"\"Helper for the Parallel calls in KNeighborsMixin.kneighbors.\u001b[39;00m\n\u001b[0;32m    681\u001b[0m \n\u001b[0;32m    682\u001b[0m \u001b[38;5;124;03m    The Cython method tree.query is not directly picklable by cloudpickle\u001b[39;00m\n\u001b[0;32m    683\u001b[0m \u001b[38;5;124;03m    under PyPy.\u001b[39;00m\n\u001b[0;32m    684\u001b[0m \u001b[38;5;124;03m    \"\"\"\u001b[39;00m\n\u001b[1;32m--> 685\u001b[0m     \u001b[38;5;28;01mreturn\u001b[39;00m tree\u001b[38;5;241m.\u001b[39mquery(\u001b[38;5;241m*\u001b[39margs, \u001b[38;5;241m*\u001b[39m\u001b[38;5;241m*\u001b[39mkwargs)\n",
      "\u001b[1;31mKeyboardInterrupt\u001b[0m: "
     ]
    }
   ],
   "source": [
    "# With KNN\n",
    "from sklearn.model_selection import train_test_split\n",
    "from sklearn.neighbors import KNeighborsRegressor\n",
    "\n",
    "\n",
    "# Entraînement du modèle KNN\n",
    "model = KNeighborsRegressor()\n",
    "model.fit(X, y)\n",
    "\n",
    "# Calcul des valeurs d'importance avec SHAP\n",
    "explainer = shap.Explainer(model.predict, X)\n",
    "shap_values = explainer(X)\n",
    "\n",
    "\n",
    "# Display a barplot which show the importance of each features\n",
    "shap.summary_plot(shap_values, X, plot_type='bar', show=False)\n"
   ]
  },
  {
   "cell_type": "markdown",
   "metadata": {},
   "source": [
    "\n",
    "Après avoir effectué une analyse approfondie en utilisant les quatre modèles de Machine Learning, à savoir Random Forest, XGBoost, Decision Tree et KNN, il est recommandé de garder tous les features dans le jeu de données. Bien que chaque modèle puisse avoir une importance relative différente pour chaque feature, l'ensemble complet de features offre une variété d'informations qui peuvent améliorer la qualité de la prédiction finale.\n",
    "\n",
    "De plus, en gardant tous les features, nous avons la possibilité de mettre en place des techniques de feature engineering pour améliorer davantage les performances des modèles. Cela pourrait inclure la création de nouvelles features en combinant ou en transformant des features existants.\n",
    "\n",
    "En fin de compte, la décision de garder ou de supprimer des features dépendra des objectifs de l'analyse et de la qualité des données. Cependant, dans ce cas, l'ensemble complet de features est recommandé pour tirer le meilleur parti des modèles de Machine Learning utilisés.\n"
   ]
  },
  {
   "cell_type": "markdown",
   "metadata": {},
   "source": [
    "# Model Construction \n",
    "\n",
    "To select the appropriate regression model , we must train and validate differents models on our train/validation data and compare the metrics\n",
    "\n",
    "* XGBoost\n",
    "* Random Forest\n",
    "* Desicion Trees\n",
    "* K-nearest neighbors"
   ]
  },
  {
   "cell_type": "markdown",
   "metadata": {},
   "source": []
  },
  {
   "cell_type": "code",
   "execution_count": 13,
   "metadata": {},
   "outputs": [],
   "source": [
    "X=data.drop([\"SMILES_str\",\"stoich_str\",\"pce\",\"tmp_smiles_str\",\"pce_pair\"],axis=1)\n",
    "y=data[\"pce\"]\n",
    "\n",
    "X_train, X_validation, y_train, y_validation = train_test_split(X, y, test_size=0.2, random_state=42)"
   ]
  },
  {
   "cell_type": "code",
   "execution_count": 33,
   "metadata": {},
   "outputs": [],
   "source": [
    "def train_validate_models_results(X_train, y_train, X_validation, y_validation, models, metrics):\n",
    "    results = []\n",
    "    for name, model in models:\n",
    "        model.fit(X_train, y_train)\n",
    "        y_pred = model.predict(X_validation)\n",
    "        row = [name]\n",
    "        for metric_name, metric_func in metrics.items():\n",
    "            metric_value = metric_func(y_validation, y_pred)\n",
    "            row.append(metric_value)\n",
    "        results.append(row)\n",
    "    df_results = pd.DataFrame(results, columns=['Model'] + list(metrics.keys()))\n",
    "    return df_results\n",
    "\n",
    "\n",
    "\n",
    "models = [\n",
    "    ('Decision Tree', DecisionTreeRegressor(random_state=42)),\n",
    "    ('Random Forest', RandomForestRegressor(random_state=42)),\n",
    "    ('KNN Regressor', KNeighborsRegressor()),\n",
    "    ('XGBoost', xgb.XGBRegressor(random_state=42))\n",
    "]\n",
    "\n",
    "\n",
    "metrics = {\n",
    "    'RMSE': mean_squared_error,\n",
    "    'MAE': mean_absolute_error,\n",
    "    'R^2': r2_score\n",
    "}\n",
    "\n",
    "\n",
    "df=train_validate_models_results(X_train, y_train, X_validation, y_validation, models, metrics)\n"
   ]
  },
  {
   "cell_type": "code",
   "execution_count": 34,
   "metadata": {},
   "outputs": [
    {
     "data": {
      "text/html": [
       "<div>\n",
       "<style scoped>\n",
       "    .dataframe tbody tr th:only-of-type {\n",
       "        vertical-align: middle;\n",
       "    }\n",
       "\n",
       "    .dataframe tbody tr th {\n",
       "        vertical-align: top;\n",
       "    }\n",
       "\n",
       "    .dataframe thead th {\n",
       "        text-align: right;\n",
       "    }\n",
       "</style>\n",
       "<table border=\"1\" class=\"dataframe\">\n",
       "  <thead>\n",
       "    <tr style=\"text-align: right;\">\n",
       "      <th></th>\n",
       "      <th>Model</th>\n",
       "      <th>RMSE</th>\n",
       "      <th>MAE</th>\n",
       "      <th>R^2</th>\n",
       "    </tr>\n",
       "  </thead>\n",
       "  <tbody>\n",
       "    <tr>\n",
       "      <th>0</th>\n",
       "      <td>Decision Tree</td>\n",
       "      <td>0.002483</td>\n",
       "      <td>0.030410</td>\n",
       "      <td>0.999579</td>\n",
       "    </tr>\n",
       "    <tr>\n",
       "      <th>1</th>\n",
       "      <td>Random Forest</td>\n",
       "      <td>0.000676</td>\n",
       "      <td>0.014030</td>\n",
       "      <td>0.999886</td>\n",
       "    </tr>\n",
       "    <tr>\n",
       "      <th>2</th>\n",
       "      <td>KNN Regressor</td>\n",
       "      <td>3.356897</td>\n",
       "      <td>1.345186</td>\n",
       "      <td>0.430996</td>\n",
       "    </tr>\n",
       "    <tr>\n",
       "      <th>3</th>\n",
       "      <td>XGBoost</td>\n",
       "      <td>0.002606</td>\n",
       "      <td>0.033499</td>\n",
       "      <td>0.999558</td>\n",
       "    </tr>\n",
       "  </tbody>\n",
       "</table>\n",
       "</div>"
      ],
      "text/plain": [
       "           Model      RMSE       MAE       R^2\n",
       "0  Decision Tree  0.002483  0.030410  0.999579\n",
       "1  Random Forest  0.000676  0.014030  0.999886\n",
       "2  KNN Regressor  3.356897  1.345186  0.430996\n",
       "3        XGBoost  0.002606  0.033499  0.999558"
      ]
     },
     "execution_count": 34,
     "metadata": {},
     "output_type": "execute_result"
    }
   ],
   "source": [
    "df"
   ]
  },
  {
   "cell_type": "code",
   "execution_count": 39,
   "metadata": {},
   "outputs": [],
   "source": [
    "import seaborn as sns\n",
    "\n",
    "def plot_models_metrics(df, title):\n",
    "    \n",
    "    # Création d'un dataframe pour chaque metrics\n",
    "    RMSE_df = df[['Model', 'RMSE']].copy()\n",
    "    MAE_df = df[['Model', 'MAE']].copy()\n",
    "    R2_df = df[['Model', 'R^2']].copy()\n",
    "    \n",
    "    \n",
    "    # Melt the data frames\n",
    "    RMSE_df = pd.melt(RMSE_df, id_vars=['Model'], var_name='metric', value_name='value')\n",
    "    MAE_df = pd.melt(MAE_df, id_vars=['Model'], var_name='metric', value_name='value')\n",
    "    R2_df = pd.melt(R2_df, id_vars=['Model'], var_name='metric', value_name='value')\n",
    "\n",
    "    # Créer un bar chart pour chaque metrics\n",
    "    plt.figure(figsize=(16, 6))\n",
    "    plt.suptitle(title, fontsize=16)\n",
    "\n",
    "    plt.subplot(1, 3, 1)\n",
    "    sns.barplot(x=\"Model\", y=\"value\", data=RMSE_df)\n",
    "    plt.title(\"RMSE\")\n",
    "\n",
    "    plt.subplot(1, 3, 2)\n",
    "    sns.barplot(x=\"Model\", y=\"value\", data=MAE_df)\n",
    "    plt.title(\"MAE\")\n",
    "\n",
    "    plt.subplot(1, 3, 3)\n",
    "    sns.barplot(x=\"Model\", y=\"value\", data=R2_df)\n",
    "    plt.title(\"R2\")\n",
    "\n",
    "    plt.tight_layout()\n",
    "    plt.show()"
   ]
  },
  {
   "cell_type": "code",
   "execution_count": 40,
   "metadata": {},
   "outputs": [
    {
     "data": {
      "image/png": "[encoded data removed]",
      "text/plain": [
       "<Figure size 1600x600 with 3 Axes>"
      ]
     },
     "metadata": {},
     "output_type": "display_data"
    }
   ],
   "source": [
    "plot_models_metrics(df,title=\"Performance Comparison of Regression Models \")"
   ]
  },
  {
   "cell_type": "code",
   "execution_count": 48,
   "metadata": {},
   "outputs": [
    {
     "name": "stderr",
     "output_type": "stream",
     "text": [
      " 10%|████████▎                                                                          | 1/10 [00:28<04:18, 28.74s/it]"
     ]
    },
    {
     "name": "stdout",
     "output_type": "stream",
     "text": [
      "Best hyperparameters: {'leaf_size': 10, 'n_neighbors': 9, 'p': 1}\n"
     ]
    },
    {
     "name": "stderr",
     "output_type": "stream",
     "text": [
      " 20%|████████████████▌                                                                  | 2/10 [01:05<04:25, 33.19s/it]"
     ]
    },
    {
     "name": "stdout",
     "output_type": "stream",
     "text": [
      "Best hyperparameters: {'leaf_size': 10, 'n_neighbors': 9, 'p': 1}\n"
     ]
    },
    {
     "name": "stderr",
     "output_type": "stream",
     "text": [
      " 30%|████████████████████████▉                                                          | 3/10 [01:39<03:55, 33.64s/it]"
     ]
    },
    {
     "name": "stdout",
     "output_type": "stream",
     "text": [
      "Best hyperparameters: {'leaf_size': 10, 'n_neighbors': 9, 'p': 1}\n"
     ]
    },
    {
     "name": "stderr",
     "output_type": "stream",
     "text": [
      " 40%|█████████████████████████████████▏                                                 | 4/10 [02:10<03:16, 32.75s/it]"
     ]
    },
    {
     "name": "stdout",
     "output_type": "stream",
     "text": [
      "Best hyperparameters: {'leaf_size': 10, 'n_neighbors': 9, 'p': 1}\n"
     ]
    },
    {
     "name": "stderr",
     "output_type": "stream",
     "text": [
      " 50%|█████████████████████████████████████████▌                                         | 5/10 [02:47<02:50, 34.12s/it]"
     ]
    },
    {
     "name": "stdout",
     "output_type": "stream",
     "text": [
      "Best hyperparameters: {'leaf_size': 10, 'n_neighbors': 9, 'p': 1}\n"
     ]
    },
    {
     "name": "stderr",
     "output_type": "stream",
     "text": [
      " 60%|█████████████████████████████████████████████████▊                                 | 6/10 [03:24<02:21, 35.39s/it]"
     ]
    },
    {
     "name": "stdout",
     "output_type": "stream",
     "text": [
      "Best hyperparameters: {'leaf_size': 10, 'n_neighbors': 9, 'p': 1}\n"
     ]
    },
    {
     "name": "stderr",
     "output_type": "stream",
     "text": [
      " 70%|██████████████████████████████████████████████████████████                         | 7/10 [04:07<01:53, 37.72s/it]"
     ]
    },
    {
     "name": "stdout",
     "output_type": "stream",
     "text": [
      "Best hyperparameters: {'leaf_size': 10, 'n_neighbors': 9, 'p': 1}\n"
     ]
    },
    {
     "name": "stderr",
     "output_type": "stream",
     "text": [
      " 80%|██████████████████████████████████████████████████████████████████▍                | 8/10 [04:41<01:13, 36.65s/it]"
     ]
    },
    {
     "name": "stdout",
     "output_type": "stream",
     "text": [
      "Best hyperparameters: {'leaf_size': 10, 'n_neighbors': 9, 'p': 1}\n"
     ]
    },
    {
     "name": "stderr",
     "output_type": "stream",
     "text": [
      " 90%|██████████████████████████████████████████████████████████████████████████▋        | 9/10 [05:16<00:36, 36.12s/it]"
     ]
    },
    {
     "name": "stdout",
     "output_type": "stream",
     "text": [
      "Best hyperparameters: {'leaf_size': 10, 'n_neighbors': 9, 'p': 1}\n"
     ]
    },
    {
     "name": "stderr",
     "output_type": "stream",
     "text": [
      "100%|██████████████████████████████████████████████████████████████████████████████████| 10/10 [05:51<00:00, 35.18s/it]"
     ]
    },
    {
     "name": "stdout",
     "output_type": "stream",
     "text": [
      "Best hyperparameters: {'leaf_size': 10, 'n_neighbors': 9, 'p': 1}\n"
     ]
    },
    {
     "name": "stderr",
     "output_type": "stream",
     "text": [
      "\n"
     ]
    }
   ],
   "source": [
    "# Le KNN Regressor ayant une précision très basse, on va essayer de l'optimiser pour l'améliorer\n",
    "\n",
    "from sklearn.neighbors import KNeighborsRegressor\n",
    "from sklearn.model_selection import GridSearchCV\n",
    "from tqdm import tqdm\n",
    "\n",
    "# Create a KNN Regressor object\n",
    "knn = KNeighborsRegressor()\n",
    "\n",
    "# Define the hyperparameter grid\n",
    "param_grid = {'n_neighbors': [9, 11, 13, 15],\n",
    "              'p': [1, 2, 3],\n",
    "              'leaf_size': [10, 20, 30, 40, 50]}\n",
    "\n",
    "\n",
    "# Use Grid Search to find the best hyperparameters\n",
    "for i in tqdm(range(10)):\n",
    "    grid = GridSearchCV(knn, param_grid, cv=5, scoring='neg_mean_squared_error')\n",
    "    grid.fit(X, y)\n",
    "\n",
    "    # Print the best hyperparameters\n",
    "    print(\"Best hyperparameters:\", grid.best_params_)\n",
    "    pass\n",
    "\n"
   ]
  },
  {
   "cell_type": "code",
   "execution_count": 54,
   "metadata": {},
   "outputs": [
    {
     "name": "stderr",
     "output_type": "stream",
     "text": [
      " 10%|████████▏                                                                         | 1/10 [02:23<21:30, 143.40s/it]"
     ]
    },
    {
     "name": "stdout",
     "output_type": "stream",
     "text": [
      "Best hyperparameters: {'algorithm': 'auto', 'p': 1, 'weights': 'distance'}\n"
     ]
    },
    {
     "name": "stderr",
     "output_type": "stream",
     "text": [
      " 20%|████████████████▍                                                                 | 2/10 [05:03<20:27, 153.46s/it]"
     ]
    },
    {
     "name": "stdout",
     "output_type": "stream",
     "text": [
      "Best hyperparameters: {'algorithm': 'auto', 'p': 1, 'weights': 'distance'}\n"
     ]
    },
    {
     "name": "stderr",
     "output_type": "stream",
     "text": [
      " 30%|████████████████████████▌                                                         | 3/10 [08:08<19:33, 167.58s/it]"
     ]
    },
    {
     "name": "stdout",
     "output_type": "stream",
     "text": [
      "Best hyperparameters: {'algorithm': 'auto', 'p': 1, 'weights': 'distance'}\n"
     ]
    },
    {
     "name": "stderr",
     "output_type": "stream",
     "text": [
      " 40%|████████████████████████████████▊                                                 | 4/10 [10:55<16:43, 167.30s/it]"
     ]
    },
    {
     "name": "stdout",
     "output_type": "stream",
     "text": [
      "Best hyperparameters: {'algorithm': 'auto', 'p': 1, 'weights': 'distance'}\n"
     ]
    },
    {
     "name": "stderr",
     "output_type": "stream",
     "text": [
      " 50%|█████████████████████████████████████████                                         | 5/10 [13:13<13:04, 156.81s/it]"
     ]
    },
    {
     "name": "stdout",
     "output_type": "stream",
     "text": [
      "Best hyperparameters: {'algorithm': 'auto', 'p': 1, 'weights': 'distance'}\n"
     ]
    },
    {
     "name": "stderr",
     "output_type": "stream",
     "text": [
      " 60%|█████████████████████████████████████████████████▏                                | 6/10 [15:32<10:03, 150.87s/it]"
     ]
    },
    {
     "name": "stdout",
     "output_type": "stream",
     "text": [
      "Best hyperparameters: {'algorithm': 'auto', 'p': 1, 'weights': 'distance'}\n"
     ]
    },
    {
     "name": "stderr",
     "output_type": "stream",
     "text": [
      " 70%|█████████████████████████████████████████████████████████▍                        | 7/10 [17:49<07:19, 146.40s/it]"
     ]
    },
    {
     "name": "stdout",
     "output_type": "stream",
     "text": [
      "Best hyperparameters: {'algorithm': 'auto', 'p': 1, 'weights': 'distance'}\n"
     ]
    },
    {
     "name": "stderr",
     "output_type": "stream",
     "text": [
      " 80%|█████████████████████████████████████████████████████████████████▌                | 8/10 [20:12<04:50, 145.18s/it]"
     ]
    },
    {
     "name": "stdout",
     "output_type": "stream",
     "text": [
      "Best hyperparameters: {'algorithm': 'auto', 'p': 1, 'weights': 'distance'}\n"
     ]
    },
    {
     "name": "stderr",
     "output_type": "stream",
     "text": [
      " 90%|█████████████████████████████████████████████████████████████████████████▊        | 9/10 [22:49<02:28, 148.75s/it]"
     ]
    },
    {
     "name": "stdout",
     "output_type": "stream",
     "text": [
      "Best hyperparameters: {'algorithm': 'auto', 'p': 1, 'weights': 'distance'}\n"
     ]
    },
    {
     "name": "stderr",
     "output_type": "stream",
     "text": [
      "100%|█████████████████████████████████████████████████████████████████████████████████| 10/10 [25:24<00:00, 152.41s/it]"
     ]
    },
    {
     "name": "stdout",
     "output_type": "stream",
     "text": [
      "Best hyperparameters: {'algorithm': 'auto', 'p': 1, 'weights': 'distance'}\n"
     ]
    },
    {
     "name": "stderr",
     "output_type": "stream",
     "text": [
      "\n"
     ]
    }
   ],
   "source": [
    "# Le KNN Regressor ayant une précision très basse, on va essayer de l'optimiser pour l'améliorer\n",
    "\n",
    "from sklearn.neighbors import KNeighborsRegressor\n",
    "from sklearn.model_selection import GridSearchCV\n",
    "from tqdm import tqdm\n",
    "\n",
    "# Create a KNN Regressor object\n",
    "knn = KNeighborsRegressor(n_neighbors = 9, leaf_size = 10, p = 1)\n",
    "\n",
    "param_grid = {'weights': ['uniform', 'distance'],\n",
    "              'p': [1, 2, 3],\n",
    "              'algorithm': ['auto', 'ball_tree', 'kd_tree', 'brute']}\n",
    "\n",
    "\n",
    "\n",
    "# Use Grid Search to find the best hyperparameters\n",
    "for i in tqdm(range(10)):\n",
    "    grid = GridSearchCV(knn, param_grid, cv=5, scoring='neg_mean_squared_error')\n",
    "    grid.fit(X, y)\n",
    "\n",
    "    # Print the best hyperparameters\n",
    "    print(\"Best hyperparameters:\", grid.best_params_)\n",
    "    pass\n"
   ]
  },
  {
   "cell_type": "code",
   "execution_count": 18,
   "metadata": {},
   "outputs": [
    {
     "name": "stdout",
     "output_type": "stream",
     "text": [
      "0.662616384065749\n"
     ]
    }
   ],
   "source": [
    "model = KNeighborsRegressor(n_neighbors = 9, leaf_size = 10, p = 1, weights = 'distance', algorithm = 'auto')\n",
    "\n",
    "model.fit(X_train, y_train)  #fit the model\n",
    "pred = model.predict(X_validation) #make prediction on test set\n",
    "\n",
    "from sklearn.model_selection import cross_val_score\n",
    "print(cross_val_score(model, X, y, cv=10, scoring=\"r2\").mean())\n",
    "\n",
    "# Avec quelques optimisations, on arrive a un meilleur résultat\n",
    "# mais il reste clairement inférieur aux autres modèles."
   ]
  },
  {
   "cell_type": "code",
   "execution_count": 35,
   "metadata": {},
   "outputs": [],
   "source": [
    "def train_validate_models_results_cv(X, y, models, metrics, cv):\n",
    "    results = []\n",
    "    for model_name, model in models :\n",
    "        row = [model_name]\n",
    "        for metric_name, metric_func in metrics.items():\n",
    "            scores = cross_val_score(model, X, y, cv=cv, scoring=metric_func)\n",
    "            mean_score = np.mean(scores)\n",
    "            row.append(mean_score)\n",
    "        results.append(row)\n",
    "    df_results = pd.DataFrame(results, columns=['Model'] + list(metrics.keys()))\n",
    "    return df_results\n",
    "\n",
    "models = [\n",
    "    ('Decision Tree', DecisionTreeRegressor(random_state=42)),\n",
    "    ('Random Forest', RandomForestRegressor(random_state=42)),\n",
    "    ('KNN Regressor', KNeighborsRegressor(n_neighbors = 9, leaf_size = 10, p = 1, weights = 'distance', algorithm = 'auto')),\n",
    "    ('XGBoost', xgb.XGBRegressor(random_state=42))\n",
    "]\n",
    "\n",
    "\n",
    "metrics = {\n",
    "    'RMSE': make_scorer(mean_squared_error, squared=False),\n",
    "    'MAE': make_scorer(mean_absolute_error),\n",
    "    'R^2': make_scorer(r2_score),\n",
    "    'Max Error': make_scorer(max_error)\n",
    "}\n",
    "\n",
    "\n",
    "df_cv5=train_validate_models_results_cv(X, y, models, metrics,cv=5)"
   ]
  },
  {
   "cell_type": "code",
   "execution_count": 36,
   "metadata": {
    "scrolled": true
   },
   "outputs": [
    {
     "data": {
      "text/html": [
       "<div>\n",
       "<style scoped>\n",
       "    .dataframe tbody tr th:only-of-type {\n",
       "        vertical-align: middle;\n",
       "    }\n",
       "\n",
       "    .dataframe tbody tr th {\n",
       "        vertical-align: top;\n",
       "    }\n",
       "\n",
       "    .dataframe thead th {\n",
       "        text-align: right;\n",
       "    }\n",
       "</style>\n",
       "<table border=\"1\" class=\"dataframe\">\n",
       "  <thead>\n",
       "    <tr style=\"text-align: right;\">\n",
       "      <th></th>\n",
       "      <th>Model</th>\n",
       "      <th>RMSE</th>\n",
       "      <th>MAE</th>\n",
       "      <th>R^2</th>\n",
       "      <th>Max Error</th>\n",
       "    </tr>\n",
       "  </thead>\n",
       "  <tbody>\n",
       "    <tr>\n",
       "      <th>0</th>\n",
       "      <td>Decision Tree</td>\n",
       "      <td>0.054628</td>\n",
       "      <td>0.031375</td>\n",
       "      <td>0.999478</td>\n",
       "      <td>1.150802</td>\n",
       "    </tr>\n",
       "    <tr>\n",
       "      <th>1</th>\n",
       "      <td>Random Forest</td>\n",
       "      <td>0.029430</td>\n",
       "      <td>0.013941</td>\n",
       "      <td>0.999840</td>\n",
       "      <td>0.943866</td>\n",
       "    </tr>\n",
       "    <tr>\n",
       "      <th>2</th>\n",
       "      <td>KNN Regressor</td>\n",
       "      <td>1.418789</td>\n",
       "      <td>1.001860</td>\n",
       "      <td>0.652636</td>\n",
       "      <td>6.804970</td>\n",
       "    </tr>\n",
       "    <tr>\n",
       "      <th>3</th>\n",
       "      <td>XGBoost</td>\n",
       "      <td>0.052053</td>\n",
       "      <td>0.033237</td>\n",
       "      <td>0.999532</td>\n",
       "      <td>0.932786</td>\n",
       "    </tr>\n",
       "  </tbody>\n",
       "</table>\n",
       "</div>"
      ],
      "text/plain": [
       "           Model      RMSE       MAE       R^2  Max Error\n",
       "0  Decision Tree  0.054628  0.031375  0.999478   1.150802\n",
       "1  Random Forest  0.029430  0.013941  0.999840   0.943866\n",
       "2  KNN Regressor  1.418789  1.001860  0.652636   6.804970\n",
       "3        XGBoost  0.052053  0.033237  0.999532   0.932786"
      ]
     },
     "execution_count": 36,
     "metadata": {},
     "output_type": "execute_result"
    }
   ],
   "source": [
    "df_cv5"
   ]
  },
  {
   "cell_type": "code",
   "execution_count": 45,
   "metadata": {},
   "outputs": [],
   "source": [
    "import seaborn as sns\n",
    "\n",
    "def plot_models_metrics_cv(df, title):\n",
    "    \n",
    "    # Création d'un dataframe pour chaque metrics\n",
    "    RMSE_df = df_cv5[['Model', 'RMSE']].copy()\n",
    "    MAE_df = df_cv5[['Model', 'MAE']].copy()\n",
    "    R2_df = df_cv5[['Model', 'R^2']].copy()\n",
    "    MAXE_df = df_cv5[['Model', 'Max Error']].copy()\n",
    "    \n",
    "    \n",
    "    # Melt the data frames\n",
    "    RMSE_df = pd.melt(RMSE_df, id_vars=['Model'], var_name='metric', value_name='value')\n",
    "    MAE_df = pd.melt(MAE_df, id_vars=['Model'], var_name='metric', value_name='value')\n",
    "    R2_df = pd.melt(R2_df, id_vars=['Model'], var_name='metric', value_name='value')\n",
    "    MAXE_df = pd.melt(MAXE_df, id_vars=['Model'], var_name='metric', value_name='value')\n",
    "\n",
    "    # Créer un bar chart pour chaque metrics\n",
    "    plt.figure(figsize=(16, 8))\n",
    "    plt.suptitle(title, fontsize=16)\n",
    "\n",
    "    plt.subplot(2, 2, 1)\n",
    "    sns.barplot(x=\"Model\", y=\"value\", data=RMSE_df)\n",
    "    plt.title(\"RMSE\")\n",
    "\n",
    "    plt.subplot(2, 2, 2)\n",
    "    sns.barplot(x=\"Model\", y=\"value\", data=MAE_df)\n",
    "    plt.title(\"MAE\")\n",
    "\n",
    "    plt.subplot(2, 2, 3)\n",
    "    sns.barplot(x=\"Model\", y=\"value\", data=R2_df)\n",
    "    plt.title(\"R2\")\n",
    "\n",
    "    plt.subplot(2, 2, 4)\n",
    "    sns.barplot(x=\"Model\", y=\"value\", data=MAXE_df)\n",
    "    plt.title(\"Max Error\")\n",
    "    \n",
    "    plt.tight_layout()\n",
    "    plt.show()"
   ]
  },
  {
   "cell_type": "code",
   "execution_count": 46,
   "metadata": {},
   "outputs": [
    {
     "data": {
      "image/png": "[encoded data removed]",
      "text/plain": [
       "<Figure size 1600x800 with 4 Axes>"
      ]
     },
     "metadata": {},
     "output_type": "display_data"
    }
   ],
   "source": [
    "plot_models_metrics_cv(df, title = \"Performance Comparison of Regression Models after cv5\")"
   ]
  },
  {
   "cell_type": "markdown",
   "metadata": {},
   "source": [
    "We can see that the Knn Regressor is cleary the worse model. Apart, from that the others models performs very well"
   ]
  },
  {
   "cell_type": "code",
   "execution_count": null,
   "metadata": {},
   "outputs": [],
   "source": []
  }
 ],
 "metadata": {
  "kernelspec": {
   "display_name": "Python 3 (ipykernel)",
   "language": "python",
   "name": "python3"
  },
  "language_info": {
   "codemirror_mode": {
    "name": "ipython",
    "version": 3
   },
   "file_extension": ".py",
   "mimetype": "text/x-python",
   "name": "python",
   "nbconvert_exporter": "python",
   "pygments_lexer": "ipython3",
   "version": "3.9.13"
  }
 },
 "nbformat": 4,
 "nbformat_minor": 2
}
