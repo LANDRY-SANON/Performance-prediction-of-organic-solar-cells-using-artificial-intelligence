{
  "nbformat": 4,
  "nbformat_minor": 0,
  "metadata": {
    "colab": {
      "provenance": []
    },
    "kernelspec": {
      "name": "python3",
      "display_name": "Python 3"
    },
    "language_info": {
      "name": "python"
    },
    "accelerator": "GPU",
    "gpuClass": "standard"
  },
  "cells": [
    {
      "cell_type": "code",
      "execution_count": null,
      "metadata": {
        "id": "W8w1WPoa-gI7"
      },
      "outputs": [],
      "source": [
        "from rdkit import Chem\n",
        "from mordred import Calculator, descriptors\n",
        "import pandas as pd\n",
        "import numpy as np\n",
        " "
      ]
    },
    {
      "cell_type": "code",
      "source": [
        "from google.colab import drive\n",
        "drive.mount('/content/drive', force_remount=True)"
      ],
      "metadata": {
        "colab": {
          "base_uri": "https://localhost:8080/"
        },
        "id": "wz_wDezr_T7E",
        "outputId": "f0efa0ba-64a9-46a5-88b7-c5731c27c034"
      },
      "execution_count": null,
      "outputs": [
        {
          "output_type": "stream",
          "name": "stdout",
          "text": [
            "Mounted at /content/drive\n"
          ]
        }
      ]
    },
    {
      "cell_type": "code",
      "source": [
        "test_data=pd.read_csv(\"/content/drive/MyDrive/new_combinaison.csv\")\n",
        "test_data"
      ],
      "metadata": {
        "colab": {
          "base_uri": "https://localhost:8080/",
          "height": 973
        },
        "id": "TP5osBkw_b0q",
        "outputId": "f6be89a5-411b-47ce-f276-8bc7e1bd3c53"
      },
      "execution_count": null,
      "outputs": [
        {
          "output_type": "execute_result",
          "data": {
            "text/plain": [
              "                      D_A Reported Acceptor  \\\n",
              "0        PPDT2FBT__BTDT2R            BTDT2R   \n",
              "1         PTB7-Th__BTDT2R            BTDT2R   \n",
              "2            P3HT__BTDT2R            BTDT2R   \n",
              "3         PBDB-TF__BTDT2R            BTDT2R   \n",
              "4       PB24-3TDC__BTDT2R            BTDT2R   \n",
              "...                   ...               ...   \n",
              "156035       PBQ-0F__6TBA              6TBA   \n",
              "156036       PBQ-QF__6TBA              6TBA   \n",
              "156037       PBQ-4F__6TBA              6TBA   \n",
              "156038          ZR1__6TBA              6TBA   \n",
              "156039   PBDB-T-4Cl__6TBA              6TBA   \n",
              "\n",
              "                                               acc_SMILES Reported Donor   \\\n",
              "0       CCOc1c(OCC)c(-c2ccc(/C=C3\\SC(=S)N(CC)C3=O)s2)c...        PPDT2FBT   \n",
              "1       CCOc1c(OCC)c(-c2ccc(/C=C3\\SC(=S)N(CC)C3=O)s2)c...         PTB7-Th   \n",
              "2       CCOc1c(OCC)c(-c2ccc(/C=C3\\SC(=S)N(CC)C3=O)s2)c...            P3HT   \n",
              "3       CCOc1c(OCC)c(-c2ccc(/C=C3\\SC(=S)N(CC)C3=O)s2)c...         PBDB-TF   \n",
              "4       CCOc1c(OCC)c(-c2ccc(/C=C3\\SC(=S)N(CC)C3=O)s2)c...       PB24-3TDC   \n",
              "...                                                   ...             ...   \n",
              "156035  CCc1ccc(C2(c3ccc(CC)cc3)c3c(sc4cc(C=C5C(=O)N(C...          PBQ-0F   \n",
              "156036  CCc1ccc(C2(c3ccc(CC)cc3)c3c(sc4cc(C=C5C(=O)N(C...          PBQ-QF   \n",
              "156037  CCc1ccc(C2(c3ccc(CC)cc3)c3c(sc4cc(C=C5C(=O)N(C...          PBQ-4F   \n",
              "156038  CCc1ccc(C2(c3ccc(CC)cc3)c3c(sc4cc(C=C5C(=O)N(C...             ZR1   \n",
              "156039  CCc1ccc(C2(c3ccc(CC)cc3)c3c(sc4cc(C=C5C(=O)N(C...      PBDB-T-4Cl   \n",
              "\n",
              "                                               don_SMILES  \n",
              "0       CCOc1ccc(OCC)c(-c2ccc(-c3c(F)c(F)c(-c4ccc(-c5c...  \n",
              "1       CCOC(=O)c1sc2c(-c3cc4c(-c5ccc(CC)s5)c5sc(-c6sc...  \n",
              "2       CCc1cc(C)sc1-c1sc(-c2cc(CC)c(-c3sc(-c4cc(CC)c(...  \n",
              "3       CCc1sc(-c2c3cc(-c4ccc(-c5sc(-c6ccc(-c7cc8c(-c9...  \n",
              "4       CCOC(=O)c1ccsc1-c1ccc(-c2sc(-c3ccc(-c4c(F)c(F)...  \n",
              "...                                                   ...  \n",
              "156035  CCOc1cccc(-c2nc3c(-c4cccs4)ccc(-c4ccc(-c5cc6c(...  \n",
              "156036  CCOc1cccc(-c2nc3c(-c4cccs4)c(F)c(F)c(-c4ccc(-c...  \n",
              "156037  CCOc1cccc(-c2nc3c(-c4cccs4)c(F)c(F)c(-c4ccc(-c...  \n",
              "156038  CCc1ccc(-c2c3sc4cc(-c5cc(CC)c(-c6ccc(/C=C7/SC(...  \n",
              "156039  CCc1sc(-c2c3cc(-c4sc(-c5sc(-c6cc(Cl)c(-c7cc8c(...  \n",
              "\n",
              "[156040 rows x 5 columns]"
            ],
            "text/html": [
              "\n",
              "  <div id=\"df-d2470632-5268-40ae-a82a-9adea11ebbe6\">\n",
              "    <div class=\"colab-df-container\">\n",
              "      <div>\n",
              "<style scoped>\n",
              "    .dataframe tbody tr th:only-of-type {\n",
              "        vertical-align: middle;\n",
              "    }\n",
              "\n",
              "    .dataframe tbody tr th {\n",
              "        vertical-align: top;\n",
              "    }\n",
              "\n",
              "    .dataframe thead th {\n",
              "        text-align: right;\n",
              "    }\n",
              "</style>\n",
              "<table border=\"1\" class=\"dataframe\">\n",
              "  <thead>\n",
              "    <tr style=\"text-align: right;\">\n",
              "      <th></th>\n",
              "      <th>D_A</th>\n",
              "      <th>Reported Acceptor</th>\n",
              "      <th>acc_SMILES</th>\n",
              "      <th>Reported Donor</th>\n",
              "      <th>don_SMILES</th>\n",
              "    </tr>\n",
              "  </thead>\n",
              "  <tbody>\n",
              "    <tr>\n",
              "      <th>0</th>\n",
              "      <td>PPDT2FBT__BTDT2R</td>\n",
              "      <td>BTDT2R</td>\n",
              "      <td>CCOc1c(OCC)c(-c2ccc(/C=C3\\SC(=S)N(CC)C3=O)s2)c...</td>\n",
              "      <td>PPDT2FBT</td>\n",
              "      <td>CCOc1ccc(OCC)c(-c2ccc(-c3c(F)c(F)c(-c4ccc(-c5c...</td>\n",
              "    </tr>\n",
              "    <tr>\n",
              "      <th>1</th>\n",
              "      <td>PTB7-Th__BTDT2R</td>\n",
              "      <td>BTDT2R</td>\n",
              "      <td>CCOc1c(OCC)c(-c2ccc(/C=C3\\SC(=S)N(CC)C3=O)s2)c...</td>\n",
              "      <td>PTB7-Th</td>\n",
              "      <td>CCOC(=O)c1sc2c(-c3cc4c(-c5ccc(CC)s5)c5sc(-c6sc...</td>\n",
              "    </tr>\n",
              "    <tr>\n",
              "      <th>2</th>\n",
              "      <td>P3HT__BTDT2R</td>\n",
              "      <td>BTDT2R</td>\n",
              "      <td>CCOc1c(OCC)c(-c2ccc(/C=C3\\SC(=S)N(CC)C3=O)s2)c...</td>\n",
              "      <td>P3HT</td>\n",
              "      <td>CCc1cc(C)sc1-c1sc(-c2cc(CC)c(-c3sc(-c4cc(CC)c(...</td>\n",
              "    </tr>\n",
              "    <tr>\n",
              "      <th>3</th>\n",
              "      <td>PBDB-TF__BTDT2R</td>\n",
              "      <td>BTDT2R</td>\n",
              "      <td>CCOc1c(OCC)c(-c2ccc(/C=C3\\SC(=S)N(CC)C3=O)s2)c...</td>\n",
              "      <td>PBDB-TF</td>\n",
              "      <td>CCc1sc(-c2c3cc(-c4ccc(-c5sc(-c6ccc(-c7cc8c(-c9...</td>\n",
              "    </tr>\n",
              "    <tr>\n",
              "      <th>4</th>\n",
              "      <td>PB24-3TDC__BTDT2R</td>\n",
              "      <td>BTDT2R</td>\n",
              "      <td>CCOc1c(OCC)c(-c2ccc(/C=C3\\SC(=S)N(CC)C3=O)s2)c...</td>\n",
              "      <td>PB24-3TDC</td>\n",
              "      <td>CCOC(=O)c1ccsc1-c1ccc(-c2sc(-c3ccc(-c4c(F)c(F)...</td>\n",
              "    </tr>\n",
              "    <tr>\n",
              "      <th>...</th>\n",
              "      <td>...</td>\n",
              "      <td>...</td>\n",
              "      <td>...</td>\n",
              "      <td>...</td>\n",
              "      <td>...</td>\n",
              "    </tr>\n",
              "    <tr>\n",
              "      <th>156035</th>\n",
              "      <td>PBQ-0F__6TBA</td>\n",
              "      <td>6TBA</td>\n",
              "      <td>CCc1ccc(C2(c3ccc(CC)cc3)c3c(sc4cc(C=C5C(=O)N(C...</td>\n",
              "      <td>PBQ-0F</td>\n",
              "      <td>CCOc1cccc(-c2nc3c(-c4cccs4)ccc(-c4ccc(-c5cc6c(...</td>\n",
              "    </tr>\n",
              "    <tr>\n",
              "      <th>156036</th>\n",
              "      <td>PBQ-QF__6TBA</td>\n",
              "      <td>6TBA</td>\n",
              "      <td>CCc1ccc(C2(c3ccc(CC)cc3)c3c(sc4cc(C=C5C(=O)N(C...</td>\n",
              "      <td>PBQ-QF</td>\n",
              "      <td>CCOc1cccc(-c2nc3c(-c4cccs4)c(F)c(F)c(-c4ccc(-c...</td>\n",
              "    </tr>\n",
              "    <tr>\n",
              "      <th>156037</th>\n",
              "      <td>PBQ-4F__6TBA</td>\n",
              "      <td>6TBA</td>\n",
              "      <td>CCc1ccc(C2(c3ccc(CC)cc3)c3c(sc4cc(C=C5C(=O)N(C...</td>\n",
              "      <td>PBQ-4F</td>\n",
              "      <td>CCOc1cccc(-c2nc3c(-c4cccs4)c(F)c(F)c(-c4ccc(-c...</td>\n",
              "    </tr>\n",
              "    <tr>\n",
              "      <th>156038</th>\n",
              "      <td>ZR1__6TBA</td>\n",
              "      <td>6TBA</td>\n",
              "      <td>CCc1ccc(C2(c3ccc(CC)cc3)c3c(sc4cc(C=C5C(=O)N(C...</td>\n",
              "      <td>ZR1</td>\n",
              "      <td>CCc1ccc(-c2c3sc4cc(-c5cc(CC)c(-c6ccc(/C=C7/SC(...</td>\n",
              "    </tr>\n",
              "    <tr>\n",
              "      <th>156039</th>\n",
              "      <td>PBDB-T-4Cl__6TBA</td>\n",
              "      <td>6TBA</td>\n",
              "      <td>CCc1ccc(C2(c3ccc(CC)cc3)c3c(sc4cc(C=C5C(=O)N(C...</td>\n",
              "      <td>PBDB-T-4Cl</td>\n",
              "      <td>CCc1sc(-c2c3cc(-c4sc(-c5sc(-c6cc(Cl)c(-c7cc8c(...</td>\n",
              "    </tr>\n",
              "  </tbody>\n",
              "</table>\n",
              "<p>156040 rows × 5 columns</p>\n",
              "</div>\n",
              "      <button class=\"colab-df-convert\" onclick=\"convertToInteractive('df-d2470632-5268-40ae-a82a-9adea11ebbe6')\"\n",
              "              title=\"Convert this dataframe to an interactive table.\"\n",
              "              style=\"display:none;\">\n",
              "        \n",
              "  <svg xmlns=\"http://www.w3.org/2000/svg\" height=\"24px\"viewBox=\"0 0 24 24\"\n",
              "       width=\"24px\">\n",
              "    <path d=\"M0 0h24v24H0V0z\" fill=\"none\"/>\n",
              "    <path d=\"M18.56 5.44l.94 2.06.94-2.06 2.06-.94-2.06-.94-.94-2.06-.94 2.06-2.06.94zm-11 1L8.5 8.5l.94-2.06 2.06-.94-2.06-.94L8.5 2.5l-.94 2.06-2.06.94zm10 10l.94 2.06.94-2.06 2.06-.94-2.06-.94-.94-2.06-.94 2.06-2.06.94z\"/><path d=\"M17.41 7.96l-1.37-1.37c-.4-.4-.92-.59-1.43-.59-.52 0-1.04.2-1.43.59L10.3 9.45l-7.72 7.72c-.78.78-.78 2.05 0 2.83L4 21.41c.39.39.9.59 1.41.59.51 0 1.02-.2 1.41-.59l7.78-7.78 2.81-2.81c.8-.78.8-2.07 0-2.86zM5.41 20L4 18.59l7.72-7.72 1.47 1.35L5.41 20z\"/>\n",
              "  </svg>\n",
              "      </button>\n",
              "      \n",
              "  <style>\n",
              "    .colab-df-container {\n",
              "      display:flex;\n",
              "      flex-wrap:wrap;\n",
              "      gap: 12px;\n",
              "    }\n",
              "\n",
              "    .colab-df-convert {\n",
              "      background-color: #E8F0FE;\n",
              "      border: none;\n",
              "      border-radius: 50%;\n",
              "      cursor: pointer;\n",
              "      display: none;\n",
              "      fill: #1967D2;\n",
              "      height: 32px;\n",
              "      padding: 0 0 0 0;\n",
              "      width: 32px;\n",
              "    }\n",
              "\n",
              "    .colab-df-convert:hover {\n",
              "      background-color: #E2EBFA;\n",
              "      box-shadow: 0px 1px 2px rgba(60, 64, 67, 0.3), 0px 1px 3px 1px rgba(60, 64, 67, 0.15);\n",
              "      fill: #174EA6;\n",
              "    }\n",
              "\n",
              "    [theme=dark] .colab-df-convert {\n",
              "      background-color: #3B4455;\n",
              "      fill: #D2E3FC;\n",
              "    }\n",
              "\n",
              "    [theme=dark] .colab-df-convert:hover {\n",
              "      background-color: #434B5C;\n",
              "      box-shadow: 0px 1px 3px 1px rgba(0, 0, 0, 0.15);\n",
              "      filter: drop-shadow(0px 1px 2px rgba(0, 0, 0, 0.3));\n",
              "      fill: #FFFFFF;\n",
              "    }\n",
              "  </style>\n",
              "\n",
              "      <script>\n",
              "        const buttonEl =\n",
              "          document.querySelector('#df-d2470632-5268-40ae-a82a-9adea11ebbe6 button.colab-df-convert');\n",
              "        buttonEl.style.display =\n",
              "          google.colab.kernel.accessAllowed ? 'block' : 'none';\n",
              "\n",
              "        async function convertToInteractive(key) {\n",
              "          const element = document.querySelector('#df-d2470632-5268-40ae-a82a-9adea11ebbe6');\n",
              "          const dataTable =\n",
              "            await google.colab.kernel.invokeFunction('convertToInteractive',\n",
              "                                                     [key], {});\n",
              "          if (!dataTable) return;\n",
              "\n",
              "          const docLinkHtml = 'Like what you see? Visit the ' +\n",
              "            '<a target=\"_blank\" href=https://colab.research.google.com/notebooks/data_table.ipynb>data table notebook</a>'\n",
              "            + ' to learn more about interactive tables.';\n",
              "          element.innerHTML = '';\n",
              "          dataTable['output_type'] = 'display_data';\n",
              "          await google.colab.output.renderOutput(dataTable, element);\n",
              "          const docLink = document.createElement('div');\n",
              "          docLink.innerHTML = docLinkHtml;\n",
              "          element.appendChild(docLink);\n",
              "        }\n",
              "      </script>\n",
              "    </div>\n",
              "  </div>\n",
              "  "
            ]
          },
          "metadata": {},
          "execution_count": 7
        }
      ]
    },
    {
      "cell_type": "code",
      "source": [
        "def calculate_descriptors(smiles):\n",
        "\n",
        "  \"\"\"\n",
        "  Calculates molecular descriptors from a SMILES string.\n",
        "\n",
        "  Args:\n",
        "      smiles (str): The input SMILES string.\n",
        "\n",
        "  Returns:\n",
        "      dict: A dictionary containing molecular descriptors as keys and their corresponding values.\n",
        "          Returns None if the SMILES string cannot be converted to an rdkit.Chem.Mol instance.\n",
        "\n",
        "  Raises:\n",
        "      None.\n",
        "\n",
        "  Example:\n",
        "      >>> calculate_descriptors('CCO')\n",
        "      {'MaxEStateIndex': 6.01875, 'MinEStateIndex': 0.78125, '...}\n",
        "\n",
        "  \"\"\"\n",
        "  try:\n",
        "    mol = Chem.MolFromSmiles(smiles)\n",
        "    if mol is None : \n",
        "      return None\n",
        "    calc = Calculator(descriptors)\n",
        "    desc = calc(mol)\n",
        "    return desc.asdict()\n",
        "  except ValueError:\n",
        "        print(\"Unable to convert SMILES string to rdkit.Chem.Mol instance.\")\n",
        "        return None\n"
      ],
      "metadata": {
        "id": "kvH_SAfs_b39"
      },
      "execution_count": 1,
      "outputs": []
    },
    {
      "cell_type": "markdown",
      "source": [
        "**Generate descriptors of Acceptors smiles**"
      ],
      "metadata": {
        "id": "rYHIEHvzz2yK"
      }
    },
    {
      "cell_type": "code",
      "source": [
        "uni=pd.DataFrame(np.unique(test_data[\"acc_SMILES\"]))\n",
        "uni=uni.rename({0 : \"acc_SMILES\"}, axis='columns')\n",
        "mask = uni['acc_SMILES'] == 'bad mol'\n",
        "uni = uni[~mask]\n",
        "len(uni)"
      ],
      "metadata": {
        "colab": {
          "base_uri": "https://localhost:8080/"
        },
        "id": "BtAuXAYgAEPh",
        "outputId": "4a6f8e51-103f-443c-c82c-7cd5bf0d353e"
      },
      "execution_count": null,
      "outputs": [
        {
          "output_type": "execute_result",
          "data": {
            "text/plain": [
              "210"
            ]
          },
          "metadata": {},
          "execution_count": 9
        }
      ]
    },
    {
      "cell_type": "code",
      "source": [
        "desc_dfA = pd.DataFrame(list(uni['acc_SMILES'].apply(calculate_descriptors))) "
      ],
      "metadata": {
        "id": "f9d-UL1-Fsif"
      },
      "execution_count": null,
      "outputs": []
    },
    {
      "cell_type": "code",
      "source": [
        "desc_dfA.to_csv('acc_desc.csv', index=False)"
      ],
      "metadata": {
        "id": "KTwbUSerPG_X"
      },
      "execution_count": null,
      "outputs": []
    },
    {
      "cell_type": "code",
      "source": [
        "\n",
        "new_columns = [col_name + '_acceptor' for col_name in desc_dfA.columns]\n",
        "desc_dfA.columns = new_columns\n",
        "desc_dfA"
      ],
      "metadata": {
        "id": "yyK8nI97uRpU"
      },
      "execution_count": null,
      "outputs": []
    },
    {
      "cell_type": "code",
      "source": [
        "\n",
        "test_data_with_acc_smiles=pd.concat([uni, desc_dfA], axis=1)"
      ],
      "metadata": {
        "id": "-lgKAwff37qj"
      },
      "execution_count": null,
      "outputs": []
    },
    {
      "cell_type": "code",
      "source": [
        "\n",
        "test_data_with_acc_smiles=pd.merge(test_data_with_acc_smiles, test_data, on='acc_SMILES')"
      ],
      "metadata": {
        "id": "AJVcGcXe3-Xl"
      },
      "execution_count": null,
      "outputs": []
    },
    {
      "cell_type": "markdown",
      "source": [
        "**Generate descriptors of Donors smiles**"
      ],
      "metadata": {
        "id": "j_MTF6GEzN0S"
      }
    },
    {
      "cell_type": "code",
      "source": [
        "uni=pd.DataFrame(np.unique(test_data[\"don_SMILES\"]))\n",
        "uni=uni.rename({0 : \"don_SMILES\"}, axis='columns')\n",
        "mask = uni['don_SMILES'] == 'bad mol'\n",
        "uni = uni[~mask]\n",
        "len(uni)"
      ],
      "metadata": {
        "id": "gOSL3Jvptk1t"
      },
      "execution_count": null,
      "outputs": []
    },
    {
      "cell_type": "code",
      "source": [
        "desc_df = pd.DataFrame(list(uni['don_SMILES'].apply(calculate_descriptors))) \n",
        "desc_df.to_csv('don_desc.csv', index=False)"
      ],
      "metadata": {
        "id": "zkRTl8j7ts-V"
      },
      "execution_count": null,
      "outputs": []
    },
    {
      "cell_type": "code",
      "source": [
        "new_columns = [col_name + '_donor' for col_name in desc_df.columns]\n",
        "desc_df.columns = new_columns\n",
        "desc_df"
      ],
      "metadata": {
        "id": "SFTZLEf_ZcJr"
      },
      "execution_count": null,
      "outputs": []
    },
    {
      "cell_type": "code",
      "source": [
        "test_data_with_don_smiles=pd.concat([uni, desc_df], axis=1)"
      ],
      "metadata": {
        "id": "RCqBzkNh2KgE"
      },
      "execution_count": null,
      "outputs": []
    },
    {
      "cell_type": "code",
      "source": [
        "test_data_with_don_smiles=pd.merge(test_data_with_don_smiles, test_data_with_acc_smiles, on='don_SMILES')"
      ],
      "metadata": {
        "id": "TNss3NfB2Xdk"
      },
      "execution_count": null,
      "outputs": []
    },
    {
      "cell_type": "code",
      "source": [
        "test_data_with_don_smiles.to_csv('test_with_descriptor.csv', index=False)"
      ],
      "metadata": {
        "id": "mvn28uiu37kg"
      },
      "execution_count": null,
      "outputs": []
    },
    {
      "cell_type": "code",
      "source": [],
      "metadata": {
        "id": "DJ45QQ5t3-eK"
      },
      "execution_count": null,
      "outputs": []
    }
  ]
}