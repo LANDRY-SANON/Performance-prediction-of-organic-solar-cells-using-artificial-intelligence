{
 "cells": [
  {
   "cell_type": "code",
   "execution_count": 20,
   "metadata": {},
   "outputs": [],
   "source": [
    "import pandas as pd\n",
    "import numpy as np\n",
    "\n",
    "import matplotlib.pyplot as plt\n",
    "import seaborn as sns\n",
    "from ydata_profiling import ProfileReport\n",
    "\n",
    "#from rdkit import Chem\n",
    "#from rdkit.Chem.Draw import IPythonConsole\n",
    "#from rdkit.Chem import Draw\n",
    "\n",
    "import shap\n",
    "import xgboost as xgb\n",
    "from sklearn.tree import DecisionTreeRegressor\n",
    "from sklearn.ensemble import RandomForestRegressor\n",
    "from sklearn.neighbors import KNeighborsRegressor\n",
    "\n",
    "\n",
    "\n",
    "from sklearn.metrics import make_scorer ,mean_squared_error, mean_absolute_error, r2_score, explained_variance_score, max_error\n",
    "\n",
    "from scipy.stats import skew\n",
    "\n",
    "from sklearn.preprocessing import StandardScaler\n",
    "\n",
    "from sklearn.model_selection import train_test_split\n",
    "from sklearn.model_selection import cross_validate , cross_val_score"
   ]
  },
  {
   "cell_type": "code",
   "execution_count": 2,
   "metadata": {},
   "outputs": [],
   "source": [
    "data= pd.read_csv(\"data\\CEPDB_25000.csv\")"
   ]
  },
  {
   "cell_type": "code",
   "execution_count": 3,
   "metadata": {},
   "outputs": [
    {
     "data": {
      "text/html": [
       "<div>\n",
       "<style scoped>\n",
       "    .dataframe tbody tr th:only-of-type {\n",
       "        vertical-align: middle;\n",
       "    }\n",
       "\n",
       "    .dataframe tbody tr th {\n",
       "        vertical-align: top;\n",
       "    }\n",
       "\n",
       "    .dataframe thead th {\n",
       "        text-align: right;\n",
       "    }\n",
       "</style>\n",
       "<table border=\"1\" class=\"dataframe\">\n",
       "  <thead>\n",
       "    <tr style=\"text-align: right;\">\n",
       "      <th></th>\n",
       "      <th>id</th>\n",
       "      <th>SMILES_str</th>\n",
       "      <th>stoich_str</th>\n",
       "      <th>mass</th>\n",
       "      <th>pce</th>\n",
       "      <th>voc</th>\n",
       "      <th>jsc</th>\n",
       "      <th>e_homo_alpha</th>\n",
       "      <th>e_gap_alpha</th>\n",
       "      <th>e_lumo_alpha</th>\n",
       "      <th>tmp_smiles_str</th>\n",
       "      <th>ml_phase</th>\n",
       "    </tr>\n",
       "  </thead>\n",
       "  <tbody>\n",
       "    <tr>\n",
       "      <th>0</th>\n",
       "      <td>1503301</td>\n",
       "      <td>C1C=c2c-3c([SiH2]c4cc[nH]c-34)c3cnc(cc3c2=C1)-...</td>\n",
       "      <td>C21H13N5SSi</td>\n",
       "      <td>395.5207</td>\n",
       "      <td>8.236346</td>\n",
       "      <td>0.641905</td>\n",
       "      <td>197.474780</td>\n",
       "      <td>-5.241905</td>\n",
       "      <td>1.463722</td>\n",
       "      <td>-3.778183</td>\n",
       "      <td>[nH]1ccc2[SiH2]c3c(-c12)c1=CCC=c1c1cc(ncc31)-c...</td>\n",
       "      <td>train</td>\n",
       "    </tr>\n",
       "    <tr>\n",
       "      <th>1</th>\n",
       "      <td>2540778</td>\n",
       "      <td>[SiH2]1C=c2ccc3sc4c([nH]c5cc(-c6scc7C=C[SiH2]c...</td>\n",
       "      <td>C24H17NS2Si3</td>\n",
       "      <td>467.7953</td>\n",
       "      <td>5.738034</td>\n",
       "      <td>0.427601</td>\n",
       "      <td>206.524926</td>\n",
       "      <td>-5.027601</td>\n",
       "      <td>1.427000</td>\n",
       "      <td>-3.600601</td>\n",
       "      <td>[nH]1c2cc(-c3scc4C=C[SiH2]c34)c3=C[SiH2]C=c3c2...</td>\n",
       "      <td>train</td>\n",
       "    </tr>\n",
       "    <tr>\n",
       "      <th>2</th>\n",
       "      <td>615142</td>\n",
       "      <td>c1[nH]cc2c1ccc1cnc3cc4cc([se]c4cc3c21)-c1ncncn1</td>\n",
       "      <td>C20H11N5Se</td>\n",
       "      <td>400.3019</td>\n",
       "      <td>5.038762</td>\n",
       "      <td>0.873908</td>\n",
       "      <td>88.737230</td>\n",
       "      <td>-5.473908</td>\n",
       "      <td>2.042885</td>\n",
       "      <td>-3.431022</td>\n",
       "      <td>c1cc2cnc3cc4cc([se]c4cc3c2c2c[nH]cc12)-c1ncncn1</td>\n",
       "      <td>train</td>\n",
       "    </tr>\n",
       "    <tr>\n",
       "      <th>3</th>\n",
       "      <td>124449</td>\n",
       "      <td>C1C=c2c(cc3ccc4c5cnccc5c5cocc5c4c3c2=C1)-c1cccs1</td>\n",
       "      <td>C26H15NOS</td>\n",
       "      <td>389.4765</td>\n",
       "      <td>3.507048</td>\n",
       "      <td>0.732531</td>\n",
       "      <td>73.682314</td>\n",
       "      <td>-5.332531</td>\n",
       "      <td>2.162777</td>\n",
       "      <td>-3.169754</td>\n",
       "      <td>c1ccc(s1)-c1cc2ccc3c4cnccc4c4cocc4c3c2c2=CCC=c12</td>\n",
       "      <td>train</td>\n",
       "    </tr>\n",
       "    <tr>\n",
       "      <th>4</th>\n",
       "      <td>1008442</td>\n",
       "      <td>C1cc2ccc3sc4cc5ccc6c[SiH2]cc6c5cc4c3c2c1</td>\n",
       "      <td>C21H14SSi</td>\n",
       "      <td>326.4936</td>\n",
       "      <td>4.020859</td>\n",
       "      <td>0.630730</td>\n",
       "      <td>98.112205</td>\n",
       "      <td>-5.230730</td>\n",
       "      <td>1.978195</td>\n",
       "      <td>-3.252535</td>\n",
       "      <td>c1cc2sc3cc4ccc5c[SiH2]cc5c4cc3c2c2cCcc12</td>\n",
       "      <td>train</td>\n",
       "    </tr>\n",
       "  </tbody>\n",
       "</table>\n",
       "</div>"
      ],
      "text/plain": [
       "        id                                         SMILES_str    stoich_str  \\\n",
       "0  1503301  C1C=c2c-3c([SiH2]c4cc[nH]c-34)c3cnc(cc3c2=C1)-...   C21H13N5SSi   \n",
       "1  2540778  [SiH2]1C=c2ccc3sc4c([nH]c5cc(-c6scc7C=C[SiH2]c...  C24H17NS2Si3   \n",
       "2   615142    c1[nH]cc2c1ccc1cnc3cc4cc([se]c4cc3c21)-c1ncncn1    C20H11N5Se   \n",
       "3   124449   C1C=c2c(cc3ccc4c5cnccc5c5cocc5c4c3c2=C1)-c1cccs1     C26H15NOS   \n",
       "4  1008442           C1cc2ccc3sc4cc5ccc6c[SiH2]cc6c5cc4c3c2c1     C21H14SSi   \n",
       "\n",
       "       mass       pce       voc         jsc  e_homo_alpha  e_gap_alpha  \\\n",
       "0  395.5207  8.236346  0.641905  197.474780     -5.241905     1.463722   \n",
       "1  467.7953  5.738034  0.427601  206.524926     -5.027601     1.427000   \n",
       "2  400.3019  5.038762  0.873908   88.737230     -5.473908     2.042885   \n",
       "3  389.4765  3.507048  0.732531   73.682314     -5.332531     2.162777   \n",
       "4  326.4936  4.020859  0.630730   98.112205     -5.230730     1.978195   \n",
       "\n",
       "   e_lumo_alpha                                     tmp_smiles_str ml_phase  \n",
       "0     -3.778183  [nH]1ccc2[SiH2]c3c(-c12)c1=CCC=c1c1cc(ncc31)-c...    train  \n",
       "1     -3.600601  [nH]1c2cc(-c3scc4C=C[SiH2]c34)c3=C[SiH2]C=c3c2...    train  \n",
       "2     -3.431022    c1cc2cnc3cc4cc([se]c4cc3c2c2c[nH]cc12)-c1ncncn1    train  \n",
       "3     -3.169754   c1ccc(s1)-c1cc2ccc3c4cnccc4c4cocc4c3c2c2=CCC=c12    train  \n",
       "4     -3.252535           c1cc2sc3cc4ccc5c[SiH2]cc5c4cc3c2c2cCcc12    train  "
      ]
     },
     "execution_count": 3,
     "metadata": {},
     "output_type": "execute_result"
    }
   ],
   "source": [
    "data.head()"
   ]
  },
  {
   "cell_type": "code",
   "execution_count": 4,
   "metadata": {},
   "outputs": [
    {
     "data": {
      "text/plain": [
       "Index(['id', 'SMILES_str', 'stoich_str', 'mass', 'pce', 'voc', 'jsc',\n",
       "       'e_homo_alpha', 'e_gap_alpha', 'e_lumo_alpha', 'tmp_smiles_str',\n",
       "       'ml_phase'],\n",
       "      dtype='object')"
      ]
     },
     "execution_count": 4,
     "metadata": {},
     "output_type": "execute_result"
    }
   ],
   "source": [
    "data.columns"
   ]
  },
  {
   "cell_type": "code",
   "execution_count": 5,
   "metadata": {},
   "outputs": [],
   "source": [
    "data=data.drop([\"ml_phase\",\"id\"],axis=1)"
   ]
  },
  {
   "cell_type": "code",
   "execution_count": 6,
   "metadata": {},
   "outputs": [
    {
     "data": {
      "text/html": [
       "<div>\n",
       "<style scoped>\n",
       "    .dataframe tbody tr th:only-of-type {\n",
       "        vertical-align: middle;\n",
       "    }\n",
       "\n",
       "    .dataframe tbody tr th {\n",
       "        vertical-align: top;\n",
       "    }\n",
       "\n",
       "    .dataframe thead th {\n",
       "        text-align: right;\n",
       "    }\n",
       "</style>\n",
       "<table border=\"1\" class=\"dataframe\">\n",
       "  <thead>\n",
       "    <tr style=\"text-align: right;\">\n",
       "      <th></th>\n",
       "      <th>SMILES_str</th>\n",
       "      <th>stoich_str</th>\n",
       "      <th>mass</th>\n",
       "      <th>pce</th>\n",
       "      <th>voc</th>\n",
       "      <th>jsc</th>\n",
       "      <th>e_homo_alpha</th>\n",
       "      <th>e_gap_alpha</th>\n",
       "      <th>e_lumo_alpha</th>\n",
       "      <th>tmp_smiles_str</th>\n",
       "    </tr>\n",
       "  </thead>\n",
       "  <tbody>\n",
       "    <tr>\n",
       "      <th>0</th>\n",
       "      <td>C1C=c2c-3c([SiH2]c4cc[nH]c-34)c3cnc(cc3c2=C1)-...</td>\n",
       "      <td>C21H13N5SSi</td>\n",
       "      <td>395.5207</td>\n",
       "      <td>8.236346</td>\n",
       "      <td>0.641905</td>\n",
       "      <td>197.474780</td>\n",
       "      <td>-5.241905</td>\n",
       "      <td>1.463722</td>\n",
       "      <td>-3.778183</td>\n",
       "      <td>[nH]1ccc2[SiH2]c3c(-c12)c1=CCC=c1c1cc(ncc31)-c...</td>\n",
       "    </tr>\n",
       "    <tr>\n",
       "      <th>1</th>\n",
       "      <td>[SiH2]1C=c2ccc3sc4c([nH]c5cc(-c6scc7C=C[SiH2]c...</td>\n",
       "      <td>C24H17NS2Si3</td>\n",
       "      <td>467.7953</td>\n",
       "      <td>5.738034</td>\n",
       "      <td>0.427601</td>\n",
       "      <td>206.524926</td>\n",
       "      <td>-5.027601</td>\n",
       "      <td>1.427000</td>\n",
       "      <td>-3.600601</td>\n",
       "      <td>[nH]1c2cc(-c3scc4C=C[SiH2]c34)c3=C[SiH2]C=c3c2...</td>\n",
       "    </tr>\n",
       "    <tr>\n",
       "      <th>2</th>\n",
       "      <td>c1[nH]cc2c1ccc1cnc3cc4cc([se]c4cc3c21)-c1ncncn1</td>\n",
       "      <td>C20H11N5Se</td>\n",
       "      <td>400.3019</td>\n",
       "      <td>5.038762</td>\n",
       "      <td>0.873908</td>\n",
       "      <td>88.737230</td>\n",
       "      <td>-5.473908</td>\n",
       "      <td>2.042885</td>\n",
       "      <td>-3.431022</td>\n",
       "      <td>c1cc2cnc3cc4cc([se]c4cc3c2c2c[nH]cc12)-c1ncncn1</td>\n",
       "    </tr>\n",
       "    <tr>\n",
       "      <th>3</th>\n",
       "      <td>C1C=c2c(cc3ccc4c5cnccc5c5cocc5c4c3c2=C1)-c1cccs1</td>\n",
       "      <td>C26H15NOS</td>\n",
       "      <td>389.4765</td>\n",
       "      <td>3.507048</td>\n",
       "      <td>0.732531</td>\n",
       "      <td>73.682314</td>\n",
       "      <td>-5.332531</td>\n",
       "      <td>2.162777</td>\n",
       "      <td>-3.169754</td>\n",
       "      <td>c1ccc(s1)-c1cc2ccc3c4cnccc4c4cocc4c3c2c2=CCC=c12</td>\n",
       "    </tr>\n",
       "    <tr>\n",
       "      <th>4</th>\n",
       "      <td>C1cc2ccc3sc4cc5ccc6c[SiH2]cc6c5cc4c3c2c1</td>\n",
       "      <td>C21H14SSi</td>\n",
       "      <td>326.4936</td>\n",
       "      <td>4.020859</td>\n",
       "      <td>0.630730</td>\n",
       "      <td>98.112205</td>\n",
       "      <td>-5.230730</td>\n",
       "      <td>1.978195</td>\n",
       "      <td>-3.252535</td>\n",
       "      <td>c1cc2sc3cc4ccc5c[SiH2]cc5c4cc3c2c2cCcc12</td>\n",
       "    </tr>\n",
       "    <tr>\n",
       "      <th>...</th>\n",
       "      <td>...</td>\n",
       "      <td>...</td>\n",
       "      <td>...</td>\n",
       "      <td>...</td>\n",
       "      <td>...</td>\n",
       "      <td>...</td>\n",
       "      <td>...</td>\n",
       "      <td>...</td>\n",
       "      <td>...</td>\n",
       "      <td>...</td>\n",
       "    </tr>\n",
       "    <tr>\n",
       "      <th>24995</th>\n",
       "      <td>C1C=c2ccc3[SiH2]c4c([nH]c5cc(oc45)-c4scc5[SiH2...</td>\n",
       "      <td>C21H15NOSSi2</td>\n",
       "      <td>385.5935</td>\n",
       "      <td>2.045460</td>\n",
       "      <td>0.156053</td>\n",
       "      <td>201.727494</td>\n",
       "      <td>-4.756053</td>\n",
       "      <td>1.445501</td>\n",
       "      <td>-3.310552</td>\n",
       "      <td>[nH]1c-2c([SiH2]c3ccc4=CCC=c4c-23)c2oc(cc12)-c...</td>\n",
       "    </tr>\n",
       "    <tr>\n",
       "      <th>24996</th>\n",
       "      <td>C1C=c2ccc3cc4[se]c5C=C(Cc5c4cc3c2=C1)C1=CC=CC1</td>\n",
       "      <td>C23H16Se</td>\n",
       "      <td>371.3394</td>\n",
       "      <td>2.097438</td>\n",
       "      <td>0.292111</td>\n",
       "      <td>110.506690</td>\n",
       "      <td>-4.892111</td>\n",
       "      <td>1.901301</td>\n",
       "      <td>-2.990811</td>\n",
       "      <td>C1=CC=C(C1)C1=Cc2[se]c3cc4ccc5=CCC=c5c4cc3c2C1</td>\n",
       "    </tr>\n",
       "    <tr>\n",
       "      <th>24997</th>\n",
       "      <td>C1C=Cc2ccc3c(sc4cc(-c5nccs5)c5c[nH]cc5c34)c12</td>\n",
       "      <td>C20H12N2S2</td>\n",
       "      <td>344.4608</td>\n",
       "      <td>2.183358</td>\n",
       "      <td>0.434750</td>\n",
       "      <td>77.291785</td>\n",
       "      <td>-5.034750</td>\n",
       "      <td>2.132758</td>\n",
       "      <td>-2.901991</td>\n",
       "      <td>C1=Cc2ccc3c(sc4cc(-c5nccs5)c5c[nH]cc5c34)c2C1</td>\n",
       "    </tr>\n",
       "    <tr>\n",
       "      <th>24998</th>\n",
       "      <td>c-1c[s]-c2c-1ccc1c3ncccc3c3ccccc3c21</td>\n",
       "      <td>C19H11NS</td>\n",
       "      <td>285.3689</td>\n",
       "      <td>0.486618</td>\n",
       "      <td>1.304193</td>\n",
       "      <td>5.742402</td>\n",
       "      <td>-5.904193</td>\n",
       "      <td>3.278545</td>\n",
       "      <td>-2.625648</td>\n",
       "      <td>c1c-c2ccc3c4ncccc4c4ccccc4c3c2-[s]1</td>\n",
       "    </tr>\n",
       "    <tr>\n",
       "      <th>24999</th>\n",
       "      <td>C1ccc2c1c(sc2-c1ccc(cn1)-c1ccccn1)-c1scc2ccsc12</td>\n",
       "      <td>C23H14N2S3</td>\n",
       "      <td>414.5756</td>\n",
       "      <td>2.848326</td>\n",
       "      <td>0.580827</td>\n",
       "      <td>75.472806</td>\n",
       "      <td>-5.180827</td>\n",
       "      <td>2.147140</td>\n",
       "      <td>-3.033687</td>\n",
       "      <td>c1sc(-c2sc(-c3ccc(cn3)-c3ccccn3)c3ccCc23)c2sccc12</td>\n",
       "    </tr>\n",
       "  </tbody>\n",
       "</table>\n",
       "<p>25000 rows × 10 columns</p>\n",
       "</div>"
      ],
      "text/plain": [
       "                                              SMILES_str    stoich_str  \\\n",
       "0      C1C=c2c-3c([SiH2]c4cc[nH]c-34)c3cnc(cc3c2=C1)-...   C21H13N5SSi   \n",
       "1      [SiH2]1C=c2ccc3sc4c([nH]c5cc(-c6scc7C=C[SiH2]c...  C24H17NS2Si3   \n",
       "2        c1[nH]cc2c1ccc1cnc3cc4cc([se]c4cc3c21)-c1ncncn1    C20H11N5Se   \n",
       "3       C1C=c2c(cc3ccc4c5cnccc5c5cocc5c4c3c2=C1)-c1cccs1     C26H15NOS   \n",
       "4               C1cc2ccc3sc4cc5ccc6c[SiH2]cc6c5cc4c3c2c1     C21H14SSi   \n",
       "...                                                  ...           ...   \n",
       "24995  C1C=c2ccc3[SiH2]c4c([nH]c5cc(oc45)-c4scc5[SiH2...  C21H15NOSSi2   \n",
       "24996     C1C=c2ccc3cc4[se]c5C=C(Cc5c4cc3c2=C1)C1=CC=CC1      C23H16Se   \n",
       "24997      C1C=Cc2ccc3c(sc4cc(-c5nccs5)c5c[nH]cc5c34)c12    C20H12N2S2   \n",
       "24998               c-1c[s]-c2c-1ccc1c3ncccc3c3ccccc3c21      C19H11NS   \n",
       "24999    C1ccc2c1c(sc2-c1ccc(cn1)-c1ccccn1)-c1scc2ccsc12    C23H14N2S3   \n",
       "\n",
       "           mass       pce       voc         jsc  e_homo_alpha  e_gap_alpha  \\\n",
       "0      395.5207  8.236346  0.641905  197.474780     -5.241905     1.463722   \n",
       "1      467.7953  5.738034  0.427601  206.524926     -5.027601     1.427000   \n",
       "2      400.3019  5.038762  0.873908   88.737230     -5.473908     2.042885   \n",
       "3      389.4765  3.507048  0.732531   73.682314     -5.332531     2.162777   \n",
       "4      326.4936  4.020859  0.630730   98.112205     -5.230730     1.978195   \n",
       "...         ...       ...       ...         ...           ...          ...   \n",
       "24995  385.5935  2.045460  0.156053  201.727494     -4.756053     1.445501   \n",
       "24996  371.3394  2.097438  0.292111  110.506690     -4.892111     1.901301   \n",
       "24997  344.4608  2.183358  0.434750   77.291785     -5.034750     2.132758   \n",
       "24998  285.3689  0.486618  1.304193    5.742402     -5.904193     3.278545   \n",
       "24999  414.5756  2.848326  0.580827   75.472806     -5.180827     2.147140   \n",
       "\n",
       "       e_lumo_alpha                                     tmp_smiles_str  \n",
       "0         -3.778183  [nH]1ccc2[SiH2]c3c(-c12)c1=CCC=c1c1cc(ncc31)-c...  \n",
       "1         -3.600601  [nH]1c2cc(-c3scc4C=C[SiH2]c34)c3=C[SiH2]C=c3c2...  \n",
       "2         -3.431022    c1cc2cnc3cc4cc([se]c4cc3c2c2c[nH]cc12)-c1ncncn1  \n",
       "3         -3.169754   c1ccc(s1)-c1cc2ccc3c4cnccc4c4cocc4c3c2c2=CCC=c12  \n",
       "4         -3.252535           c1cc2sc3cc4ccc5c[SiH2]cc5c4cc3c2c2cCcc12  \n",
       "...             ...                                                ...  \n",
       "24995     -3.310552  [nH]1c-2c([SiH2]c3ccc4=CCC=c4c-23)c2oc(cc12)-c...  \n",
       "24996     -2.990811     C1=CC=C(C1)C1=Cc2[se]c3cc4ccc5=CCC=c5c4cc3c2C1  \n",
       "24997     -2.901991      C1=Cc2ccc3c(sc4cc(-c5nccs5)c5c[nH]cc5c34)c2C1  \n",
       "24998     -2.625648                c1c-c2ccc3c4ncccc4c4ccccc4c3c2-[s]1  \n",
       "24999     -3.033687  c1sc(-c2sc(-c3ccc(cn3)-c3ccccn3)c3ccCc23)c2sccc12  \n",
       "\n",
       "[25000 rows x 10 columns]"
      ]
     },
     "execution_count": 6,
     "metadata": {},
     "output_type": "execute_result"
    }
   ],
   "source": [
    "data"
   ]
  },
  {
   "cell_type": "markdown",
   "metadata": {},
   "source": [
    "# Data Cleaning\n",
    "\n",
    "\n",
    "This dataset was already maximally pre-processed (https://www.repository.cam.ac.uk/handle/1810/318115) and stratified sampling was then applied to derive a set of 25,000 candidate CSO donors for computational reasons"
   ]
  },
  {
   "cell_type": "code",
   "execution_count": 7,
   "metadata": {},
   "outputs": [
    {
     "data": {
      "text/plain": [
       "0        [nH]1ccc2[SiH2]c3c(-c12)c1=CCC=c1c1cc(ncc31)-c...\n",
       "1        [nH]1c2cc(-c3scc4C=C[SiH2]c34)c3=C[SiH2]C=c3c2...\n",
       "2          c1cc2cnc3cc4cc([se]c4cc3c2c2c[nH]cc12)-c1ncncn1\n",
       "3         c1ccc(s1)-c1cc2ccc3c4cnccc4c4cocc4c3c2c2=CCC=c12\n",
       "4                 c1cc2sc3cc4ccc5c[SiH2]cc5c4cc3c2c2cCcc12\n",
       "                               ...                        \n",
       "24995    [nH]1c-2c([SiH2]c3ccc4=CCC=c4c-23)c2oc(cc12)-c...\n",
       "24996       C1=CC=C(C1)C1=Cc2[se]c3cc4ccc5=CCC=c5c4cc3c2C1\n",
       "24997        C1=Cc2ccc3c(sc4cc(-c5nccs5)c5c[nH]cc5c34)c2C1\n",
       "24998                  c1c-c2ccc3c4ncccc4c4ccccc4c3c2-[s]1\n",
       "24999    c1sc(-c2sc(-c3ccc(cn3)-c3ccccn3)c3ccCc23)c2sccc12\n",
       "Name: tmp_smiles_str, Length: 25000, dtype: object"
      ]
     },
     "execution_count": 7,
     "metadata": {},
     "output_type": "execute_result"
    }
   ],
   "source": [
    "data.tmp_smiles_str"
   ]
  },
  {
   "cell_type": "markdown",
   "metadata": {},
   "source": [
    "# Information about dataset\n",
    "* Distribution of reported PCE\n",
    "* Schematics of expressions of somes molecules"
   ]
  },
  {
   "cell_type": "code",
   "execution_count": 8,
   "metadata": {},
   "outputs": [
    {
     "data": {
      "text/html": [
       "<div>\n",
       "<style scoped>\n",
       "    .dataframe tbody tr th:only-of-type {\n",
       "        vertical-align: middle;\n",
       "    }\n",
       "\n",
       "    .dataframe tbody tr th {\n",
       "        vertical-align: top;\n",
       "    }\n",
       "\n",
       "    .dataframe thead th {\n",
       "        text-align: right;\n",
       "    }\n",
       "</style>\n",
       "<table border=\"1\" class=\"dataframe\">\n",
       "  <thead>\n",
       "    <tr style=\"text-align: right;\">\n",
       "      <th></th>\n",
       "      <th>mass</th>\n",
       "      <th>pce</th>\n",
       "      <th>voc</th>\n",
       "      <th>jsc</th>\n",
       "      <th>e_homo_alpha</th>\n",
       "      <th>e_gap_alpha</th>\n",
       "      <th>e_lumo_alpha</th>\n",
       "    </tr>\n",
       "  </thead>\n",
       "  <tbody>\n",
       "    <tr>\n",
       "      <th>count</th>\n",
       "      <td>25000.000000</td>\n",
       "      <td>25000.000000</td>\n",
       "      <td>25000.000000</td>\n",
       "      <td>25000.000000</td>\n",
       "      <td>25000.000000</td>\n",
       "      <td>25000.000000</td>\n",
       "      <td>25000.000000</td>\n",
       "    </tr>\n",
       "    <tr>\n",
       "      <th>mean</th>\n",
       "      <td>415.560570</td>\n",
       "      <td>4.126613</td>\n",
       "      <td>0.579165</td>\n",
       "      <td>123.320601</td>\n",
       "      <td>-5.179165</td>\n",
       "      <td>1.895249</td>\n",
       "      <td>-3.283916</td>\n",
       "    </tr>\n",
       "    <tr>\n",
       "      <th>std</th>\n",
       "      <td>59.575976</td>\n",
       "      <td>2.407685</td>\n",
       "      <td>0.285351</td>\n",
       "      <td>64.269393</td>\n",
       "      <td>0.285351</td>\n",
       "      <td>0.396566</td>\n",
       "      <td>0.366131</td>\n",
       "    </tr>\n",
       "    <tr>\n",
       "      <th>min</th>\n",
       "      <td>172.186200</td>\n",
       "      <td>0.000109</td>\n",
       "      <td>0.000012</td>\n",
       "      <td>3.882689</td>\n",
       "      <td>-6.496841</td>\n",
       "      <td>0.799452</td>\n",
       "      <td>-3.999917</td>\n",
       "    </tr>\n",
       "    <tr>\n",
       "      <th>25%</th>\n",
       "      <td>379.437700</td>\n",
       "      <td>2.247589</td>\n",
       "      <td>0.373424</td>\n",
       "      <td>72.329945</td>\n",
       "      <td>-5.361342</td>\n",
       "      <td>1.607647</td>\n",
       "      <td>-3.568905</td>\n",
       "    </tr>\n",
       "    <tr>\n",
       "      <th>50%</th>\n",
       "      <td>415.558800</td>\n",
       "      <td>3.582067</td>\n",
       "      <td>0.555968</td>\n",
       "      <td>114.218791</td>\n",
       "      <td>-5.155968</td>\n",
       "      <td>1.877308</td>\n",
       "      <td>-3.278469</td>\n",
       "    </tr>\n",
       "    <tr>\n",
       "      <th>75%</th>\n",
       "      <td>455.588700</td>\n",
       "      <td>5.739375</td>\n",
       "      <td>0.761342</td>\n",
       "      <td>164.150991</td>\n",
       "      <td>-4.973424</td>\n",
       "      <td>2.172793</td>\n",
       "      <td>-3.013955</td>\n",
       "    </tr>\n",
       "    <tr>\n",
       "      <th>max</th>\n",
       "      <td>639.465000</td>\n",
       "      <td>11.097616</td>\n",
       "      <td>1.896841</td>\n",
       "      <td>354.253069</td>\n",
       "      <td>-4.600012</td>\n",
       "      <td>3.402620</td>\n",
       "      <td>-1.629426</td>\n",
       "    </tr>\n",
       "  </tbody>\n",
       "</table>\n",
       "</div>"
      ],
      "text/plain": [
       "               mass           pce           voc           jsc  e_homo_alpha  \\\n",
       "count  25000.000000  25000.000000  25000.000000  25000.000000  25000.000000   \n",
       "mean     415.560570      4.126613      0.579165    123.320601     -5.179165   \n",
       "std       59.575976      2.407685      0.285351     64.269393      0.285351   \n",
       "min      172.186200      0.000109      0.000012      3.882689     -6.496841   \n",
       "25%      379.437700      2.247589      0.373424     72.329945     -5.361342   \n",
       "50%      415.558800      3.582067      0.555968    114.218791     -5.155968   \n",
       "75%      455.588700      5.739375      0.761342    164.150991     -4.973424   \n",
       "max      639.465000     11.097616      1.896841    354.253069     -4.600012   \n",
       "\n",
       "        e_gap_alpha  e_lumo_alpha  \n",
       "count  25000.000000  25000.000000  \n",
       "mean       1.895249     -3.283916  \n",
       "std        0.396566      0.366131  \n",
       "min        0.799452     -3.999917  \n",
       "25%        1.607647     -3.568905  \n",
       "50%        1.877308     -3.278469  \n",
       "75%        2.172793     -3.013955  \n",
       "max        3.402620     -1.629426  "
      ]
     },
     "execution_count": 8,
     "metadata": {},
     "output_type": "execute_result"
    }
   ],
   "source": [
    "data.describe()"
   ]
  },
  {
   "cell_type": "code",
   "execution_count": 9,
   "metadata": {},
   "outputs": [
    {
     "data": {
      "image/png": "[encoded data removed]",
      "text/plain": [
       "<Figure size 640x480 with 1 Axes>"
      ]
     },
     "metadata": {},
     "output_type": "display_data"
    }
   ],
   "source": [
    "data['pce_pair'] = pd.cut(data['pce'], bins=[0, 2, 4, 6, 8, 10,12])\n",
    "pce_count = data.groupby('pce_pair').size()\n",
    "\n",
    "colors = plt.cm.tab10(np.arange(len(pce_count)))\n",
    "\n",
    "plt.bar(pce_count.index.astype(str), pce_count.values, color=colors)\n",
    "plt.xlabel('PCE%')\n",
    "plt.ylabel('Count')\n",
    "plt.show()\n",
    "\n"
   ]
  },
  {
   "cell_type": "code",
   "execution_count": 10,
   "metadata": {},
   "outputs": [],
   "source": [
    "#print(data['SMILES_str'][0])\n",
    "#Chem.MolFromSmiles(data['SMILES_str'][0])"
   ]
  },
  {
   "cell_type": "markdown",
   "metadata": {},
   "source": [
    "* Additionals informations"
   ]
  },
  {
   "cell_type": "code",
   "execution_count": 11,
   "metadata": {},
   "outputs": [
    {
     "data": {
      "application/vnd.jupyter.widget-view+json": {
       "model_id": "39b58b58e22145eca334f41987e76955",
       "version_major": 2,
       "version_minor": 0
      },
      "text/plain": [
       "Summarize dataset:   0%|          | 0/5 [00:00<?, ?it/s]"
      ]
     },
     "metadata": {},
     "output_type": "display_data"
    },
    {
     "data": {
      "application/vnd.jupyter.widget-view+json": {
       "model_id": "ad0a2f99a3ec466ba14988ffb6e1607c",
       "version_major": 2,
       "version_minor": 0
      },
      "text/plain": [
       "Generate report structure:   0%|          | 0/1 [00:00<?, ?it/s]"
      ]
     },
     "metadata": {},
     "output_type": "display_data"
    },
    {
     "data": {
      "application/vnd.jupyter.widget-view+json": {
       "model_id": "ecf06edec7d447658f8100dfa6d42d2d",
       "version_major": 2,
       "version_minor": 0
      },
      "text/plain": [
       "Render HTML:   0%|          | 0/1 [00:00<?, ?it/s]"
      ]
     },
     "metadata": {},
     "output_type": "display_data"
    },
    {
     "data": {
      "application/vnd.jupyter.widget-view+json": {
       "model_id": "813d63a076374ea587db450766d662fe",
       "version_major": 2,
       "version_minor": 0
      },
      "text/plain": [
       "Export report to file:   0%|          | 0/1 [00:00<?, ?it/s]"
      ]
     },
     "metadata": {},
     "output_type": "display_data"
    }
   ],
   "source": [
    "profile = ProfileReport(\n",
    "    data,\n",
    "    title=\"Profiling Report\",\n",
    "    html={'style':{'full_width':True}}\n",
    ")\n",
    "\n",
    "profile.to_file(output_file = \"data-profile.html\")"
   ]
  },
  {
   "cell_type": "markdown",
   "metadata": {},
   "source": [
    "# Feature Engineering"
   ]
  },
  {
   "cell_type": "code",
   "execution_count": 12,
   "metadata": {
    "scrolled": true
   },
   "outputs": [
    {
     "name": "stderr",
     "output_type": "stream",
     "text": [
      "The default value of numeric_only in DataFrame.corr is deprecated. In a future version, it will default to False. Select only valid columns or specify the value of numeric_only to silence this warning.\n"
     ]
    },
    {
     "data": {
      "image/png": "[encoded data removed]",
      "text/plain": [
       "<Figure size 640x480 with 2 Axes>"
      ]
     },
     "metadata": {},
     "output_type": "display_data"
    }
   ],
   "source": [
    "corr_matrix = data.corr()\n",
    "sns.heatmap(corr_matrix, cmap='coolwarm', annot=True)\n",
    "plt.show()"
   ]
  },
  {
   "cell_type": "markdown",
   "metadata": {},
   "source": [
    "Feature importance using SHAP values based on\n",
    "\n",
    "* XGBoost\n",
    "* Random Forest\n",
    "* Desicion Trees\n",
    "* K-nearest neighbors"
   ]
  },
  {
   "cell_type": "code",
   "execution_count": 13,
   "metadata": {},
   "outputs": [],
   "source": [
    "X=data.drop([\"SMILES_str\",\"stoich_str\",\"pce\",\"tmp_smiles_str\",\"pce_pair\"],axis=1)\n",
    "y=data[\"pce\"]"
   ]
  },
  {
   "cell_type": "code",
   "execution_count": null,
   "metadata": {},
   "outputs": [],
   "source": [
    "# With XGBOOST\n",
    "model = xgb.XGBRegressor(objective='reg:squarederror')\n",
    "model.fit(X, y)\n",
    "\n",
    "explainer = shap.Explainer(model)\n",
    "shap_values = explainer(X)\n",
    "\n",
    "shap.summary_plot(shap_values, X, plot_type='bar', show=False)"
   ]
  },
  {
   "cell_type": "code",
   "execution_count": null,
   "metadata": {},
   "outputs": [],
   "source": [
    "# With Random Forest\n",
    "from sklearn.ensemble import RandomForestRegressor\n",
    "\n",
    "# Instantiate rf\n",
    "rf = RandomForestRegressor(n_estimators=25,random_state=2)\n",
    "            \n",
    "# Fit rf to the training set    \n",
    "rf.fit(X, y) \n",
    "\n",
    "# Create a SHAP object by using TreeExplainer\n",
    "explainer = shap.TreeExplainer(rf)\n",
    "\n",
    "# Call the explain method by using entry data\n",
    "shap_values = explainer(X)\n",
    "\n",
    "# Display a barplot which show the importance of each features\n",
    "shap.summary_plot(shap_values, X, plot_type='bar', show=False)\n"
   ]
  },
  {
   "cell_type": "markdown",
   "metadata": {},
   "source": [
    "# Model Construction \n",
    "\n",
    "To select the appropriate regression model , we must train and validate differents models on our train/validation data and compare the metrics\n",
    "\n",
    "* XGBoost\n",
    "* Random Forest\n",
    "* Desicion Trees\n",
    "* K-nearest neighbors"
   ]
  },
  {
   "cell_type": "markdown",
   "metadata": {},
   "source": []
  },
  {
   "cell_type": "code",
   "execution_count": 16,
   "metadata": {},
   "outputs": [
    {
     "name": "stdout",
     "output_type": "stream",
     "text": [
      "Test set RMSE of rf: 0.04\n"
     ]
    }
   ],
   "source": [
    "# Random Forest\n",
    "from sklearn.ensemble import RandomForestRegressor\n",
    "from sklearn.model_selection import train_test_split\n",
    "from sklearn.metrics import mean_squared_error as MSE\n",
    "\n",
    "# We can drop mass & e_homo_alpha because they have no impact on the ouptut\n",
    "X=data.drop([\"SMILES_str\",\"stoich_str\",\"pce\",\"tmp_smiles_str\",\"pce_pair\",\"mass\", \"e_homo_alpha\"],axis=1)\n",
    "\n",
    "# Split dataset into train and test set\n",
    "X_train, X_test, y_train, y_test = train_test_split(X, y, test_size=0.3 ,random_state=42)\n",
    "\n",
    "# Instantiate rf\n",
    "rf = RandomForestRegressor(n_estimators=25, random_state=2)\n",
    "            \n",
    "# Fit rf to the training set    \n",
    "rf.fit(X_train, y_train) \n",
    "\n",
    "# Predict the test set labels\n",
    "y_pred = rf.predict(X_test)\n",
    "\n",
    "# Evaluate the test set RMSE\n",
    "rmse_test =  MSE(y_test, y_pred)**(1/2)\n",
    "\n",
    "# Print rmse_test\n",
    "print('Test set RMSE of rf: {:.2f}'.format(rmse_test))"
   ]
  }
 ],
 "metadata": {
  "kernelspec": {
   "display_name": "Python 3 (ipykernel)",
   "language": "python",
   "name": "python3"
  },
  "language_info": {
   "codemirror_mode": {
    "name": "ipython",
    "version": 3
   },
   "file_extension": ".py",
   "mimetype": "text/x-python",
   "name": "python",
   "nbconvert_exporter": "python",
   "pygments_lexer": "ipython3",
   "version": "3.10.8"
  }
 },
 "nbformat": 4,
 "nbformat_minor": 2
}
