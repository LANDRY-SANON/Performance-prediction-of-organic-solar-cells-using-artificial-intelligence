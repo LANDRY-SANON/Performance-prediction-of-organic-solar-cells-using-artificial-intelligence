{
 "cells": [
  {
   "cell_type": "code",
   "execution_count": 1,
   "metadata": {},
   "outputs": [],
   "source": [
    "import pandas as pd\n",
    "import numpy as np\n",
    "\n",
    "import matplotlib.pyplot as plt\n",
    "import seaborn as sns\n",
    "from ydata_profiling import ProfileReport\n",
    "\n",
    "from rdkit import Chem\n",
    "from rdkit.Chem.Draw import IPythonConsole\n",
    "from rdkit.Chem import Draw\n",
    "\n",
    "import shap\n",
    "\n",
    "from sklearn.tree import DecisionTreeRegressor\n",
    "from sklearn.ensemble import RandomForestRegressor\n",
    "from sklearn.neighbors import KNeighborsRegressor\n",
    "import xgboost as xgb\n",
    "\n",
    "\n",
    "from sklearn.metrics import make_scorer ,mean_squared_error, mean_absolute_error, r2_score, explained_variance_score, max_error\n",
    "\n",
    "from scipy.stats import skew\n",
    "\n",
    "from sklearn.preprocessing import StandardScaler , FunctionTransformer\n",
    "\n",
    "from sklearn.model_selection import train_test_split\n",
    "from sklearn.model_selection import cross_validate , cross_val_score"
   ]
  },
  {
   "cell_type": "code",
   "execution_count": 2,
   "metadata": {},
   "outputs": [],
   "source": [
    "data_with_smiles=pd.read_csv(\"data\\jjapac4894supp2.csv\")\n",
    "data=pd.read_csv(\"data\\jjapac4894supp1.csv\")"
   ]
  },
  {
   "cell_type": "code",
   "execution_count": 3,
   "metadata": {},
   "outputs": [
    {
     "data": {
      "text/html": [
       "<div>\n",
       "<style scoped>\n",
       "    .dataframe tbody tr th:only-of-type {\n",
       "        vertical-align: middle;\n",
       "    }\n",
       "\n",
       "    .dataframe tbody tr th {\n",
       "        vertical-align: top;\n",
       "    }\n",
       "\n",
       "    .dataframe thead th {\n",
       "        text-align: right;\n",
       "    }\n",
       "</style>\n",
       "<table border=\"1\" class=\"dataframe\">\n",
       "  <thead>\n",
       "    <tr style=\"text-align: right;\">\n",
       "      <th></th>\n",
       "      <th>Paper No.</th>\n",
       "      <th>PCE max (%)</th>\n",
       "      <th>VOC (V)</th>\n",
       "      <th>JSC (mA/cm2)</th>\n",
       "      <th>FF (%)</th>\n",
       "      <th>For VOC, JSC and FF, when only average values were available instead of actual values of the best devices, the average values were listed. These data were mainly obtained from tables and the main text of articles. Some data were from the supplymentary materials.</th>\n",
       "    </tr>\n",
       "  </thead>\n",
       "  <tbody>\n",
       "    <tr>\n",
       "      <th>0</th>\n",
       "      <td>3</td>\n",
       "      <td>9.48</td>\n",
       "      <td>0.93</td>\n",
       "      <td>15.92</td>\n",
       "      <td>63.9</td>\n",
       "      <td>NaN</td>\n",
       "    </tr>\n",
       "    <tr>\n",
       "      <th>1</th>\n",
       "      <td>3</td>\n",
       "      <td>7.02</td>\n",
       "      <td>0.99</td>\n",
       "      <td>12.66</td>\n",
       "      <td>56.3</td>\n",
       "      <td>NaN</td>\n",
       "    </tr>\n",
       "    <tr>\n",
       "      <th>2</th>\n",
       "      <td>3</td>\n",
       "      <td>8.31</td>\n",
       "      <td>0.90</td>\n",
       "      <td>14.07</td>\n",
       "      <td>66.0</td>\n",
       "      <td>NaN</td>\n",
       "    </tr>\n",
       "    <tr>\n",
       "      <th>3</th>\n",
       "      <td>3</td>\n",
       "      <td>6.46</td>\n",
       "      <td>0.93</td>\n",
       "      <td>12.53</td>\n",
       "      <td>55.5</td>\n",
       "      <td>NaN</td>\n",
       "    </tr>\n",
       "    <tr>\n",
       "      <th>4</th>\n",
       "      <td>4</td>\n",
       "      <td>14.70</td>\n",
       "      <td>0.91</td>\n",
       "      <td>21.50</td>\n",
       "      <td>75.0</td>\n",
       "      <td>NaN</td>\n",
       "    </tr>\n",
       "  </tbody>\n",
       "</table>\n",
       "</div>"
      ],
      "text/plain": [
       "   Paper No.  PCE max (%)  VOC (V)  JSC (mA/cm2)  FF (%)  \\\n",
       "0          3         9.48     0.93         15.92    63.9   \n",
       "1          3         7.02     0.99         12.66    56.3   \n",
       "2          3         8.31     0.90         14.07    66.0   \n",
       "3          3         6.46     0.93         12.53    55.5   \n",
       "4          4        14.70     0.91         21.50    75.0   \n",
       "\n",
       "   For VOC, JSC and FF, when only average values were available instead of actual values of the best devices, the average values were listed. These data were mainly obtained from tables and the main text of articles. Some data were from the supplymentary materials.  \n",
       "0                                                NaN                                                                                                                                                                                                                       \n",
       "1                                                NaN                                                                                                                                                                                                                       \n",
       "2                                                NaN                                                                                                                                                                                                                       \n",
       "3                                                NaN                                                                                                                                                                                                                       \n",
       "4                                                NaN                                                                                                                                                                                                                       "
      ]
     },
     "execution_count": 3,
     "metadata": {},
     "output_type": "execute_result"
    }
   ],
   "source": [
    "data.head()"
   ]
  },
  {
   "cell_type": "code",
   "execution_count": 4,
   "metadata": {},
   "outputs": [],
   "source": [
    "data=data.drop([data.columns[-1],data.columns[0]],axis=1)"
   ]
  },
  {
   "cell_type": "code",
   "execution_count": 5,
   "metadata": {
    "scrolled": true
   },
   "outputs": [
    {
     "data": {
      "text/html": [
       "<div>\n",
       "<style scoped>\n",
       "    .dataframe tbody tr th:only-of-type {\n",
       "        vertical-align: middle;\n",
       "    }\n",
       "\n",
       "    .dataframe tbody tr th {\n",
       "        vertical-align: top;\n",
       "    }\n",
       "\n",
       "    .dataframe thead th {\n",
       "        text-align: right;\n",
       "    }\n",
       "</style>\n",
       "<table border=\"1\" class=\"dataframe\">\n",
       "  <thead>\n",
       "    <tr style=\"text-align: right;\">\n",
       "      <th></th>\n",
       "      <th>PCE max (%)</th>\n",
       "      <th>VOC (V)</th>\n",
       "      <th>JSC (mA/cm2)</th>\n",
       "      <th>FF (%)</th>\n",
       "    </tr>\n",
       "  </thead>\n",
       "  <tbody>\n",
       "    <tr>\n",
       "      <th>0</th>\n",
       "      <td>9.48</td>\n",
       "      <td>0.93</td>\n",
       "      <td>15.92</td>\n",
       "      <td>63.9</td>\n",
       "    </tr>\n",
       "    <tr>\n",
       "      <th>1</th>\n",
       "      <td>7.02</td>\n",
       "      <td>0.99</td>\n",
       "      <td>12.66</td>\n",
       "      <td>56.3</td>\n",
       "    </tr>\n",
       "    <tr>\n",
       "      <th>2</th>\n",
       "      <td>8.31</td>\n",
       "      <td>0.90</td>\n",
       "      <td>14.07</td>\n",
       "      <td>66.0</td>\n",
       "    </tr>\n",
       "    <tr>\n",
       "      <th>3</th>\n",
       "      <td>6.46</td>\n",
       "      <td>0.93</td>\n",
       "      <td>12.53</td>\n",
       "      <td>55.5</td>\n",
       "    </tr>\n",
       "    <tr>\n",
       "      <th>4</th>\n",
       "      <td>14.70</td>\n",
       "      <td>0.91</td>\n",
       "      <td>21.50</td>\n",
       "      <td>75.0</td>\n",
       "    </tr>\n",
       "    <tr>\n",
       "      <th>...</th>\n",
       "      <td>...</td>\n",
       "      <td>...</td>\n",
       "      <td>...</td>\n",
       "      <td>...</td>\n",
       "    </tr>\n",
       "    <tr>\n",
       "      <th>1351</th>\n",
       "      <td>1.76</td>\n",
       "      <td>1.15</td>\n",
       "      <td>4.51</td>\n",
       "      <td>34.0</td>\n",
       "    </tr>\n",
       "    <tr>\n",
       "      <th>1352</th>\n",
       "      <td>0.54</td>\n",
       "      <td>0.92</td>\n",
       "      <td>1.49</td>\n",
       "      <td>39.8</td>\n",
       "    </tr>\n",
       "    <tr>\n",
       "      <th>1353</th>\n",
       "      <td>0.23</td>\n",
       "      <td>0.74</td>\n",
       "      <td>0.85</td>\n",
       "      <td>37.3</td>\n",
       "    </tr>\n",
       "    <tr>\n",
       "      <th>1354</th>\n",
       "      <td>0.28</td>\n",
       "      <td>1.06</td>\n",
       "      <td>0.68</td>\n",
       "      <td>38.4</td>\n",
       "    </tr>\n",
       "    <tr>\n",
       "      <th>1355</th>\n",
       "      <td>1.39</td>\n",
       "      <td>1.05</td>\n",
       "      <td>2.36</td>\n",
       "      <td>56.1</td>\n",
       "    </tr>\n",
       "  </tbody>\n",
       "</table>\n",
       "<p>1356 rows × 4 columns</p>\n",
       "</div>"
      ],
      "text/plain": [
       "      PCE max (%)  VOC (V)  JSC (mA/cm2)  FF (%)\n",
       "0            9.48     0.93         15.92    63.9\n",
       "1            7.02     0.99         12.66    56.3\n",
       "2            8.31     0.90         14.07    66.0\n",
       "3            6.46     0.93         12.53    55.5\n",
       "4           14.70     0.91         21.50    75.0\n",
       "...           ...      ...           ...     ...\n",
       "1351         1.76     1.15          4.51    34.0\n",
       "1352         0.54     0.92          1.49    39.8\n",
       "1353         0.23     0.74          0.85    37.3\n",
       "1354         0.28     1.06          0.68    38.4\n",
       "1355         1.39     1.05          2.36    56.1\n",
       "\n",
       "[1356 rows x 4 columns]"
      ]
     },
     "execution_count": 5,
     "metadata": {},
     "output_type": "execute_result"
    }
   ],
   "source": [
    "data"
   ]
  },
  {
   "cell_type": "markdown",
   "metadata": {},
   "source": [
    "# DATA PREPROCESSING"
   ]
  },
  {
   "cell_type": "code",
   "execution_count": 6,
   "metadata": {
    "scrolled": true
   },
   "outputs": [
    {
     "data": {
      "text/html": [
       "<div>\n",
       "<style scoped>\n",
       "    .dataframe tbody tr th:only-of-type {\n",
       "        vertical-align: middle;\n",
       "    }\n",
       "\n",
       "    .dataframe tbody tr th {\n",
       "        vertical-align: top;\n",
       "    }\n",
       "\n",
       "    .dataframe thead th {\n",
       "        text-align: right;\n",
       "    }\n",
       "</style>\n",
       "<table border=\"1\" class=\"dataframe\">\n",
       "  <thead>\n",
       "    <tr style=\"text-align: right;\">\n",
       "      <th></th>\n",
       "      <th>PCE max (%)</th>\n",
       "      <th>VOC (V)</th>\n",
       "      <th>JSC (mA/cm2)</th>\n",
       "      <th>FF (%)</th>\n",
       "    </tr>\n",
       "  </thead>\n",
       "  <tbody>\n",
       "    <tr>\n",
       "      <th>count</th>\n",
       "      <td>1356.000000</td>\n",
       "      <td>1356.000000</td>\n",
       "      <td>1356.000000</td>\n",
       "      <td>1355.000000</td>\n",
       "    </tr>\n",
       "    <tr>\n",
       "      <th>mean</th>\n",
       "      <td>7.260537</td>\n",
       "      <td>0.905183</td>\n",
       "      <td>13.550871</td>\n",
       "      <td>57.420951</td>\n",
       "    </tr>\n",
       "    <tr>\n",
       "      <th>std</th>\n",
       "      <td>3.714272</td>\n",
       "      <td>0.487485</td>\n",
       "      <td>5.886450</td>\n",
       "      <td>12.244684</td>\n",
       "    </tr>\n",
       "    <tr>\n",
       "      <th>min</th>\n",
       "      <td>0.000200</td>\n",
       "      <td>0.020000</td>\n",
       "      <td>0.010000</td>\n",
       "      <td>14.000000</td>\n",
       "    </tr>\n",
       "    <tr>\n",
       "      <th>25%</th>\n",
       "      <td>4.500000</td>\n",
       "      <td>0.800000</td>\n",
       "      <td>9.707500</td>\n",
       "      <td>51.000000</td>\n",
       "    </tr>\n",
       "    <tr>\n",
       "      <th>50%</th>\n",
       "      <td>7.500000</td>\n",
       "      <td>0.887000</td>\n",
       "      <td>14.400000</td>\n",
       "      <td>59.760000</td>\n",
       "    </tr>\n",
       "    <tr>\n",
       "      <th>75%</th>\n",
       "      <td>10.112500</td>\n",
       "      <td>0.946000</td>\n",
       "      <td>17.692500</td>\n",
       "      <td>66.720000</td>\n",
       "    </tr>\n",
       "    <tr>\n",
       "      <th>max</th>\n",
       "      <td>16.300000</td>\n",
       "      <td>9.610000</td>\n",
       "      <td>28.900000</td>\n",
       "      <td>86.000000</td>\n",
       "    </tr>\n",
       "  </tbody>\n",
       "</table>\n",
       "</div>"
      ],
      "text/plain": [
       "       PCE max (%)      VOC (V)  JSC (mA/cm2)       FF (%)\n",
       "count  1356.000000  1356.000000   1356.000000  1355.000000\n",
       "mean      7.260537     0.905183     13.550871    57.420951\n",
       "std       3.714272     0.487485      5.886450    12.244684\n",
       "min       0.000200     0.020000      0.010000    14.000000\n",
       "25%       4.500000     0.800000      9.707500    51.000000\n",
       "50%       7.500000     0.887000     14.400000    59.760000\n",
       "75%      10.112500     0.946000     17.692500    66.720000\n",
       "max      16.300000     9.610000     28.900000    86.000000"
      ]
     },
     "execution_count": 6,
     "metadata": {},
     "output_type": "execute_result"
    }
   ],
   "source": [
    "data.describe()"
   ]
  },
  {
   "cell_type": "markdown",
   "metadata": {},
   "source": [
    "* Missing Values"
   ]
  },
  {
   "cell_type": "code",
   "execution_count": 7,
   "metadata": {},
   "outputs": [
    {
     "name": "stdout",
     "output_type": "stream",
     "text": [
      "PCE max (%)     0\n",
      "VOC (V)         0\n",
      "JSC (mA/cm2)    0\n",
      "FF (%)          1\n",
      "dtype: int64\n"
     ]
    }
   ],
   "source": [
    "print(data.isnull().sum())"
   ]
  },
  {
   "cell_type": "code",
   "execution_count": 8,
   "metadata": {},
   "outputs": [
    {
     "name": "stdout",
     "output_type": "stream",
     "text": [
      "     PCE max (%)  VOC (V)  JSC (mA/cm2)  FF (%)\n",
      "886         10.0     0.94         15.51     NaN\n"
     ]
    }
   ],
   "source": [
    "missing_ff_row = data[data['FF (%)'].isnull()]\n",
    "print(missing_ff_row)"
   ]
  },
  {
   "cell_type": "code",
   "execution_count": 9,
   "metadata": {},
   "outputs": [
    {
     "name": "stdout",
     "output_type": "stream",
     "text": [
      "PCE max (%)     0\n",
      "VOC (V)         0\n",
      "JSC (mA/cm2)    0\n",
      "FF (%)          0\n",
      "dtype: int64\n"
     ]
    }
   ],
   "source": [
    "data['FF (%)'].fillna(data['FF (%)'].mean(), inplace=True)\n",
    "print(data.isnull().sum())"
   ]
  },
  {
   "cell_type": "markdown",
   "metadata": {},
   "source": [
    "* Outliers\n",
    "\n",
    "The \"min\" and \"max\" rows show that there are some extreme values in the dataset. For example, the maximum VOC value is 9.61 V, which is much higher than the median value of 0.887 V. We can confirm that with an other view"
   ]
  },
  {
   "cell_type": "code",
   "execution_count": 10,
   "metadata": {},
   "outputs": [
    {
     "data": {
      "image/png": "[encoded data removed]",
      "text/plain": [
       "<Figure size 1000x500 with 2 Axes>"
      ]
     },
     "metadata": {},
     "output_type": "display_data"
    }
   ],
   "source": [
    "fig, axs = plt.subplots(ncols=2, figsize=(10, 5))\n",
    "sns.boxplot(x=data['VOC (V)'], ax=axs[0])\n",
    "sns.boxplot(data=data, ax=axs[1])\n",
    "plt.tight_layout()\n",
    "plt.show()"
   ]
  },
  {
   "cell_type": "code",
   "execution_count": 11,
   "metadata": {},
   "outputs": [
    {
     "name": "stdout",
     "output_type": "stream",
     "text": [
      "[-0.12607024 15.97199457 -0.2791207  -0.79855473]\n"
     ]
    }
   ],
   "source": [
    "# calculate the skewness coefficient of a variable\n",
    "skewness = skew(data)\n",
    "print(skewness) #15.97 >>>> 0"
   ]
  },
  {
   "cell_type": "code",
   "execution_count": 12,
   "metadata": {},
   "outputs": [
    {
     "data": {
      "text/html": [
       "<div>\n",
       "<style scoped>\n",
       "    .dataframe tbody tr th:only-of-type {\n",
       "        vertical-align: middle;\n",
       "    }\n",
       "\n",
       "    .dataframe tbody tr th {\n",
       "        vertical-align: top;\n",
       "    }\n",
       "\n",
       "    .dataframe thead th {\n",
       "        text-align: right;\n",
       "    }\n",
       "</style>\n",
       "<table border=\"1\" class=\"dataframe\">\n",
       "  <thead>\n",
       "    <tr style=\"text-align: right;\">\n",
       "      <th></th>\n",
       "      <th>PCE max (%)</th>\n",
       "      <th>VOC (V)</th>\n",
       "      <th>JSC (mA/cm2)</th>\n",
       "      <th>FF (%)</th>\n",
       "    </tr>\n",
       "  </thead>\n",
       "  <tbody>\n",
       "    <tr>\n",
       "      <th>count</th>\n",
       "      <td>1356.000000</td>\n",
       "      <td>1356.000000</td>\n",
       "      <td>1356.000000</td>\n",
       "      <td>1356.000000</td>\n",
       "    </tr>\n",
       "    <tr>\n",
       "      <th>mean</th>\n",
       "      <td>7.260537</td>\n",
       "      <td>0.633318</td>\n",
       "      <td>13.550871</td>\n",
       "      <td>57.420951</td>\n",
       "    </tr>\n",
       "    <tr>\n",
       "      <th>std</th>\n",
       "      <td>3.714272</td>\n",
       "      <td>0.121066</td>\n",
       "      <td>5.886450</td>\n",
       "      <td>12.240165</td>\n",
       "    </tr>\n",
       "    <tr>\n",
       "      <th>min</th>\n",
       "      <td>0.000200</td>\n",
       "      <td>0.019803</td>\n",
       "      <td>0.010000</td>\n",
       "      <td>14.000000</td>\n",
       "    </tr>\n",
       "    <tr>\n",
       "      <th>25%</th>\n",
       "      <td>4.500000</td>\n",
       "      <td>0.587787</td>\n",
       "      <td>9.707500</td>\n",
       "      <td>51.000000</td>\n",
       "    </tr>\n",
       "    <tr>\n",
       "      <th>50%</th>\n",
       "      <td>7.500000</td>\n",
       "      <td>0.634988</td>\n",
       "      <td>14.400000</td>\n",
       "      <td>59.730000</td>\n",
       "    </tr>\n",
       "    <tr>\n",
       "      <th>75%</th>\n",
       "      <td>10.112500</td>\n",
       "      <td>0.665776</td>\n",
       "      <td>17.692500</td>\n",
       "      <td>66.710000</td>\n",
       "    </tr>\n",
       "    <tr>\n",
       "      <th>max</th>\n",
       "      <td>16.300000</td>\n",
       "      <td>2.361797</td>\n",
       "      <td>28.900000</td>\n",
       "      <td>86.000000</td>\n",
       "    </tr>\n",
       "  </tbody>\n",
       "</table>\n",
       "</div>"
      ],
      "text/plain": [
       "       PCE max (%)      VOC (V)  JSC (mA/cm2)       FF (%)\n",
       "count  1356.000000  1356.000000   1356.000000  1356.000000\n",
       "mean      7.260537     0.633318     13.550871    57.420951\n",
       "std       3.714272     0.121066      5.886450    12.240165\n",
       "min       0.000200     0.019803      0.010000    14.000000\n",
       "25%       4.500000     0.587787      9.707500    51.000000\n",
       "50%       7.500000     0.634988     14.400000    59.730000\n",
       "75%      10.112500     0.665776     17.692500    66.710000\n",
       "max      16.300000     2.361797     28.900000    86.000000"
      ]
     },
     "execution_count": 12,
     "metadata": {},
     "output_type": "execute_result"
    }
   ],
   "source": [
    "#Possible Solution\n",
    "# Apply a log transformation to the VOC column\n",
    "data['VOC (V)'] = data['VOC (V)'] + 1\n",
    "data['VOC (V)'] = np.log(data['VOC (V)'])\n",
    "\n",
    "data.describe()"
   ]
  },
  {
   "cell_type": "markdown",
   "metadata": {},
   "source": [
    "* Standardization \n",
    "\n",
    "Because of differents values's scale  "
   ]
  },
  {
   "cell_type": "code",
   "execution_count": 13,
   "metadata": {},
   "outputs": [],
   "source": [
    "# Create a StandardScalerobject , fit and transfrom data\n",
    "scaler = StandardScaler()\n",
    "X=data.drop([\"PCE max (%)\"],axis=1)\n",
    "y=data[\"PCE max (%)\"]\n",
    "scaler.fit(X)\n",
    "X_scaled = scaler.transform(X)\n",
    "data_scaled = pd.DataFrame(X_scaled, columns=X.columns)\n",
    "data_scaled[\"PCE max (%)\"] = y"
   ]
  },
  {
   "cell_type": "code",
   "execution_count": 14,
   "metadata": {},
   "outputs": [
    {
     "data": {
      "text/html": [
       "<div>\n",
       "<style scoped>\n",
       "    .dataframe tbody tr th:only-of-type {\n",
       "        vertical-align: middle;\n",
       "    }\n",
       "\n",
       "    .dataframe tbody tr th {\n",
       "        vertical-align: top;\n",
       "    }\n",
       "\n",
       "    .dataframe thead th {\n",
       "        text-align: right;\n",
       "    }\n",
       "</style>\n",
       "<table border=\"1\" class=\"dataframe\">\n",
       "  <thead>\n",
       "    <tr style=\"text-align: right;\">\n",
       "      <th></th>\n",
       "      <th>VOC (V)</th>\n",
       "      <th>JSC (mA/cm2)</th>\n",
       "      <th>FF (%)</th>\n",
       "      <th>PCE max (%)</th>\n",
       "    </tr>\n",
       "  </thead>\n",
       "  <tbody>\n",
       "    <tr>\n",
       "      <th>count</th>\n",
       "      <td>1.356000e+03</td>\n",
       "      <td>1.356000e+03</td>\n",
       "      <td>1.356000e+03</td>\n",
       "      <td>1356.000000</td>\n",
       "    </tr>\n",
       "    <tr>\n",
       "      <th>mean</th>\n",
       "      <td>2.301502e-16</td>\n",
       "      <td>1.539247e-17</td>\n",
       "      <td>2.421244e-16</td>\n",
       "      <td>7.260537</td>\n",
       "    </tr>\n",
       "    <tr>\n",
       "      <th>std</th>\n",
       "      <td>1.000369e+00</td>\n",
       "      <td>1.000369e+00</td>\n",
       "      <td>1.000369e+00</td>\n",
       "      <td>3.714272</td>\n",
       "    </tr>\n",
       "    <tr>\n",
       "      <th>min</th>\n",
       "      <td>-5.069461e+00</td>\n",
       "      <td>-2.301195e+00</td>\n",
       "      <td>-3.548724e+00</td>\n",
       "      <td>0.000200</td>\n",
       "    </tr>\n",
       "    <tr>\n",
       "      <th>25%</th>\n",
       "      <td>-3.762215e-01</td>\n",
       "      <td>-6.531592e-01</td>\n",
       "      <td>-5.247739e-01</td>\n",
       "      <td>4.500000</td>\n",
       "    </tr>\n",
       "    <tr>\n",
       "      <th>50%</th>\n",
       "      <td>1.380431e-02</td>\n",
       "      <td>1.443046e-01</td>\n",
       "      <td>1.887149e-01</td>\n",
       "      <td>7.500000</td>\n",
       "    </tr>\n",
       "    <tr>\n",
       "      <th>75%</th>\n",
       "      <td>2.682025e-01</td>\n",
       "      <td>7.038464e-01</td>\n",
       "      <td>7.591790e-01</td>\n",
       "      <td>10.112500</td>\n",
       "    </tr>\n",
       "    <tr>\n",
       "      <th>max</th>\n",
       "      <td>1.428239e+01</td>\n",
       "      <td>2.608498e+00</td>\n",
       "      <td>2.335720e+00</td>\n",
       "      <td>16.300000</td>\n",
       "    </tr>\n",
       "  </tbody>\n",
       "</table>\n",
       "</div>"
      ],
      "text/plain": [
       "            VOC (V)  JSC (mA/cm2)        FF (%)  PCE max (%)\n",
       "count  1.356000e+03  1.356000e+03  1.356000e+03  1356.000000\n",
       "mean   2.301502e-16  1.539247e-17  2.421244e-16     7.260537\n",
       "std    1.000369e+00  1.000369e+00  1.000369e+00     3.714272\n",
       "min   -5.069461e+00 -2.301195e+00 -3.548724e+00     0.000200\n",
       "25%   -3.762215e-01 -6.531592e-01 -5.247739e-01     4.500000\n",
       "50%    1.380431e-02  1.443046e-01  1.887149e-01     7.500000\n",
       "75%    2.682025e-01  7.038464e-01  7.591790e-01    10.112500\n",
       "max    1.428239e+01  2.608498e+00  2.335720e+00    16.300000"
      ]
     },
     "execution_count": 14,
     "metadata": {},
     "output_type": "execute_result"
    }
   ],
   "source": [
    "data_scaled.describe()"
   ]
  },
  {
   "cell_type": "code",
   "execution_count": 15,
   "metadata": {},
   "outputs": [
    {
     "data": {
      "text/plain": [
       "<AxesSubplot:>"
      ]
     },
     "execution_count": 15,
     "metadata": {},
     "output_type": "execute_result"
    },
    {
     "data": {
      "image/png": "[encoded data removed]",
      "text/plain": [
       "<Figure size 640x480 with 1 Axes>"
      ]
     },
     "metadata": {},
     "output_type": "display_data"
    }
   ],
   "source": [
    "sns.boxplot(data=data_scaled)"
   ]
  },
  {
   "cell_type": "markdown",
   "metadata": {},
   "source": [
    "* Distribution of reported PCE\n",
    "* Schematics of expressions of somes molecules"
   ]
  },
  {
   "cell_type": "code",
   "execution_count": 16,
   "metadata": {},
   "outputs": [
    {
     "data": {
      "image/png": "[encoded data removed]",
      "text/plain": [
       "<Figure size 640x480 with 1 Axes>"
      ]
     },
     "metadata": {},
     "output_type": "display_data"
    }
   ],
   "source": [
    "data['pce_pair'] = pd.cut(data['PCE max (%)'], bins=[0, 2, 4, 6, 8, 10,12, 14, 16 , 18])\n",
    "pce_count = data.groupby('pce_pair').size()\n",
    "\n",
    "colors = plt.cm.tab10(np.arange(len(pce_count)))\n",
    "\n",
    "plt.bar(pce_count.index.astype(str), pce_count.values, color=colors)\n",
    "plt.xlabel('PCE max (%)')\n",
    "plt.ylabel('Count')\n",
    "plt.show()\n"
   ]
  },
  {
   "cell_type": "code",
   "execution_count": 17,
   "metadata": {},
   "outputs": [
    {
     "name": "stdout",
     "output_type": "stream",
     "text": [
      "O=C1C2=C(C=CC=C2)C(/C1=C/C3=CC(C4(C5=CC=C(CCCCCC)C=C5)C6=CC=C(CCCCCC)C=C6)=C(S3)C7=C4C=C(C(SC(/C=C8/C(C(C=CC=C9)=C9C8=O)=C(C#N)\\C#N)=C%10)=C%10C%11(C%12=CC=C(CCCCCC)C=C%12)C%13=CC=C(CCCCCC)C=C%13)C%11=C7)=C(C#N)/C#N\n"
     ]
    },
    {
     "data": {
      "image/png": "[encoded data removed]",
      "text/plain": [
       "<rdkit.Chem.rdchem.Mol at 0x2531deaf4a0>"
      ]
     },
     "execution_count": 17,
     "metadata": {},
     "output_type": "execute_result"
    }
   ],
   "source": [
    "print(data_with_smiles['A SMILES'][0])\n",
    "Chem.MolFromSmiles(data_with_smiles['A SMILES'][0])"
   ]
  },
  {
   "cell_type": "markdown",
   "metadata": {},
   "source": [
    "* Check all the useful information that we may have missed"
   ]
  },
  {
   "cell_type": "code",
   "execution_count": 18,
   "metadata": {},
   "outputs": [
    {
     "data": {
      "application/vnd.jupyter.widget-view+json": {
       "model_id": "5bb463b31c9c4f36b58e852bd48d342e",
       "version_major": 2,
       "version_minor": 0
      },
      "text/plain": [
       "Summarize dataset:   0%|          | 0/5 [00:00<?, ?it/s]"
      ]
     },
     "metadata": {},
     "output_type": "display_data"
    },
    {
     "data": {
      "application/vnd.jupyter.widget-view+json": {
       "model_id": "93c5a121f3094f708e9125feb0270cd1",
       "version_major": 2,
       "version_minor": 0
      },
      "text/plain": [
       "Generate report structure:   0%|          | 0/1 [00:00<?, ?it/s]"
      ]
     },
     "metadata": {},
     "output_type": "display_data"
    },
    {
     "data": {
      "application/vnd.jupyter.widget-view+json": {
       "model_id": "080b41f126d94632a7e1c86a9cb7f7c2",
       "version_major": 2,
       "version_minor": 0
      },
      "text/plain": [
       "Render HTML:   0%|          | 0/1 [00:00<?, ?it/s]"
      ]
     },
     "metadata": {},
     "output_type": "display_data"
    },
    {
     "data": {
      "application/vnd.jupyter.widget-view+json": {
       "model_id": "e56080fbadd54f1c9d49fff896fc69e2",
       "version_major": 2,
       "version_minor": 0
      },
      "text/plain": [
       "Export report to file:   0%|          | 0/1 [00:00<?, ?it/s]"
      ]
     },
     "metadata": {},
     "output_type": "display_data"
    }
   ],
   "source": [
    "profile = ProfileReport(\n",
    "    data_scaled,\n",
    "    title=\"Profiling Report For D-NFA dataset \",\n",
    "    html={'style':{'full_width':True}}\n",
    ")\n",
    "\n",
    "profile.to_file(output_file = \"data_NFA-profile.html\")"
   ]
  },
  {
   "cell_type": "code",
   "execution_count": 19,
   "metadata": {},
   "outputs": [
    {
     "data": {
      "image/png": "[encoded data removed]",
      "text/plain": [
       "<Figure size 640x480 with 2 Axes>"
      ]
     },
     "metadata": {},
     "output_type": "display_data"
    }
   ],
   "source": [
    "# We can also find the Correlation Matrix in our profile report , but this plot are simply more easier to interpret \n",
    "corr_matrix = data_scaled.corr()\n",
    "sns.heatmap(corr_matrix, cmap='coolwarm', annot=True)\n",
    "plt.show()"
   ]
  },
  {
   "cell_type": "markdown",
   "metadata": {},
   "source": [
    "Feature importance using SHAP values based on\n",
    "\n",
    "* XGBoost\n",
    "* Random Forest\n",
    "* Desicion Trees\n",
    "* K-nearest neighbors\n",
    "\n",
    "We don't have many descriptors so we SHAP Values will only based on Xgb and RF "
   ]
  },
  {
   "cell_type": "code",
   "execution_count": 20,
   "metadata": {},
   "outputs": [],
   "source": [
    "X=data_scaled.drop([\"PCE max (%)\"],axis=1)\n",
    "y=data_scaled[\"PCE max (%)\"]"
   ]
  },
  {
   "cell_type": "code",
   "execution_count": 21,
   "metadata": {},
   "outputs": [
    {
     "name": "stderr",
     "output_type": "stream",
     "text": [
      "ntree_limit is deprecated, use `iteration_range` or model slicing instead.\n"
     ]
    },
    {
     "data": {
      "image/png": "[encoded data removed]",
      "text/plain": [
       "<Figure size 800x270 with 1 Axes>"
      ]
     },
     "metadata": {},
     "output_type": "display_data"
    }
   ],
   "source": [
    "# With XGBOOST\n",
    "model = xgb.XGBRegressor(objective='reg:squarederror')\n",
    "model.fit(X, y)\n",
    "\n",
    "explainer = shap.Explainer(model)\n",
    "shap_values = explainer(X)\n",
    "\n",
    "shap.summary_plot(shap_values, X, plot_type='bar', show=False)"
   ]
  },
  {
   "cell_type": "code",
   "execution_count": 22,
   "metadata": {},
   "outputs": [
    {
     "data": {
      "image/png": "[encoded data removed]",
      "text/plain": [
       "<Figure size 800x270 with 1 Axes>"
      ]
     },
     "metadata": {},
     "output_type": "display_data"
    }
   ],
   "source": [
    "# # With Random Forest \n",
    "model = RandomForestRegressor(random_state=42)\n",
    "model.fit(X, y)\n",
    "\n",
    "explainer = shap.Explainer(model)\n",
    "shap_values = explainer(X)\n",
    "\n",
    "shap.summary_plot(shap_values, X, plot_type='bar', show=False)"
   ]
  },
  {
   "cell_type": "markdown",
   "metadata": {},
   "source": [
    "\n",
    "Note :These graphs will only help us for our analysis, not for feature selection (because we don't have many descriptors)."
   ]
  },
  {
   "cell_type": "markdown",
   "metadata": {},
   "source": [
    "# Model Construction \n",
    "\n",
    "To select the appropriate regression model , we must train and validate differents models on our train/validation data and compare the metrics\n",
    "\n",
    "* XGBoost\n",
    "* Random Forest\n",
    "* Desicion Trees\n",
    "* K-nearest neighbors"
   ]
  },
  {
   "cell_type": "code",
   "execution_count": 23,
   "metadata": {},
   "outputs": [],
   "source": [
    "X_train, X_validation, y_train, y_validation = train_test_split(X, y, test_size=0.2, random_state=42)"
   ]
  },
  {
   "cell_type": "code",
   "execution_count": 24,
   "metadata": {},
   "outputs": [
    {
     "data": {
      "image/png": "[encoded data removed]",
      "text/plain": [
       "<Figure size 640x480 with 1 Axes>"
      ]
     },
     "metadata": {},
     "output_type": "display_data"
    },
    {
     "data": {
      "image/png": "[encoded data removed]",
      "text/plain": [
       "<Figure size 640x480 with 1 Axes>"
      ]
     },
     "metadata": {},
     "output_type": "display_data"
    },
    {
     "data": {
      "image/png": "[encoded data removed]",
      "text/plain": [
       "<Figure size 640x480 with 1 Axes>"
      ]
     },
     "metadata": {},
     "output_type": "display_data"
    },
    {
     "data": {
      "image/png": "[encoded data removed]",
      "text/plain": [
       "<Figure size 640x480 with 1 Axes>"
      ]
     },
     "metadata": {},
     "output_type": "display_data"
    }
   ],
   "source": [
    "def add_pred_true_plot(y_validation,y_pred,name,score):\n",
    "    \n",
    "    plt.scatter(y_validation, y_pred)\n",
    "    plt.plot([y_validation.min(), y_validation.max()], [y_validation.min(), y_validation.max()], 'r')\n",
    "    plt.legend([name,\"R^2 : \" + score])\n",
    "    plt.grid()\n",
    "    plt.show()\n",
    "\n",
    "def train_validate_models_results(X_train, y_train, X_validation, y_validation, models, metrics):\n",
    "    results = []\n",
    "    for name, model in models:\n",
    "        model.fit(X_train, y_train)\n",
    "        y_pred = model.predict(X_validation)\n",
    "        \n",
    "        row = [name]\n",
    "        for metric_name, metric_func in metrics.items():\n",
    "            metric_value = metric_func(y_validation, y_pred)\n",
    "            row.append(metric_value)\n",
    "        results.append(row)\n",
    "        \n",
    "        add_pred_true_plot(y_validation,y_pred,name ,str(round(results[len(results)-1][3],3)))\n",
    "        \n",
    "    df_results = pd.DataFrame(results, columns=['Model'] + list(metrics.keys()))\n",
    "    return df_results\n",
    "\n",
    "\n",
    "\n",
    "models = [\n",
    "    ('Decision Tree Regressor ', DecisionTreeRegressor(random_state=42)),\n",
    "    ('Random Forest Regressor ', RandomForestRegressor(random_state=42)),\n",
    "    ('KNN Regressor ', KNeighborsRegressor()),\n",
    "    ('XGBoost ', xgb.XGBRegressor(random_state=42))\n",
    "]\n",
    "\n",
    "\n",
    "metrics = {\n",
    "    'RMSE': mean_squared_error,\n",
    "    'MAE': mean_absolute_error,\n",
    "    'R^2': r2_score\n",
    "}\n",
    "\n",
    "\n",
    "df=train_validate_models_results(X_train, y_train, X_validation, y_validation, models, metrics)\n"
   ]
  },
  {
   "cell_type": "code",
   "execution_count": 25,
   "metadata": {},
   "outputs": [
    {
     "data": {
      "text/html": [
       "<div>\n",
       "<style scoped>\n",
       "    .dataframe tbody tr th:only-of-type {\n",
       "        vertical-align: middle;\n",
       "    }\n",
       "\n",
       "    .dataframe tbody tr th {\n",
       "        vertical-align: top;\n",
       "    }\n",
       "\n",
       "    .dataframe thead th {\n",
       "        text-align: right;\n",
       "    }\n",
       "</style>\n",
       "<table border=\"1\" class=\"dataframe\">\n",
       "  <thead>\n",
       "    <tr style=\"text-align: right;\">\n",
       "      <th></th>\n",
       "      <th>Model</th>\n",
       "      <th>RMSE</th>\n",
       "      <th>MAE</th>\n",
       "      <th>R^2</th>\n",
       "    </tr>\n",
       "  </thead>\n",
       "  <tbody>\n",
       "    <tr>\n",
       "      <th>0</th>\n",
       "      <td>Decision Tree Regressor</td>\n",
       "      <td>0.591372</td>\n",
       "      <td>0.453639</td>\n",
       "      <td>0.956136</td>\n",
       "    </tr>\n",
       "    <tr>\n",
       "      <th>1</th>\n",
       "      <td>Random Forest Regressor</td>\n",
       "      <td>0.320593</td>\n",
       "      <td>0.300325</td>\n",
       "      <td>0.976221</td>\n",
       "    </tr>\n",
       "    <tr>\n",
       "      <th>2</th>\n",
       "      <td>KNN Regressor</td>\n",
       "      <td>0.377684</td>\n",
       "      <td>0.264946</td>\n",
       "      <td>0.971986</td>\n",
       "    </tr>\n",
       "    <tr>\n",
       "      <th>3</th>\n",
       "      <td>XGBoost</td>\n",
       "      <td>0.195496</td>\n",
       "      <td>0.282467</td>\n",
       "      <td>0.985500</td>\n",
       "    </tr>\n",
       "  </tbody>\n",
       "</table>\n",
       "</div>"
      ],
      "text/plain": [
       "                      Model      RMSE       MAE       R^2\n",
       "0  Decision Tree Regressor   0.591372  0.453639  0.956136\n",
       "1  Random Forest Regressor   0.320593  0.300325  0.976221\n",
       "2            KNN Regressor   0.377684  0.264946  0.971986\n",
       "3                  XGBoost   0.195496  0.282467  0.985500"
      ]
     },
     "execution_count": 25,
     "metadata": {},
     "output_type": "execute_result"
    }
   ],
   "source": [
    "df"
   ]
  },
  {
   "cell_type": "code",
   "execution_count": 26,
   "metadata": {},
   "outputs": [],
   "source": [
    "def train_validate_models_results_cv(X, y, models, metrics, cv):\n",
    "    results = []\n",
    "    for model_name, model in models :\n",
    "        row = [model_name]\n",
    "        for metric_name, metric_func in metrics.items():\n",
    "            scores = cross_val_score(model, X, y, cv=cv, scoring=metric_func)\n",
    "            mean_score = np.mean(scores)\n",
    "            row.append(mean_score)\n",
    "        results.append(row)\n",
    "    df_results = pd.DataFrame(results, columns=['Model'] + list(metrics.keys()))\n",
    "    return df_results\n",
    "\n",
    "models = [\n",
    "    ('Decision Tree Regressor', DecisionTreeRegressor(random_state=42)),\n",
    "    ('Random Forest Regressor', RandomForestRegressor(random_state=42)),\n",
    "    ('KNN Regressor', KNeighborsRegressor()),\n",
    "    ('XGBoost', xgb.XGBRegressor(random_state=42))\n",
    "]\n",
    "\n",
    "\n",
    "metrics = {\n",
    "    'RMSE': make_scorer(mean_squared_error, squared=False),\n",
    "    'MAE': make_scorer(mean_absolute_error),\n",
    "    'R2': make_scorer(r2_score),\n",
    "    'Max Error': make_scorer(max_error)\n",
    "}\n",
    "\n",
    "\n",
    "df_cv5=train_validate_models_results_cv(X, y, models, metrics,cv=5)\n"
   ]
  },
  {
   "cell_type": "code",
   "execution_count": 27,
   "metadata": {},
   "outputs": [
    {
     "data": {
      "text/html": [
       "<div>\n",
       "<style scoped>\n",
       "    .dataframe tbody tr th:only-of-type {\n",
       "        vertical-align: middle;\n",
       "    }\n",
       "\n",
       "    .dataframe tbody tr th {\n",
       "        vertical-align: top;\n",
       "    }\n",
       "\n",
       "    .dataframe thead th {\n",
       "        text-align: right;\n",
       "    }\n",
       "</style>\n",
       "<table border=\"1\" class=\"dataframe\">\n",
       "  <thead>\n",
       "    <tr style=\"text-align: right;\">\n",
       "      <th></th>\n",
       "      <th>Model</th>\n",
       "      <th>RMSE</th>\n",
       "      <th>MAE</th>\n",
       "      <th>R2</th>\n",
       "      <th>Max Error</th>\n",
       "    </tr>\n",
       "  </thead>\n",
       "  <tbody>\n",
       "    <tr>\n",
       "      <th>0</th>\n",
       "      <td>Decision Tree Regressor</td>\n",
       "      <td>0.667973</td>\n",
       "      <td>0.410664</td>\n",
       "      <td>0.960071</td>\n",
       "      <td>4.298000</td>\n",
       "    </tr>\n",
       "    <tr>\n",
       "      <th>1</th>\n",
       "      <td>Random Forest Regressor</td>\n",
       "      <td>0.536863</td>\n",
       "      <td>0.266362</td>\n",
       "      <td>0.972032</td>\n",
       "      <td>4.323650</td>\n",
       "    </tr>\n",
       "    <tr>\n",
       "      <th>2</th>\n",
       "      <td>KNN Regressor</td>\n",
       "      <td>0.444532</td>\n",
       "      <td>0.260485</td>\n",
       "      <td>0.982451</td>\n",
       "      <td>3.359600</td>\n",
       "    </tr>\n",
       "    <tr>\n",
       "      <th>3</th>\n",
       "      <td>XGBoost</td>\n",
       "      <td>0.464790</td>\n",
       "      <td>0.250636</td>\n",
       "      <td>0.980194</td>\n",
       "      <td>3.802683</td>\n",
       "    </tr>\n",
       "  </tbody>\n",
       "</table>\n",
       "</div>"
      ],
      "text/plain": [
       "                     Model      RMSE       MAE        R2  Max Error\n",
       "0  Decision Tree Regressor  0.667973  0.410664  0.960071   4.298000\n",
       "1  Random Forest Regressor  0.536863  0.266362  0.972032   4.323650\n",
       "2            KNN Regressor  0.444532  0.260485  0.982451   3.359600\n",
       "3                  XGBoost  0.464790  0.250636  0.980194   3.802683"
      ]
     },
     "execution_count": 27,
     "metadata": {},
     "output_type": "execute_result"
    }
   ],
   "source": [
    "df_cv5"
   ]
  },
  {
   "cell_type": "code",
   "execution_count": 28,
   "metadata": {},
   "outputs": [],
   "source": [
    "def plot_models_metrics(df , title):\n",
    "    df_melted = pd.melt(df, id_vars=['Model'], var_name='metric', value_name='value')\n",
    "    sns.catplot(x=\"Model\", y=\"value\", hue=\"metric\", data=df_melted, kind=\"bar\", height=6, aspect=2)\n",
    "    plt.ylim(0, 5)\n",
    "    plt.title(title)\n",
    "    plt.show()\n"
   ]
  },
  {
   "cell_type": "code",
   "execution_count": 29,
   "metadata": {},
   "outputs": [
    {
     "data": {
      "image/png": "[encoded data removed]",
      "text/plain": [
       "<Figure size 1289.12x600 with 1 Axes>"
      ]
     },
     "metadata": {},
     "output_type": "display_data"
    },
    {
     "data": {
      "image/png": "[encoded data removed]",
      "text/plain": [
       "<Figure size 1317.25x600 with 1 Axes>"
      ]
     },
     "metadata": {},
     "output_type": "display_data"
    }
   ],
   "source": [
    "plot_models_metrics(df,title=\"Performance Comparison of Regression Models \")\n",
    "plot_models_metrics(df_cv5,title=\"Performance Comparison of Regression Models after cv5\")"
   ]
  },
  {
   "cell_type": "code",
   "execution_count": 49,
   "metadata": {},
   "outputs": [],
   "source": [
    "from sklearn.model_selection import GridSearchCV\n",
    "\n",
    "def grid_search_models(models, params, X, y):\n",
    "    results_df = pd.DataFrame(columns=['model', 'best_params', 'score'])\n",
    "\n",
    "    for name, model in models.items():\n",
    "        param_grid = params[name]\n",
    "        grid = GridSearchCV(model, param_grid, cv=5,scoring='r2')\n",
    "        grid.fit(X, y)\n",
    "        \n",
    "        best_params = grid.best_params_\n",
    "        best_score = grid.best_score_  # convert back to positive MSE\n",
    "\n",
    "        results_df = results_df.append({'model': name, 'best_params': best_params, 'score': best_score}, ignore_index=True)\n",
    "\n",
    "    return results_df\n",
    "\n",
    "\n",
    "\n",
    "models = {\n",
    "    'Decision Tree Regressor': DecisionTreeRegressor(random_state=42),\n",
    "    'Random Forest Regressor': RandomForestRegressor(random_state=42),\n",
    "    'KNN Regressor': KNeighborsRegressor(),\n",
    "    'XGBoost': xgb.XGBRegressor(random_state=42)\n",
    "}\n",
    "\n",
    "params = {\n",
    "    'Decision Tree Regressor': {'max_depth': [2, 4, 6]},\n",
    "    'Random Forest Regressor': {'n_estimators': [50, 100, 200]},\n",
    "    'KNN Regressor': {'n_neighbors': [3, 5, 7]},\n",
    "    'XGBoost':{'n_estimators': [50, 100, 200], 'max_depth': [2, 4, 6]}\n",
    "}         \n",
    "\n",
    "\n",
    "df_cv5_gridsearch =grid_search_models(models, params, X, y)\n"
   ]
  },
  {
   "cell_type": "code",
   "execution_count": 50,
   "metadata": {},
   "outputs": [
    {
     "data": {
      "text/html": [
       "<div>\n",
       "<style scoped>\n",
       "    .dataframe tbody tr th:only-of-type {\n",
       "        vertical-align: middle;\n",
       "    }\n",
       "\n",
       "    .dataframe tbody tr th {\n",
       "        vertical-align: top;\n",
       "    }\n",
       "\n",
       "    .dataframe thead th {\n",
       "        text-align: right;\n",
       "    }\n",
       "</style>\n",
       "<table border=\"1\" class=\"dataframe\">\n",
       "  <thead>\n",
       "    <tr style=\"text-align: right;\">\n",
       "      <th></th>\n",
       "      <th>model</th>\n",
       "      <th>best_params</th>\n",
       "      <th>score</th>\n",
       "    </tr>\n",
       "  </thead>\n",
       "  <tbody>\n",
       "    <tr>\n",
       "      <th>0</th>\n",
       "      <td>Decision Tree Regressor</td>\n",
       "      <td>{'max_depth': 6}</td>\n",
       "      <td>-0.933683</td>\n",
       "    </tr>\n",
       "    <tr>\n",
       "      <th>1</th>\n",
       "      <td>Random Forest Regressor</td>\n",
       "      <td>{'n_estimators': 100}</td>\n",
       "      <td>-0.972032</td>\n",
       "    </tr>\n",
       "    <tr>\n",
       "      <th>2</th>\n",
       "      <td>KNN Regressor</td>\n",
       "      <td>{'n_neighbors': 7}</td>\n",
       "      <td>-0.983043</td>\n",
       "    </tr>\n",
       "    <tr>\n",
       "      <th>3</th>\n",
       "      <td>XGBoost</td>\n",
       "      <td>{'max_depth': 2, 'n_estimators': 200}</td>\n",
       "      <td>-0.988469</td>\n",
       "    </tr>\n",
       "  </tbody>\n",
       "</table>\n",
       "</div>"
      ],
      "text/plain": [
       "                     model                            best_params     score\n",
       "0  Decision Tree Regressor                       {'max_depth': 6} -0.933683\n",
       "1  Random Forest Regressor                  {'n_estimators': 100} -0.972032\n",
       "2            KNN Regressor                     {'n_neighbors': 7} -0.983043\n",
       "3                  XGBoost  {'max_depth': 2, 'n_estimators': 200} -0.988469"
      ]
     },
     "execution_count": 50,
     "metadata": {},
     "output_type": "execute_result"
    }
   ],
   "source": [
    "df_cv5_gridsearch"
   ]
  },
  {
   "cell_type": "markdown",
   "metadata": {},
   "source": [
    "\n",
    "We can see that XGBOOST model with default parameters achieves best result with R^2 = 0.988469"
   ]
  },
  {
   "cell_type": "markdown",
   "metadata": {},
   "source": [
    "# MODEL TEST (APPLICATION)"
   ]
  },
  {
   "cell_type": "markdown",
   "metadata": {},
   "source": [
    "Dataset of 200 unique D:A combinations with corresponding PCE manually collected from the literature .\n",
    "We will use that as new D-NFA comninaisons "
   ]
  },
  {
   "cell_type": "code",
   "execution_count": 53,
   "metadata": {},
   "outputs": [],
   "source": [
    "test=pd.read_csv(\"data\\Pseudo_test_data.csv\" , sep = \";\")\n"
   ]
  },
  {
   "cell_type": "code",
   "execution_count": 54,
   "metadata": {},
   "outputs": [
    {
     "data": {
      "text/html": [
       "<div>\n",
       "<style scoped>\n",
       "    .dataframe tbody tr th:only-of-type {\n",
       "        vertical-align: middle;\n",
       "    }\n",
       "\n",
       "    .dataframe tbody tr th {\n",
       "        vertical-align: top;\n",
       "    }\n",
       "\n",
       "    .dataframe thead th {\n",
       "        text-align: right;\n",
       "    }\n",
       "</style>\n",
       "<table border=\"1\" class=\"dataframe\">\n",
       "  <thead>\n",
       "    <tr style=\"text-align: right;\">\n",
       "      <th></th>\n",
       "      <th>Donor</th>\n",
       "      <th>Acceptor</th>\n",
       "      <th>JSC (mA/cm2)</th>\n",
       "      <th>VOC (V)</th>\n",
       "      <th>FF (%)</th>\n",
       "      <th>PCE max (%)</th>\n",
       "    </tr>\n",
       "  </thead>\n",
       "  <tbody>\n",
       "    <tr>\n",
       "      <th>30</th>\n",
       "      <td>PM6</td>\n",
       "      <td>Y6</td>\n",
       "      <td>25.50</td>\n",
       "      <td>0.825</td>\n",
       "      <td>72.00</td>\n",
       "      <td>15.00</td>\n",
       "    </tr>\n",
       "    <tr>\n",
       "      <th>31</th>\n",
       "      <td>J52</td>\n",
       "      <td>BTA3</td>\n",
       "      <td>14.62</td>\n",
       "      <td>1.070</td>\n",
       "      <td>60.34</td>\n",
       "      <td>9.41</td>\n",
       "    </tr>\n",
       "    <tr>\n",
       "      <th>32</th>\n",
       "      <td>J52-Cl</td>\n",
       "      <td>BTA3</td>\n",
       "      <td>13.16</td>\n",
       "      <td>1.240</td>\n",
       "      <td>66.62</td>\n",
       "      <td>10.50</td>\n",
       "    </tr>\n",
       "    <tr>\n",
       "      <th>33</th>\n",
       "      <td>PDCBT-2F</td>\n",
       "      <td>IT-M</td>\n",
       "      <td>10.30</td>\n",
       "      <td>1.130</td>\n",
       "      <td>55.00</td>\n",
       "      <td>6.40</td>\n",
       "    </tr>\n",
       "    <tr>\n",
       "      <th>34</th>\n",
       "      <td>PTB7-Th</td>\n",
       "      <td>IEICO</td>\n",
       "      <td>13.30</td>\n",
       "      <td>0.900</td>\n",
       "      <td>60.00</td>\n",
       "      <td>7.20</td>\n",
       "    </tr>\n",
       "    <tr>\n",
       "      <th>35</th>\n",
       "      <td>PBQ-QF</td>\n",
       "      <td>IEICO-4F</td>\n",
       "      <td>22.40</td>\n",
       "      <td>0.740</td>\n",
       "      <td>64.00</td>\n",
       "      <td>10.50</td>\n",
       "    </tr>\n",
       "    <tr>\n",
       "      <th>36</th>\n",
       "      <td>PvBDTTAZ</td>\n",
       "      <td>O-IDTBR</td>\n",
       "      <td>16.20</td>\n",
       "      <td>1.080</td>\n",
       "      <td>65.00</td>\n",
       "      <td>11.40</td>\n",
       "    </tr>\n",
       "    <tr>\n",
       "      <th>37</th>\n",
       "      <td>PBDB-T</td>\n",
       "      <td>NCBDT</td>\n",
       "      <td>18.64</td>\n",
       "      <td>0.847</td>\n",
       "      <td>64.60</td>\n",
       "      <td>10.19</td>\n",
       "    </tr>\n",
       "    <tr>\n",
       "      <th>38</th>\n",
       "      <td>PTPD3T</td>\n",
       "      <td>ITIC</td>\n",
       "      <td>13.50</td>\n",
       "      <td>0.910</td>\n",
       "      <td>68.00</td>\n",
       "      <td>8.40</td>\n",
       "    </tr>\n",
       "    <tr>\n",
       "      <th>39</th>\n",
       "      <td>PTPD2T</td>\n",
       "      <td>ITIC</td>\n",
       "      <td>12.30</td>\n",
       "      <td>0.960</td>\n",
       "      <td>60.00</td>\n",
       "      <td>7.00</td>\n",
       "    </tr>\n",
       "  </tbody>\n",
       "</table>\n",
       "</div>"
      ],
      "text/plain": [
       "       Donor  Acceptor  JSC (mA/cm2)  VOC (V)  FF (%)  PCE max (%)\n",
       "30       PM6        Y6         25.50    0.825   72.00        15.00\n",
       "31       J52      BTA3         14.62    1.070   60.34         9.41\n",
       "32    J52-Cl      BTA3         13.16    1.240   66.62        10.50\n",
       "33  PDCBT-2F      IT-M         10.30    1.130   55.00         6.40\n",
       "34   PTB7-Th     IEICO         13.30    0.900   60.00         7.20\n",
       "35    PBQ-QF  IEICO-4F         22.40    0.740   64.00        10.50\n",
       "36  PvBDTTAZ   O-IDTBR         16.20    1.080   65.00        11.40\n",
       "37    PBDB-T     NCBDT         18.64    0.847   64.60        10.19\n",
       "38    PTPD3T      ITIC         13.50    0.910   68.00         8.40\n",
       "39    PTPD2T      ITIC         12.30    0.960   60.00         7.00"
      ]
     },
     "execution_count": 54,
     "metadata": {},
     "output_type": "execute_result"
    }
   ],
   "source": [
    "test=test.drop([test.columns[-1],test.columns[0]],axis=1)\n",
    "new_columns = {'Jsc(mA/cm2)': 'JSC (mA/cm2)', 'Voc(V)': 'VOC (V)','FF': 'FF (%)', 'PCE(%)': 'PCE max (%)'}\n",
    "\n",
    "test = test.rename(columns=new_columns)\n",
    "test['FF (%)']=test['FF (%)']*100\n",
    "test[30:40]"
   ]
  },
  {
   "cell_type": "code",
   "execution_count": 55,
   "metadata": {},
   "outputs": [
    {
     "data": {
      "text/html": [
       "<div>\n",
       "<style scoped>\n",
       "    .dataframe tbody tr th:only-of-type {\n",
       "        vertical-align: middle;\n",
       "    }\n",
       "\n",
       "    .dataframe tbody tr th {\n",
       "        vertical-align: top;\n",
       "    }\n",
       "\n",
       "    .dataframe thead th {\n",
       "        text-align: right;\n",
       "    }\n",
       "</style>\n",
       "<table border=\"1\" class=\"dataframe\">\n",
       "  <thead>\n",
       "    <tr style=\"text-align: right;\">\n",
       "      <th></th>\n",
       "      <th>JSC (mA/cm2)</th>\n",
       "      <th>VOC (V)</th>\n",
       "      <th>FF (%)</th>\n",
       "      <th>PCE max (%)</th>\n",
       "    </tr>\n",
       "  </thead>\n",
       "  <tbody>\n",
       "    <tr>\n",
       "      <th>count</th>\n",
       "      <td>200.000000</td>\n",
       "      <td>200.000000</td>\n",
       "      <td>200.000000</td>\n",
       "      <td>200.000000</td>\n",
       "    </tr>\n",
       "    <tr>\n",
       "      <th>mean</th>\n",
       "      <td>17.368050</td>\n",
       "      <td>0.903730</td>\n",
       "      <td>63.053150</td>\n",
       "      <td>9.890750</td>\n",
       "    </tr>\n",
       "    <tr>\n",
       "      <th>std</th>\n",
       "      <td>4.385205</td>\n",
       "      <td>0.112746</td>\n",
       "      <td>8.481698</td>\n",
       "      <td>3.086631</td>\n",
       "    </tr>\n",
       "    <tr>\n",
       "      <th>min</th>\n",
       "      <td>7.900000</td>\n",
       "      <td>0.660000</td>\n",
       "      <td>42.200000</td>\n",
       "      <td>4.100000</td>\n",
       "    </tr>\n",
       "    <tr>\n",
       "      <th>25%</th>\n",
       "      <td>14.250000</td>\n",
       "      <td>0.839750</td>\n",
       "      <td>57.400000</td>\n",
       "      <td>7.790000</td>\n",
       "    </tr>\n",
       "    <tr>\n",
       "      <th>50%</th>\n",
       "      <td>17.075000</td>\n",
       "      <td>0.890000</td>\n",
       "      <td>63.880000</td>\n",
       "      <td>9.600000</td>\n",
       "    </tr>\n",
       "    <tr>\n",
       "      <th>75%</th>\n",
       "      <td>20.425000</td>\n",
       "      <td>0.957750</td>\n",
       "      <td>69.450000</td>\n",
       "      <td>11.805000</td>\n",
       "    </tr>\n",
       "    <tr>\n",
       "      <th>max</th>\n",
       "      <td>27.700000</td>\n",
       "      <td>1.340000</td>\n",
       "      <td>81.500000</td>\n",
       "      <td>18.320000</td>\n",
       "    </tr>\n",
       "  </tbody>\n",
       "</table>\n",
       "</div>"
      ],
      "text/plain": [
       "       JSC (mA/cm2)     VOC (V)      FF (%)  PCE max (%)\n",
       "count    200.000000  200.000000  200.000000   200.000000\n",
       "mean      17.368050    0.903730   63.053150     9.890750\n",
       "std        4.385205    0.112746    8.481698     3.086631\n",
       "min        7.900000    0.660000   42.200000     4.100000\n",
       "25%       14.250000    0.839750   57.400000     7.790000\n",
       "50%       17.075000    0.890000   63.880000     9.600000\n",
       "75%       20.425000    0.957750   69.450000    11.805000\n",
       "max       27.700000    1.340000   81.500000    18.320000"
      ]
     },
     "execution_count": 55,
     "metadata": {},
     "output_type": "execute_result"
    }
   ],
   "source": [
    "test.describe()"
   ]
  },
  {
   "cell_type": "code",
   "execution_count": 56,
   "metadata": {},
   "outputs": [
    {
     "data": {
      "text/html": [
       "<div>\n",
       "<style scoped>\n",
       "    .dataframe tbody tr th:only-of-type {\n",
       "        vertical-align: middle;\n",
       "    }\n",
       "\n",
       "    .dataframe tbody tr th {\n",
       "        vertical-align: top;\n",
       "    }\n",
       "\n",
       "    .dataframe thead th {\n",
       "        text-align: right;\n",
       "    }\n",
       "</style>\n",
       "<table border=\"1\" class=\"dataframe\">\n",
       "  <thead>\n",
       "    <tr style=\"text-align: right;\">\n",
       "      <th></th>\n",
       "      <th>VOC (V)</th>\n",
       "      <th>JSC (mA/cm2)</th>\n",
       "      <th>FF (%)</th>\n",
       "    </tr>\n",
       "  </thead>\n",
       "  <tbody>\n",
       "    <tr>\n",
       "      <th>0</th>\n",
       "      <td>0.199984</td>\n",
       "      <td>0.402620</td>\n",
       "      <td>0.529522</td>\n",
       "    </tr>\n",
       "    <tr>\n",
       "      <th>1</th>\n",
       "      <td>0.452952</td>\n",
       "      <td>-0.151399</td>\n",
       "      <td>-0.091613</td>\n",
       "    </tr>\n",
       "    <tr>\n",
       "      <th>2</th>\n",
       "      <td>0.070535</td>\n",
       "      <td>0.088223</td>\n",
       "      <td>0.701152</td>\n",
       "    </tr>\n",
       "    <tr>\n",
       "      <th>3</th>\n",
       "      <td>0.199984</td>\n",
       "      <td>-0.173491</td>\n",
       "      <td>-0.156996</td>\n",
       "    </tr>\n",
       "    <tr>\n",
       "      <th>4</th>\n",
       "      <td>0.113910</td>\n",
       "      <td>1.350909</td>\n",
       "      <td>1.436707</td>\n",
       "    </tr>\n",
       "    <tr>\n",
       "      <th>...</th>\n",
       "      <td>...</td>\n",
       "      <td>...</td>\n",
       "      <td>...</td>\n",
       "    </tr>\n",
       "    <tr>\n",
       "      <th>1351</th>\n",
       "      <td>1.091954</td>\n",
       "      <td>-1.536445</td>\n",
       "      <td>-1.914157</td>\n",
       "    </tr>\n",
       "    <tr>\n",
       "      <th>1352</th>\n",
       "      <td>0.157059</td>\n",
       "      <td>-2.049677</td>\n",
       "      <td>-1.440132</td>\n",
       "    </tr>\n",
       "    <tr>\n",
       "      <th>1353</th>\n",
       "      <td>-0.656349</td>\n",
       "      <td>-2.158441</td>\n",
       "      <td>-1.644453</td>\n",
       "    </tr>\n",
       "    <tr>\n",
       "      <th>1354</th>\n",
       "      <td>0.738614</td>\n",
       "      <td>-2.187332</td>\n",
       "      <td>-1.554552</td>\n",
       "    </tr>\n",
       "    <tr>\n",
       "      <th>1355</th>\n",
       "      <td>0.698405</td>\n",
       "      <td>-1.901825</td>\n",
       "      <td>-0.107959</td>\n",
       "    </tr>\n",
       "  </tbody>\n",
       "</table>\n",
       "<p>1356 rows × 3 columns</p>\n",
       "</div>"
      ],
      "text/plain": [
       "       VOC (V)  JSC (mA/cm2)    FF (%)\n",
       "0     0.199984      0.402620  0.529522\n",
       "1     0.452952     -0.151399 -0.091613\n",
       "2     0.070535      0.088223  0.701152\n",
       "3     0.199984     -0.173491 -0.156996\n",
       "4     0.113910      1.350909  1.436707\n",
       "...        ...           ...       ...\n",
       "1351  1.091954     -1.536445 -1.914157\n",
       "1352  0.157059     -2.049677 -1.440132\n",
       "1353 -0.656349     -2.158441 -1.644453\n",
       "1354  0.738614     -2.187332 -1.554552\n",
       "1355  0.698405     -1.901825 -0.107959\n",
       "\n",
       "[1356 rows x 3 columns]"
      ]
     },
     "execution_count": 56,
     "metadata": {},
     "output_type": "execute_result"
    }
   ],
   "source": [
    "X"
   ]
  },
  {
   "cell_type": "code",
   "execution_count": 57,
   "metadata": {},
   "outputs": [],
   "source": [
    "\n",
    "\n",
    "def import_data():\n",
    "    data=pd.read_csv(\"data\\jjapac4894supp1.csv\")\n",
    "    data=data.drop([data.columns[-1],data.columns[0]],axis=1)\n",
    "    data['VOC (V)'] = data['VOC (V)'] + 1\n",
    "    data['VOC (V)'] = np.log(data['VOC (V)'])\n",
    "    X=data.drop([\"PCE max (%)\"],axis=1)\n",
    "    y=data[\"PCE max (%)\"]\n",
    "    return X,y\n",
    "\n",
    "X_input , y_output = import_data()\n",
    "\n",
    "def predict(data,scaler=scaler,X=X_input, y=y_output):\n",
    "    \n",
    "    \n",
    "    scalers = StandardScaler()\n",
    "    scalers.fit(X)\n",
    "    X = scalers.transform(X)\n",
    "    model=xgb.XGBRegressor(max_depth= 2, n_estimators= 200)\n",
    "    model.fit(X, y.values)\n",
    "\n",
    "    log_transform = FunctionTransformer(lambda x: np.log(x+1))\n",
    "    data[['VOC (V)']] = log_transform.fit_transform(data[['VOC (V)']])\n",
    "    data = scalers.transform(data)\n",
    "    \n",
    "    predictions = model.predict(data)\n",
    "    return predictions\n"
   ]
  },
  {
   "cell_type": "code",
   "execution_count": 58,
   "metadata": {},
   "outputs": [
    {
     "name": "stderr",
     "output_type": "stream",
     "text": [
      "\n",
      "A value is trying to be set on a copy of a slice from a DataFrame.\n",
      "Try using .loc[row_indexer,col_indexer] = value instead\n",
      "\n",
      "See the caveats in the documentation: https://pandas.pydata.org/pandas-docs/stable/user_guide/indexing.html#returning-a-view-versus-a-copy\n"
     ]
    }
   ],
   "source": [
    "X_test=test[['VOC (V)','JSC (mA/cm2)', 'FF (%)' ]]\n",
    "y_test=test[\"PCE max (%)\"]\n",
    "\n",
    "test[\"Predicted PCE\"]= predict(X_test)"
   ]
  },
  {
   "cell_type": "code",
   "execution_count": 59,
   "metadata": {},
   "outputs": [],
   "source": [
    "test.sort_values(by=['Predicted PCE'], inplace=True, ascending=False)"
   ]
  },
  {
   "cell_type": "code",
   "execution_count": 60,
   "metadata": {},
   "outputs": [
    {
     "data": {
      "text/html": [
       "<div>\n",
       "<style scoped>\n",
       "    .dataframe tbody tr th:only-of-type {\n",
       "        vertical-align: middle;\n",
       "    }\n",
       "\n",
       "    .dataframe tbody tr th {\n",
       "        vertical-align: top;\n",
       "    }\n",
       "\n",
       "    .dataframe thead th {\n",
       "        text-align: right;\n",
       "    }\n",
       "</style>\n",
       "<table border=\"1\" class=\"dataframe\">\n",
       "  <thead>\n",
       "    <tr style=\"text-align: right;\">\n",
       "      <th></th>\n",
       "      <th>Donor</th>\n",
       "      <th>Acceptor</th>\n",
       "      <th>JSC (mA/cm2)</th>\n",
       "      <th>VOC (V)</th>\n",
       "      <th>FF (%)</th>\n",
       "      <th>PCE max (%)</th>\n",
       "      <th>Predicted PCE</th>\n",
       "    </tr>\n",
       "  </thead>\n",
       "  <tbody>\n",
       "    <tr>\n",
       "      <th>173</th>\n",
       "      <td>D18</td>\n",
       "      <td>Y6</td>\n",
       "      <td>27.70</td>\n",
       "      <td>0.859</td>\n",
       "      <td>76.60</td>\n",
       "      <td>18.22</td>\n",
       "      <td>17.285040</td>\n",
       "    </tr>\n",
       "    <tr>\n",
       "      <th>171</th>\n",
       "      <td>PM6</td>\n",
       "      <td>L8-BO</td>\n",
       "      <td>25.72</td>\n",
       "      <td>0.870</td>\n",
       "      <td>81.50</td>\n",
       "      <td>18.32</td>\n",
       "      <td>17.211807</td>\n",
       "    </tr>\n",
       "    <tr>\n",
       "      <th>48</th>\n",
       "      <td>PBDB-TF</td>\n",
       "      <td>BTP-eC9</td>\n",
       "      <td>26.20</td>\n",
       "      <td>0.839</td>\n",
       "      <td>81.10</td>\n",
       "      <td>17.80</td>\n",
       "      <td>16.810188</td>\n",
       "    </tr>\n",
       "    <tr>\n",
       "      <th>59</th>\n",
       "      <td>PBDB-TF</td>\n",
       "      <td>Aqx-2</td>\n",
       "      <td>25.38</td>\n",
       "      <td>0.860</td>\n",
       "      <td>76.25</td>\n",
       "      <td>16.64</td>\n",
       "      <td>16.619755</td>\n",
       "    </tr>\n",
       "    <tr>\n",
       "      <th>25</th>\n",
       "      <td>PBDB-TF</td>\n",
       "      <td>BTP-4Cl(Y7)</td>\n",
       "      <td>25.40</td>\n",
       "      <td>0.867</td>\n",
       "      <td>75.00</td>\n",
       "      <td>16.50</td>\n",
       "      <td>16.619755</td>\n",
       "    </tr>\n",
       "    <tr>\n",
       "      <th>49</th>\n",
       "      <td>PBDB-TF</td>\n",
       "      <td>BTP-eC11</td>\n",
       "      <td>25.70</td>\n",
       "      <td>0.851</td>\n",
       "      <td>77.50</td>\n",
       "      <td>16.90</td>\n",
       "      <td>16.524717</td>\n",
       "    </tr>\n",
       "    <tr>\n",
       "      <th>122</th>\n",
       "      <td>PM6</td>\n",
       "      <td>BP4T-4F</td>\n",
       "      <td>26.30</td>\n",
       "      <td>0.839</td>\n",
       "      <td>77.70</td>\n",
       "      <td>17.10</td>\n",
       "      <td>16.399908</td>\n",
       "    </tr>\n",
       "    <tr>\n",
       "      <th>123</th>\n",
       "      <td>PM6</td>\n",
       "      <td>BP5T-4F</td>\n",
       "      <td>24.60</td>\n",
       "      <td>0.888</td>\n",
       "      <td>76.30</td>\n",
       "      <td>16.70</td>\n",
       "      <td>15.927349</td>\n",
       "    </tr>\n",
       "    <tr>\n",
       "      <th>119</th>\n",
       "      <td>PTQ10</td>\n",
       "      <td>Y6</td>\n",
       "      <td>24.81</td>\n",
       "      <td>0.870</td>\n",
       "      <td>75.10</td>\n",
       "      <td>16.21</td>\n",
       "      <td>15.699394</td>\n",
       "    </tr>\n",
       "    <tr>\n",
       "      <th>83</th>\n",
       "      <td>PBDB-TF</td>\n",
       "      <td>BTP-6F</td>\n",
       "      <td>25.90</td>\n",
       "      <td>0.810</td>\n",
       "      <td>72.80</td>\n",
       "      <td>15.30</td>\n",
       "      <td>15.425929</td>\n",
       "    </tr>\n",
       "  </tbody>\n",
       "</table>\n",
       "</div>"
      ],
      "text/plain": [
       "       Donor     Acceptor  JSC (mA/cm2)  VOC (V)  FF (%)  PCE max (%)  \\\n",
       "173      D18           Y6         27.70    0.859   76.60        18.22   \n",
       "171      PM6        L8-BO         25.72    0.870   81.50        18.32   \n",
       "48   PBDB-TF      BTP-eC9         26.20    0.839   81.10        17.80   \n",
       "59   PBDB-TF        Aqx-2         25.38    0.860   76.25        16.64   \n",
       "25   PBDB-TF  BTP-4Cl(Y7)         25.40    0.867   75.00        16.50   \n",
       "49   PBDB-TF     BTP-eC11         25.70    0.851   77.50        16.90   \n",
       "122      PM6      BP4T-4F         26.30    0.839   77.70        17.10   \n",
       "123      PM6      BP5T-4F         24.60    0.888   76.30        16.70   \n",
       "119    PTQ10           Y6         24.81    0.870   75.10        16.21   \n",
       "83   PBDB-TF       BTP-6F         25.90    0.810   72.80        15.30   \n",
       "\n",
       "     Predicted PCE  \n",
       "173      17.285040  \n",
       "171      17.211807  \n",
       "48       16.810188  \n",
       "59       16.619755  \n",
       "25       16.619755  \n",
       "49       16.524717  \n",
       "122      16.399908  \n",
       "123      15.927349  \n",
       "119      15.699394  \n",
       "83       15.425929  "
      ]
     },
     "execution_count": 60,
     "metadata": {},
     "output_type": "execute_result"
    }
   ],
   "source": [
    "test[0:10]"
   ]
  },
  {
   "cell_type": "code",
   "execution_count": 41,
   "metadata": {},
   "outputs": [
    {
     "data": {
      "text/html": [
       "<div>\n",
       "<style scoped>\n",
       "    .dataframe tbody tr th:only-of-type {\n",
       "        vertical-align: middle;\n",
       "    }\n",
       "\n",
       "    .dataframe tbody tr th {\n",
       "        vertical-align: top;\n",
       "    }\n",
       "\n",
       "    .dataframe thead th {\n",
       "        text-align: right;\n",
       "    }\n",
       "</style>\n",
       "<table border=\"1\" class=\"dataframe\">\n",
       "  <thead>\n",
       "    <tr style=\"text-align: right;\">\n",
       "      <th></th>\n",
       "      <th>Donor</th>\n",
       "      <th>Acceptor</th>\n",
       "      <th>JSC (mA/cm2)</th>\n",
       "      <th>VOC (V)</th>\n",
       "      <th>FF (%)</th>\n",
       "      <th>PCE max (%)</th>\n",
       "      <th>Predicted PCE</th>\n",
       "    </tr>\n",
       "  </thead>\n",
       "  <tbody>\n",
       "    <tr>\n",
       "      <th>171</th>\n",
       "      <td>PM6</td>\n",
       "      <td>L8-BO</td>\n",
       "      <td>25.72</td>\n",
       "      <td>0.870</td>\n",
       "      <td>81.50</td>\n",
       "      <td>18.32</td>\n",
       "      <td>16.421396</td>\n",
       "    </tr>\n",
       "    <tr>\n",
       "      <th>173</th>\n",
       "      <td>D18</td>\n",
       "      <td>Y6</td>\n",
       "      <td>27.70</td>\n",
       "      <td>0.859</td>\n",
       "      <td>76.60</td>\n",
       "      <td>18.22</td>\n",
       "      <td>16.410303</td>\n",
       "    </tr>\n",
       "    <tr>\n",
       "      <th>48</th>\n",
       "      <td>PBDB-TF</td>\n",
       "      <td>BTP-eC9</td>\n",
       "      <td>26.20</td>\n",
       "      <td>0.839</td>\n",
       "      <td>81.10</td>\n",
       "      <td>17.80</td>\n",
       "      <td>16.056492</td>\n",
       "    </tr>\n",
       "    <tr>\n",
       "      <th>122</th>\n",
       "      <td>PM6</td>\n",
       "      <td>BP4T-4F</td>\n",
       "      <td>26.30</td>\n",
       "      <td>0.839</td>\n",
       "      <td>77.70</td>\n",
       "      <td>17.10</td>\n",
       "      <td>15.975606</td>\n",
       "    </tr>\n",
       "    <tr>\n",
       "      <th>49</th>\n",
       "      <td>PBDB-TF</td>\n",
       "      <td>BTP-eC11</td>\n",
       "      <td>25.70</td>\n",
       "      <td>0.851</td>\n",
       "      <td>77.50</td>\n",
       "      <td>16.90</td>\n",
       "      <td>16.334778</td>\n",
       "    </tr>\n",
       "    <tr>\n",
       "      <th>123</th>\n",
       "      <td>PM6</td>\n",
       "      <td>BP5T-4F</td>\n",
       "      <td>24.60</td>\n",
       "      <td>0.888</td>\n",
       "      <td>76.30</td>\n",
       "      <td>16.70</td>\n",
       "      <td>16.285002</td>\n",
       "    </tr>\n",
       "    <tr>\n",
       "      <th>59</th>\n",
       "      <td>PBDB-TF</td>\n",
       "      <td>Aqx-2</td>\n",
       "      <td>25.38</td>\n",
       "      <td>0.860</td>\n",
       "      <td>76.25</td>\n",
       "      <td>16.64</td>\n",
       "      <td>16.216547</td>\n",
       "    </tr>\n",
       "    <tr>\n",
       "      <th>25</th>\n",
       "      <td>PBDB-TF</td>\n",
       "      <td>BTP-4Cl(Y7)</td>\n",
       "      <td>25.40</td>\n",
       "      <td>0.867</td>\n",
       "      <td>75.00</td>\n",
       "      <td>16.50</td>\n",
       "      <td>16.225552</td>\n",
       "    </tr>\n",
       "    <tr>\n",
       "      <th>119</th>\n",
       "      <td>PTQ10</td>\n",
       "      <td>Y6</td>\n",
       "      <td>24.81</td>\n",
       "      <td>0.870</td>\n",
       "      <td>75.10</td>\n",
       "      <td>16.21</td>\n",
       "      <td>16.066677</td>\n",
       "    </tr>\n",
       "    <tr>\n",
       "      <th>83</th>\n",
       "      <td>PBDB-TF</td>\n",
       "      <td>BTP-6F</td>\n",
       "      <td>25.90</td>\n",
       "      <td>0.810</td>\n",
       "      <td>72.80</td>\n",
       "      <td>15.30</td>\n",
       "      <td>15.561440</td>\n",
       "    </tr>\n",
       "  </tbody>\n",
       "</table>\n",
       "</div>"
      ],
      "text/plain": [
       "       Donor     Acceptor  JSC (mA/cm2)  VOC (V)  FF (%)  PCE max (%)  \\\n",
       "171      PM6        L8-BO         25.72    0.870   81.50        18.32   \n",
       "173      D18           Y6         27.70    0.859   76.60        18.22   \n",
       "48   PBDB-TF      BTP-eC9         26.20    0.839   81.10        17.80   \n",
       "122      PM6      BP4T-4F         26.30    0.839   77.70        17.10   \n",
       "49   PBDB-TF     BTP-eC11         25.70    0.851   77.50        16.90   \n",
       "123      PM6      BP5T-4F         24.60    0.888   76.30        16.70   \n",
       "59   PBDB-TF        Aqx-2         25.38    0.860   76.25        16.64   \n",
       "25   PBDB-TF  BTP-4Cl(Y7)         25.40    0.867   75.00        16.50   \n",
       "119    PTQ10           Y6         24.81    0.870   75.10        16.21   \n",
       "83   PBDB-TF       BTP-6F         25.90    0.810   72.80        15.30   \n",
       "\n",
       "     Predicted PCE  \n",
       "171      16.421396  \n",
       "173      16.410303  \n",
       "48       16.056492  \n",
       "122      15.975606  \n",
       "49       16.334778  \n",
       "123      16.285002  \n",
       "59       16.216547  \n",
       "25       16.225552  \n",
       "119      16.066677  \n",
       "83       15.561440  "
      ]
     },
     "execution_count": 41,
     "metadata": {},
     "output_type": "execute_result"
    }
   ],
   "source": [
    "test.sort_values(by=['PCE max (%)'], inplace=True, ascending=False)\n",
    "test[0:10]"
   ]
  },
  {
   "cell_type": "markdown",
   "metadata": {},
   "source": [
    "\n",
    "The model is able to classify or identify the best combinations. On the other hand, it does not manage to predict correctly the candidates whose pce is >18%, which is understandable given the representability of its combinations in the training dataset. \n",
    "\n",
    "For optimization, we propose : \n",
    "* Collect more data with high PCE\n",
    "* Building others models (ensemble models, neural networks, etc.)\n",
    "* data augmentation techniques \n",
    "* Feature generation based on existing features"
   ]
  },
  {
   "cell_type": "markdown",
   "metadata": {},
   "source": [
    "# Collect more data with high PCE\n",
    "\n",
    "Additional data were collected and added to our initial dataset. It contains data of combinations with a PCE between 12% and 18.77%. This data will undoubtedly help us for better predictions."
   ]
  },
  {
   "cell_type": "code",
   "execution_count": null,
   "metadata": {},
   "outputs": [],
   "source": [
    "'''Y6-C2 , PM6-Ir1.5 , 0.84 26.1 78 17.1\n",
    "Y6 , D18 , 0.86 27.7 77 18.2\n",
    "BTP-eC9 , PM6 ,0.84\t26.2 ,81 ,17.8\n",
    "BTP-4Cl-12 , PM6 , 0.86 , 25.6 , 78 ,17.0\n",
    "BTP-BO-4Cl , PM6 , 0.85 , 26.1 ,78 , 17.3\n",
    "BTP-2F-ThCl , PM6 ,0.87 ,25.4 , 77 , 17.1'''"
   ]
  },
  {
   "cell_type": "code",
   "execution_count": 60,
   "metadata": {},
   "outputs": [],
   "source": [
    "#Statistics for our new dataset"
   ]
  },
  {
   "cell_type": "markdown",
   "metadata": {},
   "source": [
    "# Building others models\n",
    "\n",
    "we'll test : \n",
    "\n",
    "* Ensemble Models\n",
    "* Neural Network \n",
    "*\n"
   ]
  },
  {
   "cell_type": "code",
   "execution_count": null,
   "metadata": {},
   "outputs": [],
   "source": []
  },
  {
   "cell_type": "code",
   "execution_count": null,
   "metadata": {},
   "outputs": [],
   "source": []
  },
  {
   "cell_type": "markdown",
   "metadata": {},
   "source": [
    "# Data augmentation techniques"
   ]
  },
  {
   "cell_type": "code",
   "execution_count": null,
   "metadata": {},
   "outputs": [],
   "source": []
  },
  {
   "cell_type": "code",
   "execution_count": null,
   "metadata": {},
   "outputs": [],
   "source": []
  },
  {
   "cell_type": "code",
   "execution_count": null,
   "metadata": {},
   "outputs": [],
   "source": []
  },
  {
   "cell_type": "code",
   "execution_count": null,
   "metadata": {},
   "outputs": [],
   "source": []
  },
  {
   "cell_type": "markdown",
   "metadata": {},
   "source": [
    "# Feature generation based on existing features"
   ]
  },
  {
   "cell_type": "code",
   "execution_count": null,
   "metadata": {},
   "outputs": [],
   "source": []
  },
  {
   "cell_type": "code",
   "execution_count": null,
   "metadata": {},
   "outputs": [],
   "source": []
  },
  {
   "cell_type": "code",
   "execution_count": 62,
   "metadata": {},
   "outputs": [],
   "source": []
  },
  {
   "cell_type": "code",
   "execution_count": null,
   "metadata": {},
   "outputs": [],
   "source": []
  }
 ],
 "metadata": {
  "kernelspec": {
   "display_name": "Python 3 (ipykernel)",
   "language": "python",
   "name": "python3"
  },
  "language_info": {
   "codemirror_mode": {
    "name": "ipython",
    "version": 3
   },
   "file_extension": ".py",
   "mimetype": "text/x-python",
   "name": "python",
   "nbconvert_exporter": "python",
   "pygments_lexer": "ipython3",
   "version": "3.9.16"
  }
 },
 "nbformat": 4,
 "nbformat_minor": 2
}
